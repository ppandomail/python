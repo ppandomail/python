{
 "cells": [
  {
   "cell_type": "markdown",
   "id": "6add0ba9-49f6-44bf-be25-d7876bac7542",
   "metadata": {},
   "source": [
    "# Jupiter Notebooks "
   ]
  },
  {
   "cell_type": "markdown",
   "id": "1714cb31-8f2c-4870-8d08-45b5cf2c7475",
   "metadata": {},
   "source": [
    "* Para utilizarlo con Python y poder hacer Data Science"
   ]
  },
  {
   "cell_type": "markdown",
   "id": "a4275eb1-5881-456d-973d-8d59be07dc66",
   "metadata": {},
   "source": [
    "## ¿Qué son?\n",
    "\n",
    "* Notebook es una aplicación web para crear y compartir código\n",
    "* Utilizan celdas para el desarrollo\n",
    "* Utilidad de los notebooks:\n",
    "  * Ejecutar código en celdas\n",
    "  * Guardar imágenes y tablas\n",
    "  * Fácil de compartir"
   ]
  },
  {
   "cell_type": "markdown",
   "id": "1222c469-0e34-40d9-a10a-70f42be552a2",
   "metadata": {},
   "source": [
    "## Jupyter notebook vs jupyterlab\n",
    "\n",
    "* **Jupyter Notebook**: cuaderno/hoja de trabajo\n",
    "* **JupyterLab**: interfaz para manejar varios notebooks al mismo tiempo"
   ]
  },
  {
   "cell_type": "markdown",
   "id": "0a7090e0-7ca3-4cb5-8bc9-70c6c461e0f6",
   "metadata": {},
   "source": [
    "## Anaconda Navigator\n",
    "\n",
    "* Es una distibución de código abierto de los lenguajes de programación Python y R, que se utilizan para aplicaciones de Data Science, ML e IA\n",
    "* Permite trabajar con paquetes y entornos sin necesidad de escribir comandos conda en una ventana de terminal\n",
    "* Pasos:\n",
    "\n",
    "1. [Descargar anaconda: https://www.anaconda.com/download](https://www.anaconda.com/download)\n",
    "2. Ingresar el email\n",
    "3. Envian email para descargar el instalador\n",
    "4. Ejecutar el instalador\n",
    "5. Abrir Anaconda\n",
    "6. Abrir JupyterLab\n",
    "7. Click en Notebook Python\n",
    "8. Escribir en una celda: print('Hola mundo')\n",
    "9. Ejecutar la celda con el botón que parece triángulo (>)\n",
    "10. Si muestra 'Hola Mundo', ¡Felicitaciones!"
   ]
  },
  {
   "cell_type": "markdown",
   "id": "9945dde9-0d32-4303-b323-4a780b82b66f",
   "metadata": {},
   "source": [
    "## Cómo compartir notebook\n",
    "\n",
    "|              | Notebook en .ipynb           | Página web en .html            |\n",
    "| --           | --                           | --                             |\n",
    "| **Lo bueno** | otros pueden ejecutar código | No hace falta instalar nada    |\n",
    "| **Lo malo**  | necesitas tener Jupyter      | solo se puede leer lo que está |\n",
    "\n",
    "* File/Save and Export Notebook As/HTML"
   ]
  }
 ],
 "metadata": {
  "kernelspec": {
   "display_name": "Python [conda env:base] *",
   "language": "python",
   "name": "conda-base-py"
  },
  "language_info": {
   "codemirror_mode": {
    "name": "ipython",
    "version": 3
   },
   "file_extension": ".py",
   "mimetype": "text/x-python",
   "name": "python",
   "nbconvert_exporter": "python",
   "pygments_lexer": "ipython3",
   "version": "3.12.7"
  }
 },
 "nbformat": 4,
 "nbformat_minor": 5
}
