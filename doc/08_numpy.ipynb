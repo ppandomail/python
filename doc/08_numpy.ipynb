{
 "cells": [
  {
   "cell_type": "markdown",
   "id": "9d183f40-918c-44ef-af92-1574d2aadf5e",
   "metadata": {},
   "source": [
    "# Numpy"
   ]
  },
  {
   "cell_type": "markdown",
   "id": "0b4456df-f540-44e7-a7b6-f02ceb53e9f8",
   "metadata": {},
   "source": [
    "* Paquete fundamental para cómputo científico en Python\n",
    "* Sirve para crear y utilizar vectores y matrices (ndarray)\n",
    "* Realizar cálculos estadísticos y matemáticos"
   ]
  },
  {
   "cell_type": "code",
   "execution_count": 39,
   "id": "093b15b2-3cff-416a-a11b-4e9f79fe2bf8",
   "metadata": {},
   "outputs": [],
   "source": [
    "import numpy as np\n",
    "import matplotlib.pyplot as plt"
   ]
  },
  {
   "cell_type": "code",
   "execution_count": 40,
   "id": "bfc6283c-09dd-48c7-b08f-10fe2422ea4b",
   "metadata": {},
   "outputs": [],
   "source": [
    "numeros_primos = [2, 3, 5, 7, 11, 13, 17, 19, 23, 29]"
   ]
  },
  {
   "cell_type": "code",
   "execution_count": 41,
   "id": "9a87d9bd-5b38-459d-8aaa-9b0c03d3f828",
   "metadata": {},
   "outputs": [
    {
     "data": {
      "text/plain": [
       "array([ 2,  3,  5,  7, 11, 13, 17, 19, 23, 29])"
      ]
     },
     "execution_count": 41,
     "metadata": {},
     "output_type": "execute_result"
    }
   ],
   "source": [
    "array_primos = np.array(numeros_primos)\n",
    "array_primos"
   ]
  },
  {
   "cell_type": "code",
   "execution_count": 42,
   "id": "0d27e7d8-9b14-4c82-afa3-087b9128fc41",
   "metadata": {},
   "outputs": [
    {
     "data": {
      "text/plain": [
       "array([0., 0., 0., 0., 0., 0., 0., 0., 0., 0.])"
      ]
     },
     "execution_count": 42,
     "metadata": {},
     "output_type": "execute_result"
    }
   ],
   "source": [
    "array_zeros = np.zeros(10)\n",
    "array_zeros"
   ]
  },
  {
   "cell_type": "code",
   "execution_count": 43,
   "id": "ecc4ece6-6d42-4500-8d57-84319432378b",
   "metadata": {},
   "outputs": [
    {
     "data": {
      "text/plain": [
       "array([1., 1., 1., 1., 1., 1., 1., 1., 1., 1.])"
      ]
     },
     "execution_count": 43,
     "metadata": {},
     "output_type": "execute_result"
    }
   ],
   "source": [
    "array_unos = np.ones(10)\n",
    "array_unos"
   ]
  },
  {
   "cell_type": "code",
   "execution_count": 44,
   "id": "3181d08f-defb-4d0f-992a-7f6aff61a2f8",
   "metadata": {},
   "outputs": [
    {
     "data": {
      "text/plain": [
       "array([0, 1, 2, 3, 4, 5, 6, 7, 8, 9])"
      ]
     },
     "execution_count": 44,
     "metadata": {},
     "output_type": "execute_result"
    }
   ],
   "source": [
    "array_numeros = np.arange(10)\n",
    "array_numeros"
   ]
  },
  {
   "cell_type": "code",
   "execution_count": 45,
   "id": "fc56aaeb-6693-43e3-bb8b-e84bbd95da13",
   "metadata": {},
   "outputs": [
    {
     "data": {
      "text/plain": [
       "array([ 0,  2,  4,  6,  8, 10, 12, 14, 16, 18])"
      ]
     },
     "execution_count": 45,
     "metadata": {},
     "output_type": "execute_result"
    }
   ],
   "source": [
    "array_pares = np.arange(0, 20, 2)\n",
    "array_pares"
   ]
  },
  {
   "cell_type": "code",
   "execution_count": 46,
   "id": "58b0ca57-6621-4dd2-a9ed-e7a4158c9c7b",
   "metadata": {},
   "outputs": [
    {
     "data": {
      "text/plain": [
       "array([[ 0,  2,  4,  6,  8],\n",
       "       [10, 12, 14, 16, 18]])"
      ]
     },
     "execution_count": 46,
     "metadata": {},
     "output_type": "execute_result"
    }
   ],
   "source": [
    "# reshape para dos dimensiones\n",
    "array_pares.reshape(2, 5)"
   ]
  },
  {
   "cell_type": "markdown",
   "id": "caba7cb0-26e0-472f-bb6a-854966e8d713",
   "metadata": {},
   "source": [
    "## Operaciones aritméticas"
   ]
  },
  {
   "cell_type": "code",
   "execution_count": 47,
   "id": "7b01d9ff-b183-4289-a683-1a24e95e9c99",
   "metadata": {},
   "outputs": [
    {
     "data": {
      "text/plain": [
       "array([ 1,  3,  5,  7,  9, 11, 13, 15, 17, 19])"
      ]
     },
     "execution_count": 47,
     "metadata": {},
     "output_type": "execute_result"
    }
   ],
   "source": [
    "# operaciones sobre np arrat 1-dimension y 2-dimension\n",
    "array_impares =  array_pares + 1\n",
    "array_impares"
   ]
  },
  {
   "cell_type": "code",
   "execution_count": 48,
   "id": "af5dda4c-438a-47df-b79b-8b09af1c17a3",
   "metadata": {},
   "outputs": [
    {
     "data": {
      "text/plain": [
       "array([ 100,  300,  500,  700,  900, 1100, 1300, 1500, 1700, 1900])"
      ]
     },
     "execution_count": 48,
     "metadata": {},
     "output_type": "execute_result"
    }
   ],
   "source": [
    "# multiplicar por 100\n",
    "array_impares *  100"
   ]
  },
  {
   "cell_type": "code",
   "execution_count": 49,
   "id": "e3d7dc85-432f-4bf5-82cc-0156148d3af2",
   "metadata": {},
   "outputs": [
    {
     "data": {
      "text/plain": [
       "array([1, 1, 1, 1, 1, 1, 1, 1, 1, 1])"
      ]
     },
     "execution_count": 49,
     "metadata": {},
     "output_type": "execute_result"
    }
   ],
   "source": [
    "# restar entre arrays\n",
    "array_impares - array_pares"
   ]
  },
  {
   "cell_type": "markdown",
   "id": "85a5b82f-c217-42e5-9963-62c3c3dc5370",
   "metadata": {},
   "source": [
    "## Métodos asociados a estadística"
   ]
  },
  {
   "cell_type": "code",
   "execution_count": 50,
   "id": "0d498157-bed8-4c81-9e0c-51a4b9bd7955",
   "metadata": {},
   "outputs": [],
   "source": [
    "dataset_veloc_autos = [99, 86, 87, 88, 111, 86, 103, 87, 94, 78, 77, 85, 86]\n",
    "speed = np.array(dataset_veloc_autos)"
   ]
  },
  {
   "cell_type": "code",
   "execution_count": 51,
   "id": "f658c8ad-773f-4eb9-ac17-bacdedbacdda",
   "metadata": {},
   "outputs": [
    {
     "data": {
      "text/plain": [
       "1167"
      ]
     },
     "execution_count": 51,
     "metadata": {},
     "output_type": "execute_result"
    }
   ],
   "source": [
    "# suma\n",
    "speed.sum()"
   ]
  },
  {
   "cell_type": "code",
   "execution_count": 63,
   "id": "ef9f1051-2f6c-4fb0-90f5-1ec48b62a48c",
   "metadata": {},
   "outputs": [
    {
     "data": {
      "text/plain": [
       "89.76923076923077"
      ]
     },
     "execution_count": 63,
     "metadata": {},
     "output_type": "execute_result"
    }
   ],
   "source": [
    "# media: valor promedio\n",
    "speed.mean()"
   ]
  },
  {
   "cell_type": "code",
   "execution_count": 70,
   "id": "b91275e1-2c4c-4711-839b-6ec06c177080",
   "metadata": {},
   "outputs": [
    {
     "data": {
      "text/plain": [
       "87.0"
      ]
     },
     "execution_count": 70,
     "metadata": {},
     "output_type": "execute_result"
    }
   ],
   "source": [
    "# mediana: valor del punto medio\n",
    "mediana = np.median(speed)\n",
    "mediana"
   ]
  },
  {
   "cell_type": "code",
   "execution_count": 71,
   "id": "c8bb2c2c-e9fd-4294-91b2-16f2b15637e7",
   "metadata": {},
   "outputs": [],
   "source": [
    "from scipy import stats"
   ]
  },
  {
   "cell_type": "code",
   "execution_count": 72,
   "id": "99466d24-ade8-490c-af48-22b3aacdf3ed",
   "metadata": {},
   "outputs": [
    {
     "data": {
      "text/plain": [
       "ModeResult(mode=86, count=3)"
      ]
     },
     "execution_count": 72,
     "metadata": {},
     "output_type": "execute_result"
    }
   ],
   "source": [
    "# moda: valor más común\n",
    "moda = stats.mode(speed)\n",
    "moda"
   ]
  },
  {
   "cell_type": "code",
   "execution_count": 73,
   "id": "40982065-ca16-470b-80bc-69c1982b41c2",
   "metadata": {},
   "outputs": [
    {
     "data": {
      "text/plain": [
       "9.258292301032677"
      ]
     },
     "execution_count": 73,
     "metadata": {},
     "output_type": "execute_result"
    }
   ],
   "source": [
    "# desvio estándar: describe que tan dispersos están los valores\n",
    "# si es baja -> números cerca del valor medio\n",
    "# si es alta -> valores distribuidos en un rango más amplio\n",
    "speed.std()"
   ]
  },
  {
   "cell_type": "code",
   "execution_count": 68,
   "id": "74aa84ae-c8c6-4f44-b859-04681cbe8aaf",
   "metadata": {},
   "outputs": [
    {
     "data": {
      "text/plain": [
       "85.71597633136093"
      ]
     },
     "execution_count": 68,
     "metadata": {},
     "output_type": "execute_result"
    }
   ],
   "source": [
    "# varianza: indica que tan dispersos están los valores\n",
    "speed.var()"
   ]
  },
  {
   "cell_type": "code",
   "execution_count": 58,
   "id": "fc876178-7bce-40f4-ae56-d2c7564df2c3",
   "metadata": {},
   "outputs": [
    {
     "data": {
      "text/plain": [
       "43.0"
      ]
     },
     "execution_count": 58,
     "metadata": {},
     "output_type": "execute_result"
    }
   ],
   "source": [
    "# percentiles: se usan para proporcionar un número que describe el valor al cual un \n",
    "# porcentaje determinado de los valores es inferior\n",
    "ages = [5, 31, 43, 48, 50, 41, 7, 11, 15, 39, 80, 82, 32, 2, 8, 6, 25, 36, 27, 61, 31]\n",
    "\n",
    "percentil75 = np.percentile(ages, 75)\n",
    "percentil75 # La respuesta es 43, lo que significa que el 75 % de las personas tienen 43 años o menos"
   ]
  },
  {
   "cell_type": "markdown",
   "id": "7efb2a2d-a90a-4d75-ba67-46ffc23615f7",
   "metadata": {},
   "source": [
    "## Ordenar"
   ]
  },
  {
   "cell_type": "code",
   "execution_count": 75,
   "id": "9f2a60c7-2a60-4f43-9179-44bcb1892cea",
   "metadata": {},
   "outputs": [],
   "source": [
    "# ordenar un np array\n",
    "array_fibonacci = np.array([55, 0, 144, 1, 21, 89, 5, 8, 13, 1, 34, 3, 2])"
   ]
  },
  {
   "cell_type": "code",
   "execution_count": 76,
   "id": "417d73b0-1cc2-4eb1-b4be-86aeaeefe2a8",
   "metadata": {},
   "outputs": [
    {
     "data": {
      "text/plain": [
       "array([  0,   1,   1,   2,   3,   5,   8,  13,  21,  34,  55,  89, 144])"
      ]
     },
     "execution_count": 76,
     "metadata": {},
     "output_type": "execute_result"
    }
   ],
   "source": [
    "# orden ascendente\n",
    "np.sort(array_fibonacci)"
   ]
  },
  {
   "cell_type": "code",
   "execution_count": 77,
   "id": "ff97d8f1-f04d-4f2e-b3db-8cef6c880487",
   "metadata": {},
   "outputs": [
    {
     "data": {
      "text/plain": [
       "array([144,  89,  55,  34,  21,  13,   8,   5,   3,   2,   1,   1,   0])"
      ]
     },
     "execution_count": 77,
     "metadata": {},
     "output_type": "execute_result"
    }
   ],
   "source": [
    "# orden descendente\n",
    "-np.sort(-array_fibonacci)"
   ]
  },
  {
   "cell_type": "markdown",
   "id": "6510777b-cccf-4311-b8ee-d7a036c5da2c",
   "metadata": {},
   "source": [
    "## Selección de elementos"
   ]
  },
  {
   "cell_type": "code",
   "execution_count": 84,
   "id": "ed8d03cc-0d85-45d2-b3e5-ad0a3beb7cc1",
   "metadata": {},
   "outputs": [
    {
     "data": {
      "text/plain": [
       "array([[ 0,  2,  4,  6,  8],\n",
       "       [10, 12, 14, 16, 18]])"
      ]
     },
     "execution_count": 84,
     "metadata": {},
     "output_type": "execute_result"
    }
   ],
   "source": [
    "A = np.arange(0, 20, 2).reshape(2, 5)\n",
    "A"
   ]
  },
  {
   "cell_type": "code",
   "execution_count": 85,
   "id": "69f2392a-d778-410e-8dd5-0254dc105f3f",
   "metadata": {},
   "outputs": [
    {
     "data": {
      "text/plain": [
       "16"
      ]
     },
     "execution_count": 85,
     "metadata": {},
     "output_type": "execute_result"
    }
   ],
   "source": [
    "# seleccionar un elemento\n",
    "A[1, 3]"
   ]
  },
  {
   "cell_type": "code",
   "execution_count": 87,
   "id": "d0ebead6-6943-4f03-9d69-e6f91369b088",
   "metadata": {},
   "outputs": [
    {
     "data": {
      "text/plain": [
       "array([10, 12, 14, 16, 18])"
      ]
     },
     "execution_count": 87,
     "metadata": {},
     "output_type": "execute_result"
    }
   ],
   "source": [
    "# seleccionar varios elementos por fila\n",
    "A[1, :]"
   ]
  },
  {
   "cell_type": "code",
   "execution_count": 88,
   "id": "f4390145-336e-48eb-9bcc-d9fe8cc97fd5",
   "metadata": {},
   "outputs": [
    {
     "data": {
      "text/plain": [
       "array([ 2, 12])"
      ]
     },
     "execution_count": 88,
     "metadata": {},
     "output_type": "execute_result"
    }
   ],
   "source": [
    "# seleccionar varios elementos por columna\n",
    "A[:, 1]"
   ]
  },
  {
   "cell_type": "code",
   "execution_count": 90,
   "id": "ebbfde48-1b67-4438-879e-3d4f591057a1",
   "metadata": {},
   "outputs": [
    {
     "data": {
      "text/plain": [
       "array([ 0,  1,  5,  8, 13,  1,  3,  2])"
      ]
     },
     "execution_count": 90,
     "metadata": {},
     "output_type": "execute_result"
    }
   ],
   "source": [
    "# utilizar filter: menores de 20\n",
    "array_fibonacci[array_fibonacci < 20]"
   ]
  },
  {
   "cell_type": "markdown",
   "id": "16c7ab61-8e58-4013-b17b-9a2101e398ce",
   "metadata": {},
   "source": [
    "## Distribuciones de datos"
   ]
  },
  {
   "cell_type": "code",
   "execution_count": 59,
   "id": "04f8a83a-82b2-478c-836d-cfdb2aa12c00",
   "metadata": {},
   "outputs": [
    {
     "data": {
      "image/png": "[encoded data removed]",
      "text/plain": [
       "<Figure size 640x480 with 1 Axes>"
      ]
     },
     "metadata": {},
     "output_type": "display_data"
    }
   ],
   "source": [
    "# distribución de datos uniforme\n",
    "datos = np.random.uniform(0.0, 5.0, 250) # Crea una matriz con 250 números entre 0 y 5\n",
    "plt.hist(datos, 5) # 5 barras\n",
    "plt.show()"
   ]
  },
  {
   "cell_type": "markdown",
   "id": "a5a5b8b8-7efd-430d-93b0-08fd08549b26",
   "metadata": {},
   "source": [
    "* Primera barra representa cuántos valores de la matriz están entre 0 y 1\n",
    "* Segunda barra representa cuántos valores de la matriz están entre 1 y 2\n",
    "* Etc."
   ]
  },
  {
   "cell_type": "code",
   "execution_count": 61,
   "id": "df910c0a-a75a-496f-8d06-78094a2461bd",
   "metadata": {},
   "outputs": [
    {
     "data": {
      "image/png": "[encoded data removed]",
      "text/plain": [
       "<Figure size 640x480 with 1 Axes>"
      ]
     },
     "metadata": {},
     "output_type": "display_data"
    }
   ],
   "source": [
    "# distribución normal de datos: los valores se concentran alrededor de un valor dado\n",
    "datos = np.random.normal(5.0, 1.0, 100000) # 5.0 es el valor medio y 1.0 la desviación estándar\n",
    "plt.hist(datos, 100)\n",
    "plt.show()"
   ]
  },
  {
   "cell_type": "markdown",
   "id": "f08bd467-0be3-4bcf-bd56-7f3e370c2b15",
   "metadata": {},
   "source": [
    "## Diagrama de dispersión"
   ]
  },
  {
   "cell_type": "markdown",
   "id": "f4c25392-5b72-45f2-bca5-c7a70a647a8c",
   "metadata": {},
   "source": [
    "* Cada valor del conjunto de datos está representado por un punto"
   ]
  },
  {
   "cell_type": "code",
   "execution_count": 36,
   "id": "586596b3-9036-4b2c-a177-1edd6882c212",
   "metadata": {},
   "outputs": [
    {
     "data": {
      "image/png": "[encoded data removed]",
      "text/plain": [
       "<Figure size 640x480 with 1 Axes>"
      ]
     },
     "metadata": {},
     "output_type": "display_data"
    }
   ],
   "source": [
    "x_edad_auto = [5,7,8,7,2,17,2,9,4,11,12,9,6]\n",
    "y_veloc_auto = [99,86,87,88,111,86,103,87,94,78,77,85,86]\n",
    "\n",
    "plt.scatter(x_edad_auto, y_veloc_auto)\n",
    "plt.show()"
   ]
  },
  {
   "cell_type": "markdown",
   "id": "66754e84-514d-41d3-b972-9b82e95eac6c",
   "metadata": {},
   "source": [
    "* Los dos autos más rápidos tienen 2 años y el auto más lento 12 años\n",
    "* Parece que cuánto más nuevo es el auto, más rápido va (sólo se registró 13 casos)"
   ]
  },
  {
   "cell_type": "markdown",
   "id": "45f6e67a-4ef7-4d5c-9abc-5a7369270ad3",
   "metadata": {},
   "source": [
    "## Distribución de datos aleatorios"
   ]
  },
  {
   "cell_type": "code",
   "execution_count": 38,
   "id": "012f4b86-15e5-4555-984f-818017148eea",
   "metadata": {},
   "outputs": [
    {
     "data": {
      "image/png": "[encoded data removed]",
      "text/plain": [
       "<Figure size 640x480 with 1 Axes>"
      ]
     },
     "metadata": {},
     "output_type": "display_data"
    }
   ],
   "source": [
    "x = np.random.normal(5.0, 1.0, 1000)\n",
    "y = np.random.normal(10.0, 2.0, 1000)\n",
    "\n",
    "plt.scatter(x, y)\n",
    "plt.show()"
   ]
  },
  {
   "cell_type": "markdown",
   "id": "40f39475-aea4-4418-9f78-5cc758e4bc27",
   "metadata": {},
   "source": [
    "* Los puntos se concentran alrededor del valor 5 en el eje x y 10 en el eje y\n",
    "* También se ve que la dispersión es mayor en el eje y que en el eje x"
   ]
  },
  {
   "cell_type": "markdown",
   "id": "d2fafb10-71a7-4137-91d3-33e0434e9c46",
   "metadata": {},
   "source": [
    "## Regresión lineal"
   ]
  },
  {
   "cell_type": "markdown",
   "id": "fa8c300a-668f-441f-809a-d7cb048bc91e",
   "metadata": {},
   "source": [
    "* Regresión: se usa cuando se intenta encontrar la relación entre variables. Se usa para predecir el resultado de eventos futuros\n",
    "* Regresión lineal: utiliza la relación para dibujar una línea recta a través de todos los puntos. Para predecir valores futuros"
   ]
  },
  {
   "cell_type": "code",
   "execution_count": 39,
   "id": "9b6be6e5-4859-49c6-b584-e8eaae41c476",
   "metadata": {},
   "outputs": [],
   "source": [
    "from scipy import stats"
   ]
  },
  {
   "cell_type": "code",
   "execution_count": 40,
   "id": "5f7dc131-7228-4d74-baa6-85b2fa2c4cdb",
   "metadata": {},
   "outputs": [
    {
     "data": {
      "image/png": "[encoded data removed]",
      "text/plain": [
       "<Figure size 640x480 with 1 Axes>"
      ]
     },
     "metadata": {},
     "output_type": "display_data"
    }
   ],
   "source": [
    "# slope: pendiente\n",
    "# intercept: intersección\n",
    "# r: r-valor (coef. de determinación o correlación)\n",
    "# p: p-valor (prueba de hipótesis de no correlación)\n",
    "# std_err: error estándar del gradiente estimado\n",
    "slope, intercept, r, p, std_err = stats.linregress(x_edad_auto, y_veloc_auto)\n",
    "\n",
    "def myfunc(x):\n",
    "  return slope * x + intercept\n",
    "\n",
    "mymodel = list(map(myfunc, x_edad_auto))\n",
    "\n",
    "plt.scatter(x_edad_auto, y_veloc_auto)\n",
    "plt.plot(x_edad_auto, mymodel)\n",
    "plt.show()"
   ]
  },
  {
   "cell_type": "markdown",
   "id": "1f4258cb-dacf-498f-ad4e-07cc15d0bd36",
   "metadata": {},
   "source": [
    "### R de Relación"
   ]
  },
  {
   "cell_type": "code",
   "execution_count": 41,
   "id": "4e7eb1e9-64e5-455a-9729-47dd1bea96c2",
   "metadata": {},
   "outputs": [
    {
     "data": {
      "text/plain": [
       "-0.758591524376155"
      ]
     },
     "execution_count": 41,
     "metadata": {},
     "output_type": "execute_result"
    }
   ],
   "source": [
    "slope, intercept, rvalue, pvalue, stderr = stats.linregress(x_edad_auto, y_veloc_auto)\n",
    "rvalue"
   ]
  },
  {
   "cell_type": "markdown",
   "id": "2bea51a6-03b3-4781-b812-bb90fb1653ba",
   "metadata": {},
   "source": [
    "* El rvalue varía de -1 a 1, donde 0 significa que no hay relación y 1 (y -1) significa que hay 100 % de relación\n",
    "* -0.76 muestra que existe una relación, no perfecta, pero indica que se puede usar la regresión lineal en futuras predicciones"
   ]
  },
  {
   "cell_type": "markdown",
   "id": "8a01ceee-927d-4fda-a7ad-3ed054218088",
   "metadata": {},
   "source": [
    "### Predecir valores futuros"
   ]
  },
  {
   "cell_type": "markdown",
   "id": "752493e3-4381-4a94-8b02-8a24a5f7921a",
   "metadata": {},
   "source": [
    "* **Ejemplo**: predecir la velocidad de un auto de 10 años"
   ]
  },
  {
   "cell_type": "code",
   "execution_count": 42,
   "id": "a8612c69-103f-41d4-9eab-a867d24363d3",
   "metadata": {},
   "outputs": [
    {
     "data": {
      "text/plain": [
       "85.59308314937454"
      ]
     },
     "execution_count": 42,
     "metadata": {},
     "output_type": "execute_result"
    }
   ],
   "source": [
    "speed = myfunc(10)\n",
    "speed"
   ]
  },
  {
   "cell_type": "markdown",
   "id": "292f9645-82b8-4f19-98d6-e027ac60f9e7",
   "metadata": {},
   "source": [
    "## Regresión polinomial"
   ]
  },
  {
   "cell_type": "code",
   "execution_count": 43,
   "id": "013e7944-e4bc-422d-a0f4-27ec269ae024",
   "metadata": {},
   "outputs": [
    {
     "data": {
      "image/png": "[encoded data removed]",
      "text/plain": [
       "<Figure size 640x480 with 1 Axes>"
      ]
     },
     "metadata": {},
     "output_type": "display_data"
    }
   ],
   "source": [
    "x_hs_dia = [1,2,3,5,6,7,8,9,10,12,13,14,15,16,18,19,21,22]\n",
    "y_veloc  = [100,90,80,60,60,55,60,65,70,70,75,76,78,79,90,99,99,100]\n",
    "\n",
    "mymodel = np.poly1d(np.polyfit(x_hs_dia, y_veloc, 3))\n",
    "\n",
    "myline = np.linspace(1, 22, 100)\n",
    "\n",
    "plt.scatter(x_hs_dia, y_veloc)\n",
    "plt.plot(myline, mymodel(myline))\n",
    "plt.show()"
   ]
  },
  {
   "cell_type": "markdown",
   "id": "7010c162-ef8f-48ae-9931-c70713f6c71d",
   "metadata": {},
   "source": [
    "### R-cuadrado"
   ]
  },
  {
   "cell_type": "markdown",
   "id": "12e2f42e-43a4-4b59-8229-009b3f6ff79c",
   "metadata": {},
   "source": [
    "* Determinar que tan buena es la relación entre los valores de x e y, si no hay relación, la regresión polinomial no se puede utilizar para predecir nada\n",
    "* La relación se mide con un valor llamado r-cuadrado, varía entre 0 y 1:\n",
    "    * 0: no hay relación\n",
    "    * 1: relación del 100%"
   ]
  },
  {
   "cell_type": "code",
   "execution_count": 44,
   "id": "11e36773-ed0c-47a2-9ef5-68fe70f6ee22",
   "metadata": {},
   "outputs": [],
   "source": [
    "from sklearn.metrics import r2_score"
   ]
  },
  {
   "cell_type": "code",
   "execution_count": 45,
   "id": "65d685dc-5cd0-4340-a5e3-c91e97c419fa",
   "metadata": {},
   "outputs": [
    {
     "data": {
      "text/plain": [
       "0.9432150416451025"
      ]
     },
     "execution_count": 45,
     "metadata": {},
     "output_type": "execute_result"
    }
   ],
   "source": [
    "r2 = r2_score(y_veloc, mymodel(x_hs_dia))\n",
    "r2"
   ]
  },
  {
   "cell_type": "markdown",
   "id": "c13b92ba-d48d-42b5-8663-260014d04561",
   "metadata": {},
   "source": [
    "### Predecir valores futuros"
   ]
  },
  {
   "cell_type": "markdown",
   "id": "4333c69e-30ec-4037-92ca-e1d3ac96badf",
   "metadata": {},
   "source": [
    "* **Ejemplo**: predecir la velocidad de un auto que pasa por el peaje alrededor de las 17:00"
   ]
  },
  {
   "cell_type": "code",
   "execution_count": 46,
   "id": "8b4a2027-94c4-4ff1-9286-ec72fa4210bd",
   "metadata": {},
   "outputs": [
    {
     "data": {
      "text/plain": [
       "88.87331269697991"
      ]
     },
     "execution_count": 46,
     "metadata": {},
     "output_type": "execute_result"
    }
   ],
   "source": [
    "speed = mymodel(17)\n",
    "speed"
   ]
  }
 ],
 "metadata": {
  "kernelspec": {
   "display_name": "Python [conda env:base] *",
   "language": "python",
   "name": "conda-base-py"
  },
  "language_info": {
   "codemirror_mode": {
    "name": "ipython",
    "version": 3
   },
   "file_extension": ".py",
   "mimetype": "text/x-python",
   "name": "python",
   "nbconvert_exporter": "python",
   "pygments_lexer": "ipython3",
   "version": "3.12.7"
  }
 },
 "nbformat": 4,
 "nbformat_minor": 5
}
