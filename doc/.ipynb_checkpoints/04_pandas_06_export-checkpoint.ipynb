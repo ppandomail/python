{
 "cells": [
  {
   "cell_type": "markdown",
   "id": "729ee1e0-cd58-47e3-8ba2-330b35d540ee",
   "metadata": {},
   "source": [
    "# Pandas - Export"
   ]
  },
  {
   "cell_type": "code",
   "execution_count": 1,
   "id": "f5dd8b3d-a80b-48ec-88db-08f6b5e95870",
   "metadata": {},
   "outputs": [],
   "source": [
    "import pandas as pd"
   ]
  },
  {
   "cell_type": "code",
   "execution_count": 4,
   "id": "2e9902ab-8522-4c64-ad16-98277326b8ce",
   "metadata": {},
   "outputs": [
    {
     "data": {
      "text/html": [
       "<div>\n",
       "<style scoped>\n",
       "    .dataframe tbody tr th:only-of-type {\n",
       "        vertical-align: middle;\n",
       "    }\n",
       "\n",
       "    .dataframe tbody tr th {\n",
       "        vertical-align: top;\n",
       "    }\n",
       "\n",
       "    .dataframe thead th {\n",
       "        text-align: right;\n",
       "    }\n",
       "</style>\n",
       "<table border=\"1\" class=\"dataframe\">\n",
       "  <thead>\n",
       "    <tr style=\"text-align: right;\">\n",
       "      <th></th>\n",
       "      <th>Nombre</th>\n",
       "      <th>Cantidad</th>\n",
       "      <th>es_FBK</th>\n",
       "      <th>Anio</th>\n",
       "    </tr>\n",
       "  </thead>\n",
       "  <tbody>\n",
       "    <tr>\n",
       "      <th>0</th>\n",
       "      <td>Facebook</td>\n",
       "      <td>2449</td>\n",
       "      <td>True</td>\n",
       "      <td>2006</td>\n",
       "    </tr>\n",
       "    <tr>\n",
       "      <th>1</th>\n",
       "      <td>Twitter</td>\n",
       "      <td>339</td>\n",
       "      <td>False</td>\n",
       "      <td>2006</td>\n",
       "    </tr>\n",
       "    <tr>\n",
       "      <th>2</th>\n",
       "      <td>Instagram</td>\n",
       "      <td>1000</td>\n",
       "      <td>True</td>\n",
       "      <td>2010</td>\n",
       "    </tr>\n",
       "    <tr>\n",
       "      <th>3</th>\n",
       "      <td>YouTube</td>\n",
       "      <td>2000</td>\n",
       "      <td>False</td>\n",
       "      <td>2005</td>\n",
       "    </tr>\n",
       "    <tr>\n",
       "      <th>4</th>\n",
       "      <td>LinkedIn</td>\n",
       "      <td>663</td>\n",
       "      <td>False</td>\n",
       "      <td>2003</td>\n",
       "    </tr>\n",
       "    <tr>\n",
       "      <th>5</th>\n",
       "      <td>WhastsApp</td>\n",
       "      <td>1600</td>\n",
       "      <td>True</td>\n",
       "      <td>2009</td>\n",
       "    </tr>\n",
       "  </tbody>\n",
       "</table>\n",
       "</div>"
      ],
      "text/plain": [
       "      Nombre  Cantidad  es_FBK  Anio\n",
       "0   Facebook      2449    True  2006\n",
       "1    Twitter       339   False  2006\n",
       "2  Instagram      1000    True  2010\n",
       "3    YouTube      2000   False  2005\n",
       "4   LinkedIn       663   False  2003\n",
       "5  WhastsApp      1600    True  2009"
      ]
     },
     "execution_count": 4,
     "metadata": {},
     "output_type": "execute_result"
    }
   ],
   "source": [
    "fbk = ['Facebook', 2449, True, 2006]\n",
    "twt = ['Twitter', 339, False, 2006]\n",
    "igm = ['Instagram', 1000, True, 2010]\n",
    "ytb = ['YouTube', 2000, False, 2005]\n",
    "lkn = ['LinkedIn', 663, False, 2003]\n",
    "wsp = ['WhastsApp', 1600, True, 2009]\n",
    "\n",
    "rrss = [fbk, twt, igm, ytb, lkn, wsp]\n",
    "\n",
    "df = pd.DataFrame(rrss, columns=['Nombre', 'Cantidad', 'es_FBK', 'Anio'])\n",
    "df"
   ]
  },
  {
   "cell_type": "markdown",
   "id": "ccbeadc1-e5b2-4f43-9bb2-d30ba35c4dd1",
   "metadata": {},
   "source": [
    "## Exportar a Excel"
   ]
  },
  {
   "cell_type": "code",
   "execution_count": 6,
   "id": "abb03b3b-827f-4025-9ced-d0e7a43b6449",
   "metadata": {},
   "outputs": [],
   "source": [
    "# Exportar df a excel\n",
    "df.to_excel('/Users/ppando/Materias/python/doc/data/pandas_datos_export.xlsx')"
   ]
  },
  {
   "cell_type": "code",
   "execution_count": 7,
   "id": "682a80e3-6627-455a-8f1c-abb21205bff7",
   "metadata": {},
   "outputs": [],
   "source": [
    "# Exportar df a excel sin indices \n",
    "df.to_excel('/Users/ppando/Materias/python/doc/data/pandas_datos_export_no_index.xlsx', index=False)"
   ]
  },
  {
   "cell_type": "markdown",
   "id": "783436f7-4a32-4e0e-b682-991d86ce6c6f",
   "metadata": {},
   "source": [
    "## Exportar a CSV"
   ]
  },
  {
   "cell_type": "code",
   "execution_count": 8,
   "id": "fe7ddc39-d42a-4b57-baf5-59d8c959dc2e",
   "metadata": {},
   "outputs": [],
   "source": [
    "# Exportar df a csv\n",
    "df.to_csv('/Users/ppando/Materias/python/doc/data/pandas_datos_export.csv')"
   ]
  },
  {
   "cell_type": "code",
   "execution_count": 9,
   "id": "fd896d8d-1e3b-403f-b6ca-ed7a27df0eca",
   "metadata": {},
   "outputs": [],
   "source": [
    "# Exportar df a csv sin indices\n",
    "df.to_csv('/Users/ppando/Materias/python/doc/data/pandas_datos_export_no_index.csv', index=False)"
   ]
  },
  {
   "cell_type": "code",
   "execution_count": 10,
   "id": "673ba161-6ad0-4f2c-b2ba-7a25e8951442",
   "metadata": {},
   "outputs": [],
   "source": [
    "# Exportar df a csv sin indices y con puntos y coma\n",
    "df.to_csv('/Users/ppando/Materias/python/doc/data/pandas_datos_export_no_index_pyc.csv', index=False, sep=';')"
   ]
  }
 ],
 "metadata": {
  "kernelspec": {
   "display_name": "Python [conda env:base] *",
   "language": "python",
   "name": "conda-base-py"
  },
  "language_info": {
   "codemirror_mode": {
    "name": "ipython",
    "version": 3
   },
   "file_extension": ".py",
   "mimetype": "text/x-python",
   "name": "python",
   "nbconvert_exporter": "python",
   "pygments_lexer": "ipython3",
   "version": "3.12.7"
  }
 },
 "nbformat": 4,
 "nbformat_minor": 5
}
