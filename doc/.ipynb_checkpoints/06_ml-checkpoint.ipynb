{
 "cells": [
  {
   "cell_type": "markdown",
   "id": "f035a41c-5900-429b-8ef4-4fa3287ec9c8",
   "metadata": {},
   "source": [
    "# ML"
   ]
  },
  {
   "cell_type": "markdown",
   "id": "11031caf-1f64-4e61-b5d2-32c45d734eb2",
   "metadata": {},
   "source": [
    "* Hace que la computadora aprenda a partir del estudio de datos y estadísticas\n",
    "* Es un programa que analiza datos y aprende a predecir el resultado"
   ]
  },
  {
   "cell_type": "markdown",
   "id": "da4b4f66-2386-42b5-ba8e-cb8ae4f024a9",
   "metadata": {},
   "source": [
    "## Dataset"
   ]
  },
  {
   "cell_type": "markdown",
   "id": "328829e7-1c34-4aa7-a333-89397d972008",
   "metadata": {},
   "source": [
    "* Colección de datos\n",
    "* Ejemplo: [99,86,87,88,111,86,103,87,94,78,77,85,86]"
   ]
  },
  {
   "cell_type": "markdown",
   "id": "61434f01-0ed2-4654-918b-981056923366",
   "metadata": {},
   "source": [
    "## Tipos de datos"
   ]
  },
  {
   "cell_type": "markdown",
   "id": "0accb75e-c6aa-4112-8f9a-b127649c9d5f",
   "metadata": {},
   "source": [
    "* **Númerico** \n",
    "    * **discretos**: datos contados limitados a números enteros (autos que pasan)\n",
    "    * **continuos**: datos medidos que pueden ser cualquier número (precio)\n",
    "* **Categórico**: valores que no se pueden comparar entre sí (color)\n",
    "* **Ordinal**: pueden compararse entre sí (notas)"
   ]
  },
  {
   "cell_type": "markdown",
   "id": "85a5b82f-c217-42e5-9963-62c3c3dc5370",
   "metadata": {},
   "source": [
    "## Media, mediana y moda"
   ]
  },
  {
   "cell_type": "markdown",
   "id": "113bc83b-b800-4125-b63c-78b1149561e3",
   "metadata": {},
   "source": [
    "* **Media**: valor promedio\n",
    "* **Mediana**: valor del punto medio\n",
    "* **Moda**: valor mas común"
   ]
  },
  {
   "cell_type": "markdown",
   "id": "c94344de-ebaa-46ad-8e6a-d358d9599368",
   "metadata": {},
   "source": [
    "* **Ejemplo**: se ha registrado la velocidad de 13 autos\n",
    "    * speed = [99,86,87,88,111,86,103,87,94,78,77,85,86]"
   ]
  },
  {
   "cell_type": "code",
   "execution_count": 1,
   "id": "093b15b2-3cff-416a-a11b-4e9f79fe2bf8",
   "metadata": {},
   "outputs": [],
   "source": [
    "import numpy"
   ]
  },
  {
   "cell_type": "code",
   "execution_count": 2,
   "id": "ae6d8ae4-49e9-46e7-b7b3-a0c51c5e1104",
   "metadata": {},
   "outputs": [],
   "source": [
    "speed = [99,86,87,88,111,86,103,87,94,78,77,85,86]"
   ]
  },
  {
   "cell_type": "code",
   "execution_count": 3,
   "id": "ef9f1051-2f6c-4fb0-90f5-1ec48b62a48c",
   "metadata": {},
   "outputs": [
    {
     "data": {
      "text/plain": [
       "89.76923076923077"
      ]
     },
     "execution_count": 3,
     "metadata": {},
     "output_type": "execute_result"
    }
   ],
   "source": [
    "media = numpy.mean(speed)\n",
    "media"
   ]
  },
  {
   "cell_type": "code",
   "execution_count": 4,
   "id": "b91275e1-2c4c-4711-839b-6ec06c177080",
   "metadata": {},
   "outputs": [
    {
     "data": {
      "text/plain": [
       "87.0"
      ]
     },
     "execution_count": 4,
     "metadata": {},
     "output_type": "execute_result"
    }
   ],
   "source": [
    "mediana = numpy.median(speed)\n",
    "mediana"
   ]
  },
  {
   "cell_type": "code",
   "execution_count": 5,
   "id": "c8bb2c2c-e9fd-4294-91b2-16f2b15637e7",
   "metadata": {},
   "outputs": [],
   "source": [
    "from scipy import stats"
   ]
  },
  {
   "cell_type": "code",
   "execution_count": 6,
   "id": "99466d24-ade8-490c-af48-22b3aacdf3ed",
   "metadata": {},
   "outputs": [
    {
     "data": {
      "text/plain": [
       "ModeResult(mode=86, count=3)"
      ]
     },
     "execution_count": 6,
     "metadata": {},
     "output_type": "execute_result"
    }
   ],
   "source": [
    "moda = stats.mode(speed)\n",
    "moda"
   ]
  },
  {
   "cell_type": "markdown",
   "id": "5e0c5a09-80a8-4395-b7d0-2ca0a8561c32",
   "metadata": {},
   "source": [
    "## Desviación estándar"
   ]
  },
  {
   "cell_type": "markdown",
   "id": "70e9a365-cc02-466b-99c6-2f0509a0ec6e",
   "metadata": {},
   "source": [
    "* Describe que tan dispersos están los valores\n",
    "* si es baja -> números cerca del valor medio\n",
    "* si es alta -> valores distribuidos en un rango más amplio"
   ]
  },
  {
   "cell_type": "markdown",
   "id": "04b2c209-5cb6-488d-a315-c864543691c0",
   "metadata": {},
   "source": [
    "* **Ejemplo**: se ha registrado la velocidad de 7 autos\n",
    "    *  speed = [86,87,88,86,87,85,86]"
   ]
  },
  {
   "cell_type": "code",
   "execution_count": 7,
   "id": "5605cf32-373e-4275-95d6-4c11cd3fc431",
   "metadata": {},
   "outputs": [],
   "source": [
    "speed = [86,87,88,86,87,85,86]"
   ]
  },
  {
   "cell_type": "code",
   "execution_count": 8,
   "id": "40982065-ca16-470b-80bc-69c1982b41c2",
   "metadata": {},
   "outputs": [
    {
     "data": {
      "text/plain": [
       "0.9035079029052513"
      ]
     },
     "execution_count": 8,
     "metadata": {},
     "output_type": "execute_result"
    }
   ],
   "source": [
    "sd = numpy.std(speed)\n",
    "sd"
   ]
  },
  {
   "cell_type": "markdown",
   "id": "999017c6-1020-42d1-981d-c9f218370566",
   "metadata": {},
   "source": [
    "## Varianza"
   ]
  },
  {
   "cell_type": "markdown",
   "id": "e2980615-6846-4840-a649-e55967acd48f",
   "metadata": {},
   "source": [
    "* Indica que tan dispersos están los valores\n",
    "* Pasos:\n",
    "  1. Encontrar la media\n",
    "  2. Para cada valor encontrar la diferencia con la media\n",
    "  3. Para cada diferencia encontrar el valor cuadrado\n",
    "  4. La varianza es el número promedio de estas diferencias al cuadrado     "
   ]
  },
  {
   "cell_type": "code",
   "execution_count": 9,
   "id": "0edbcd4d-378f-4e23-8167-6a53be981a39",
   "metadata": {},
   "outputs": [],
   "source": [
    "speed = [32,111,138,28,59,77,97]"
   ]
  },
  {
   "cell_type": "code",
   "execution_count": 10,
   "id": "74aa84ae-c8c6-4f44-b859-04681cbe8aaf",
   "metadata": {},
   "outputs": [
    {
     "data": {
      "text/plain": [
       "1432.2448979591834"
      ]
     },
     "execution_count": 10,
     "metadata": {},
     "output_type": "execute_result"
    }
   ],
   "source": [
    "var = numpy.var(speed)\n",
    "var"
   ]
  },
  {
   "cell_type": "code",
   "execution_count": 11,
   "id": "4b4e791e-e339-4b95-8b10-508e5c1c1526",
   "metadata": {},
   "outputs": [
    {
     "data": {
      "text/plain": [
       "37.84501153334721"
      ]
     },
     "execution_count": 11,
     "metadata": {},
     "output_type": "execute_result"
    }
   ],
   "source": [
    "sd = numpy.std(speed)\n",
    "sd"
   ]
  },
  {
   "cell_type": "markdown",
   "id": "37c21d74-111c-4408-9880-2dc14c8d3342",
   "metadata": {},
   "source": [
    "## Percentiles"
   ]
  },
  {
   "cell_type": "markdown",
   "id": "7b679129-302f-45c4-9060-91db3c68c45d",
   "metadata": {},
   "source": [
    "* Se usan para proporcionar un número que describe el valor al cual un porcentaje determinado de los valores es inferior"
   ]
  },
  {
   "cell_type": "markdown",
   "id": "176867ed-1d7f-4865-8def-a6a288683062",
   "metadata": {},
   "source": [
    "* **Ejemplo**: edades de todas las personas que viven en una calle\n",
    "    * ages = [5,31,43,48,50,41,7,11,15,39,80,82,32,2,8,6,25,36,27,61,31]  "
   ]
  },
  {
   "cell_type": "markdown",
   "id": "7b039306-c828-4e63-894b-136f98dc0b5c",
   "metadata": {},
   "source": [
    "* ¿Cuál es el percentil 75?\n",
    "    * La respuesta es 43, lo que significa que el 75 % de las personas tienen 43 años o menos"
   ]
  },
  {
   "cell_type": "code",
   "execution_count": 12,
   "id": "fc876178-7bce-40f4-ae56-d2c7564df2c3",
   "metadata": {},
   "outputs": [
    {
     "data": {
      "text/plain": [
       "43.0"
      ]
     },
     "execution_count": 12,
     "metadata": {},
     "output_type": "execute_result"
    }
   ],
   "source": [
    "ages = [5,31,43,48,50,41,7,11,15,39,80,82,32,2,8,6,25,36,27,61,31]\n",
    "\n",
    "percentil75 = numpy.percentile(ages, 75)\n",
    "percentil75"
   ]
  },
  {
   "cell_type": "markdown",
   "id": "f17d8378-0e00-4493-bc04-ba78bd384f57",
   "metadata": {},
   "source": [
    "## Distribución de datos"
   ]
  },
  {
   "cell_type": "code",
   "execution_count": 13,
   "id": "04f8a83a-82b2-478c-836d-cfdb2aa12c00",
   "metadata": {},
   "outputs": [
    {
     "data": {
      "text/plain": [
       "array([4.87280345, 3.2023862 , 1.59011374, 4.31572023, 0.32129385,\n",
       "       2.58465124, 4.25397214, 1.98688539, 1.56830159, 2.38711804,\n",
       "       2.52774428, 1.62982211, 3.4741096 , 3.58391761, 2.89252867,\n",
       "       2.48889519, 0.04575458, 2.79367699, 0.89274116, 2.6048594 ,\n",
       "       1.91720316, 2.3196998 , 3.62837817, 1.91408316, 0.29146106,\n",
       "       1.65931386, 2.14693516, 4.76117641, 0.37037547, 1.74252653,\n",
       "       1.16733323, 3.066776  , 2.47667821, 3.60350258, 4.91266846,\n",
       "       1.52536912, 1.30577409, 4.10868823, 3.33486787, 4.20916447,\n",
       "       1.03037964, 4.21174039, 3.78373481, 0.0585631 , 3.24940581,\n",
       "       0.41365061, 1.08394621, 2.60514684, 1.14005535, 1.29864328,\n",
       "       0.16582666, 2.69420484, 0.47353782, 3.53198257, 2.41807096,\n",
       "       0.7380383 , 0.76764107, 3.20655341, 3.51387768, 1.83332924,\n",
       "       2.89162988, 2.11011354, 2.6749611 , 0.06466299, 2.24890801,\n",
       "       2.54007025, 2.24447093, 3.69904013, 4.15043363, 2.37736939,\n",
       "       4.10838068, 2.20568986, 1.09574066, 3.95946013, 3.75153119,\n",
       "       1.98339298, 0.98966569, 1.83733416, 0.87255148, 1.19628264,\n",
       "       4.66099509, 1.49134956, 4.79226014, 4.75314438, 1.17628281,\n",
       "       3.13889653, 2.44349342, 2.5678614 , 2.05649162, 4.49645274,\n",
       "       0.74334902, 1.99785087, 0.98437997, 0.61040992, 3.49150447,\n",
       "       3.37099804, 1.39357167, 3.88697669, 0.67561426, 3.51092562,\n",
       "       0.75942626, 2.06422491, 0.65378335, 2.3231384 , 0.28928396,\n",
       "       3.81850275, 3.4683132 , 2.46205582, 2.07097197, 1.42770387,\n",
       "       0.13710362, 0.69394543, 4.3399078 , 3.62257124, 1.09922492,\n",
       "       1.78884557, 0.80276999, 3.95459246, 3.75565946, 2.0994162 ,\n",
       "       0.91348938, 3.65808229, 0.09912272, 4.82785979, 1.08336439,\n",
       "       4.47270176, 4.61356829, 3.0360758 , 0.79244111, 1.42161131,\n",
       "       4.8841213 , 2.31083661, 1.5745832 , 0.36152222, 0.06144566,\n",
       "       0.57626742, 1.55417485, 3.96633303, 3.96965847, 2.65653865,\n",
       "       2.75216838, 1.45336531, 3.97994403, 0.01826429, 0.18341851,\n",
       "       3.95962739, 4.18508312, 4.84516468, 1.38507337, 1.96982277,\n",
       "       0.82413962, 3.06339132, 1.76207095, 3.27443752, 2.67954358,\n",
       "       3.09823068, 1.09846637, 2.41061296, 4.43487958, 0.13787982,\n",
       "       0.87583358, 0.3813857 , 3.57687726, 0.30066457, 4.80263175,\n",
       "       2.67862546, 3.72974951, 4.13638697, 0.08684715, 2.69448812,\n",
       "       4.06473518, 0.53404983, 3.26812823, 0.61084408, 3.59519177,\n",
       "       3.95665013, 3.20489387, 0.27151933, 1.79989752, 0.94482238,\n",
       "       0.35789316, 1.39636654, 3.7545649 , 2.11158258, 2.72105319,\n",
       "       0.1555775 , 0.06943054, 1.17689529, 0.09814025, 4.46784785,\n",
       "       1.1137204 , 3.18148067, 4.92752599, 2.37362583, 1.6801371 ,\n",
       "       4.09533287, 1.26126327, 2.30462277, 2.81362302, 0.97594865,\n",
       "       2.82217892, 3.94580973, 2.78430511, 1.75064452, 3.70406105,\n",
       "       2.35737291, 0.46235111, 0.03487898, 1.82475013, 1.78712067,\n",
       "       3.30969744, 2.43474313, 3.90091527, 1.93110724, 4.10956522,\n",
       "       0.24711926, 3.68424737, 4.42377279, 0.30535941, 4.40266948,\n",
       "       4.10880704, 2.73981032, 2.03875914, 3.6658371 , 4.94110716,\n",
       "       3.84730103, 3.18805035, 0.4495399 , 0.1215994 , 2.63950667,\n",
       "       0.97321048, 2.4535315 , 1.50127929, 2.75469084, 4.68054194,\n",
       "       3.60285668, 4.77851589, 3.76957737, 4.74184354, 3.29723509,\n",
       "       4.22913637, 1.56804543, 1.07893211, 2.29233417, 0.72417883,\n",
       "       3.72890657, 3.32854891, 0.30715582, 2.25515478, 1.00243103])"
      ]
     },
     "execution_count": 13,
     "metadata": {},
     "output_type": "execute_result"
    }
   ],
   "source": [
    "datos = numpy.random.uniform(0.0, 5.0, 250) # Crea una matriz con 250 números entre 0 y 5\n",
    "datos"
   ]
  },
  {
   "cell_type": "markdown",
   "id": "772ceb15-1dc6-4f62-a9a7-6e4925780f67",
   "metadata": {},
   "source": [
    "## Histograma"
   ]
  },
  {
   "cell_type": "code",
   "execution_count": 14,
   "id": "513d82ab-ddd0-4261-9438-8773e795bb29",
   "metadata": {},
   "outputs": [],
   "source": [
    "import matplotlib.pyplot as plt"
   ]
  },
  {
   "cell_type": "code",
   "execution_count": 15,
   "id": "3f3576a6-4588-4284-8fa2-7ca0c6d3be91",
   "metadata": {},
   "outputs": [
    {
     "data": {
      "image/png": "[encoded data removed]",
      "text/plain": [
       "<Figure size 640x480 with 1 Axes>"
      ]
     },
     "metadata": {},
     "output_type": "display_data"
    }
   ],
   "source": [
    "plt.hist(datos, 5) # 5 barras\n",
    "plt.show()"
   ]
  },
  {
   "cell_type": "markdown",
   "id": "a5a5b8b8-7efd-430d-93b0-08fd08549b26",
   "metadata": {},
   "source": [
    "* Primera barra representa cuántos valores de la matriz están entre 0 y 1\n",
    "* Segunda barra representa cuántos valores de la matriz están entre 1 y 2\n",
    "* Etc."
   ]
  },
  {
   "cell_type": "markdown",
   "id": "fc39af25-210a-4501-89c7-1c4c44406563",
   "metadata": {},
   "source": [
    "## Distribución normal de datos"
   ]
  },
  {
   "cell_type": "markdown",
   "id": "9e007916-f3b2-41ba-b381-a4131fb3f5c0",
   "metadata": {},
   "source": [
    "* Los valores se concentran alrededor de un valor dado"
   ]
  },
  {
   "cell_type": "code",
   "execution_count": 16,
   "id": "df910c0a-a75a-496f-8d06-78094a2461bd",
   "metadata": {},
   "outputs": [
    {
     "data": {
      "image/png": "[encoded data removed]",
      "text/plain": [
       "<Figure size 640x480 with 1 Axes>"
      ]
     },
     "metadata": {},
     "output_type": "display_data"
    }
   ],
   "source": [
    "datos = numpy.random.normal(5.0, 1.0, 100000) # 5.0 es el valor medio y 1.0 la desviación estándar\n",
    "plt.hist(datos, 100)\n",
    "plt.show()"
   ]
  },
  {
   "cell_type": "markdown",
   "id": "f08bd467-0be3-4bcf-bd56-7f3e370c2b15",
   "metadata": {},
   "source": [
    "## Diagrama de dispersión"
   ]
  },
  {
   "cell_type": "markdown",
   "id": "f4c25392-5b72-45f2-bca5-c7a70a647a8c",
   "metadata": {},
   "source": [
    "* Cada valor del conjunto de datos está representado por un punto"
   ]
  },
  {
   "cell_type": "code",
   "execution_count": 17,
   "id": "586596b3-9036-4b2c-a177-1edd6882c212",
   "metadata": {},
   "outputs": [
    {
     "data": {
      "image/png": "[encoded data removed]",
      "text/plain": [
       "<Figure size 640x480 with 1 Axes>"
      ]
     },
     "metadata": {},
     "output_type": "display_data"
    }
   ],
   "source": [
    "x_edad_auto = [5,7,8,7,2,17,2,9,4,11,12,9,6]\n",
    "y_veloc_auto = [99,86,87,88,111,86,103,87,94,78,77,85,86]\n",
    "\n",
    "plt.scatter(x_edad_auto, y_veloc_auto)\n",
    "plt.show()"
   ]
  },
  {
   "cell_type": "markdown",
   "id": "66754e84-514d-41d3-b972-9b82e95eac6c",
   "metadata": {},
   "source": [
    "* Los dos autos más rápidos tienen 2 años y el auto más lento 12 años\n",
    "* Parece que cuánto más nuevo es el auto, más rápido va (sólo se registró 13 casos)"
   ]
  },
  {
   "cell_type": "markdown",
   "id": "45f6e67a-4ef7-4d5c-9abc-5a7369270ad3",
   "metadata": {},
   "source": [
    "## Distribución de datos aleatorios"
   ]
  },
  {
   "cell_type": "code",
   "execution_count": 18,
   "id": "012f4b86-15e5-4555-984f-818017148eea",
   "metadata": {},
   "outputs": [
    {
     "data": {
      "image/png": "[encoded data removed]",
      "text/plain": [
       "<Figure size 640x480 with 1 Axes>"
      ]
     },
     "metadata": {},
     "output_type": "display_data"
    }
   ],
   "source": [
    "x = numpy.random.normal(5.0, 1.0, 1000)\n",
    "y = numpy.random.normal(10.0, 2.0, 1000)\n",
    "\n",
    "plt.scatter(x, y)\n",
    "plt.show()"
   ]
  },
  {
   "cell_type": "markdown",
   "id": "40f39475-aea4-4418-9f78-5cc758e4bc27",
   "metadata": {},
   "source": [
    "* Los puntos se concentran alrededor del valor 5 en el eje x y 10 en el eje y\n",
    "* También se ve que la dispersión es mayor en el eje y que en el eje x"
   ]
  },
  {
   "cell_type": "markdown",
   "id": "d2fafb10-71a7-4137-91d3-33e0434e9c46",
   "metadata": {},
   "source": [
    "## Regresión lineal"
   ]
  },
  {
   "cell_type": "markdown",
   "id": "fa8c300a-668f-441f-809a-d7cb048bc91e",
   "metadata": {},
   "source": [
    "* Regresión: se usa cuando se intenta encontrar la relación entre variables. Se usa para predecir el resultado de eventos futuros\n",
    "* Regresión lineal: utiliza la relación para dibujar una línea recta a través de todos los puntos. Para predecir valores futuros"
   ]
  },
  {
   "cell_type": "code",
   "execution_count": 19,
   "id": "9b6be6e5-4859-49c6-b584-e8eaae41c476",
   "metadata": {},
   "outputs": [],
   "source": [
    "from scipy import stats"
   ]
  },
  {
   "cell_type": "code",
   "execution_count": 20,
   "id": "5f7dc131-7228-4d74-baa6-85b2fa2c4cdb",
   "metadata": {},
   "outputs": [
    {
     "data": {
      "image/png": "[encoded data removed]",
      "text/plain": [
       "<Figure size 640x480 with 1 Axes>"
      ]
     },
     "metadata": {},
     "output_type": "display_data"
    }
   ],
   "source": [
    "# slope: pendiente\n",
    "# intercept: intersección\n",
    "# r: r-valor (coef. de determinación o correlación)\n",
    "# p: p-valor (prueba de hipótesis de no correlación)\n",
    "# std_err: error estándar del gradiente estimado\n",
    "slope, intercept, r, p, std_err = stats.linregress(x_edad_auto, y_veloc_auto)\n",
    "\n",
    "def myfunc(x):\n",
    "  return slope * x + intercept\n",
    "\n",
    "mymodel = list(map(myfunc, x_edad_auto))\n",
    "\n",
    "plt.scatter(x_edad_auto, y_veloc_auto)\n",
    "plt.plot(x_edad_auto, mymodel)\n",
    "plt.show()"
   ]
  },
  {
   "cell_type": "markdown",
   "id": "1f4258cb-dacf-498f-ad4e-07cc15d0bd36",
   "metadata": {},
   "source": [
    "### R de Relación"
   ]
  },
  {
   "cell_type": "code",
   "execution_count": 21,
   "id": "4e7eb1e9-64e5-455a-9729-47dd1bea96c2",
   "metadata": {},
   "outputs": [
    {
     "data": {
      "text/plain": [
       "-0.758591524376155"
      ]
     },
     "execution_count": 21,
     "metadata": {},
     "output_type": "execute_result"
    }
   ],
   "source": [
    "slope, intercept, rvalue, pvalue, stderr = stats.linregress(x_edad_auto, y_veloc_auto)\n",
    "rvalue"
   ]
  },
  {
   "cell_type": "markdown",
   "id": "2bea51a6-03b3-4781-b812-bb90fb1653ba",
   "metadata": {},
   "source": [
    "* El rvalue varía de -1 a 1, donde 0 significa que no hay relación y 1 (y -1) significa que hay 100 % de relación\n",
    "* -0.76 muestra que existe una relación, no perfecta, pero indica que se puede usar la regresión lineal en futuras predicciones"
   ]
  },
  {
   "cell_type": "markdown",
   "id": "8a01ceee-927d-4fda-a7ad-3ed054218088",
   "metadata": {},
   "source": [
    "### Predecir valores futuros"
   ]
  },
  {
   "cell_type": "markdown",
   "id": "752493e3-4381-4a94-8b02-8a24a5f7921a",
   "metadata": {},
   "source": [
    "* **Ejemplo**: predecir la velocidad de un auto de 10 años"
   ]
  },
  {
   "cell_type": "code",
   "execution_count": 22,
   "id": "a8612c69-103f-41d4-9eab-a867d24363d3",
   "metadata": {},
   "outputs": [
    {
     "data": {
      "text/plain": [
       "85.59308314937454"
      ]
     },
     "execution_count": 22,
     "metadata": {},
     "output_type": "execute_result"
    }
   ],
   "source": [
    "speed = myfunc(10)\n",
    "speed"
   ]
  },
  {
   "cell_type": "markdown",
   "id": "292f9645-82b8-4f19-98d6-e027ac60f9e7",
   "metadata": {},
   "source": [
    "## Regresión polinomial"
   ]
  },
  {
   "cell_type": "code",
   "execution_count": 23,
   "id": "013e7944-e4bc-422d-a0f4-27ec269ae024",
   "metadata": {},
   "outputs": [
    {
     "data": {
      "image/png": "[encoded data removed]",
      "text/plain": [
       "<Figure size 640x480 with 1 Axes>"
      ]
     },
     "metadata": {},
     "output_type": "display_data"
    }
   ],
   "source": [
    "x_hs_dia = [1,2,3,5,6,7,8,9,10,12,13,14,15,16,18,19,21,22]\n",
    "y_veloc  = [100,90,80,60,60,55,60,65,70,70,75,76,78,79,90,99,99,100]\n",
    "\n",
    "mymodel = numpy.poly1d(numpy.polyfit(x_hs_dia, y_veloc, 3))\n",
    "\n",
    "myline = numpy.linspace(1, 22, 100)\n",
    "\n",
    "plt.scatter(x_hs_dia, y_veloc)\n",
    "plt.plot(myline, mymodel(myline))\n",
    "plt.show()"
   ]
  },
  {
   "cell_type": "markdown",
   "id": "7010c162-ef8f-48ae-9931-c70713f6c71d",
   "metadata": {},
   "source": [
    "### R-cuadrado"
   ]
  },
  {
   "cell_type": "markdown",
   "id": "12e2f42e-43a4-4b59-8229-009b3f6ff79c",
   "metadata": {},
   "source": [
    "* Determinar que tan buena es la relación entre los valores de x e y, si no hay relación, la regresión polinomial no se puede utilizar para predecir nada\n",
    "* La relación se mide con un valor llamado r-cuadrado, varía entre 0 y 1:\n",
    "    * 0: no hay relación\n",
    "    * 1: relación del 100%"
   ]
  },
  {
   "cell_type": "code",
   "execution_count": 24,
   "id": "11e36773-ed0c-47a2-9ef5-68fe70f6ee22",
   "metadata": {},
   "outputs": [],
   "source": [
    "from sklearn.metrics import r2_score"
   ]
  },
  {
   "cell_type": "code",
   "execution_count": 25,
   "id": "65d685dc-5cd0-4340-a5e3-c91e97c419fa",
   "metadata": {},
   "outputs": [
    {
     "data": {
      "text/plain": [
       "0.9432150416451025"
      ]
     },
     "execution_count": 25,
     "metadata": {},
     "output_type": "execute_result"
    }
   ],
   "source": [
    "r2 = r2_score(y_veloc, mymodel(x_hs_dia))\n",
    "r2"
   ]
  },
  {
   "cell_type": "markdown",
   "id": "c13b92ba-d48d-42b5-8663-260014d04561",
   "metadata": {},
   "source": [
    "### Predecir valores futuros"
   ]
  },
  {
   "cell_type": "markdown",
   "id": "4333c69e-30ec-4037-92ca-e1d3ac96badf",
   "metadata": {},
   "source": [
    "* **Ejemplo**: predecir la velocidad de un auto que pasa por el peaje alrededor de las 17:00"
   ]
  },
  {
   "cell_type": "code",
   "execution_count": 26,
   "id": "8b4a2027-94c4-4ff1-9286-ec72fa4210bd",
   "metadata": {},
   "outputs": [
    {
     "data": {
      "text/plain": [
       "88.87331269697991"
      ]
     },
     "execution_count": 26,
     "metadata": {},
     "output_type": "execute_result"
    }
   ],
   "source": [
    "speed = mymodel(17)\n",
    "speed"
   ]
  },
  {
   "cell_type": "code",
   "execution_count": null,
   "id": "2c78e130-fad7-41a1-b322-478b07f98d8b",
   "metadata": {},
   "outputs": [],
   "source": []
  }
 ],
 "metadata": {
  "kernelspec": {
   "display_name": "Python [conda env:base] *",
   "language": "python",
   "name": "conda-base-py"
  },
  "language_info": {
   "codemirror_mode": {
    "name": "ipython",
    "version": 3
   },
   "file_extension": ".py",
   "mimetype": "text/x-python",
   "name": "python",
   "nbconvert_exporter": "python",
   "pygments_lexer": "ipython3",
   "version": "3.12.7"
  }
 },
 "nbformat": 4,
 "nbformat_minor": 5
}
