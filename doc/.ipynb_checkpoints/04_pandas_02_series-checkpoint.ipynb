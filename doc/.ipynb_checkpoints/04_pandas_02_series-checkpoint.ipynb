{
 "cells": [
  {
   "cell_type": "markdown",
   "id": "b14cefba-49fd-4628-b997-bba645bea1f9",
   "metadata": {},
   "source": [
    "# Pandas - Series"
   ]
  },
  {
   "cell_type": "markdown",
   "id": "5a6e67b8-eafc-4ef3-bfac-f9664060edc2",
   "metadata": {},
   "source": [
    "* Es un array unidimensional (como una columna de una tabla) que contiene datos de cualquier tipo"
   ]
  },
  {
   "cell_type": "code",
   "execution_count": 1,
   "id": "3e736331-a3c9-4a2e-9f10-d2d9bfe879e5",
   "metadata": {},
   "outputs": [],
   "source": [
    "import pandas as pd"
   ]
  },
  {
   "cell_type": "code",
   "execution_count": 2,
   "id": "96eebb7b-17fc-4972-a8fa-4c8eb294c910",
   "metadata": {},
   "outputs": [],
   "source": [
    "a = [1, 7, 2]"
   ]
  },
  {
   "cell_type": "code",
   "execution_count": 3,
   "id": "758db10a-0d61-4984-ba98-cedf41325dd4",
   "metadata": {},
   "outputs": [],
   "source": [
    "# Serie a partir de una lista con etiquetas por default mediante número de índice\n",
    "myvar = pd.Series(a)"
   ]
  },
  {
   "cell_type": "code",
   "execution_count": 4,
   "id": "508d0f8c-d2d5-4672-8be2-b2e9abce92fb",
   "metadata": {},
   "outputs": [
    {
     "data": {
      "text/plain": [
       "0    1\n",
       "1    7\n",
       "2    2\n",
       "dtype: int64"
      ]
     },
     "execution_count": 4,
     "metadata": {},
     "output_type": "execute_result"
    }
   ],
   "source": [
    "myvar"
   ]
  },
  {
   "cell_type": "code",
   "execution_count": 5,
   "id": "8412e872-053a-4223-b209-ba73c5b0b231",
   "metadata": {},
   "outputs": [
    {
     "data": {
      "text/plain": [
       "1"
      ]
     },
     "execution_count": 5,
     "metadata": {},
     "output_type": "execute_result"
    }
   ],
   "source": [
    "myvar[0]"
   ]
  },
  {
   "cell_type": "code",
   "execution_count": 6,
   "id": "2ff1e432-b6f9-4bcf-a79a-217ba0ebd520",
   "metadata": {},
   "outputs": [],
   "source": [
    "# Serie a partir de una lista con etiquetas definidas\n",
    "myvar = pd.Series(a, index = [\"x\", \"y\", \"z\"])"
   ]
  },
  {
   "cell_type": "code",
   "execution_count": 7,
   "id": "7dbdd3e7-49b4-4f76-ab82-c525e4d1ee6a",
   "metadata": {},
   "outputs": [
    {
     "data": {
      "text/plain": [
       "x    1\n",
       "y    7\n",
       "z    2\n",
       "dtype: int64"
      ]
     },
     "execution_count": 7,
     "metadata": {},
     "output_type": "execute_result"
    }
   ],
   "source": [
    "myvar"
   ]
  },
  {
   "cell_type": "code",
   "execution_count": 8,
   "id": "c1bbae0c-b97c-4d3c-91a2-9bbe632685f5",
   "metadata": {},
   "outputs": [
    {
     "data": {
      "text/plain": [
       "7"
      ]
     },
     "execution_count": 8,
     "metadata": {},
     "output_type": "execute_result"
    }
   ],
   "source": [
    "myvar['y']"
   ]
  },
  {
   "cell_type": "code",
   "execution_count": 9,
   "id": "1f5f9bbe-7958-4b0b-be15-2236276c105f",
   "metadata": {},
   "outputs": [],
   "source": [
    "# Serie a partir de un diccionario (las claves del diccionario se convierten en las etiquetas)\n",
    "calorias = {'dia1': 420, 'dia2': 380, 'dia3': 390}\n",
    "myvar = pd.Series(calorias)"
   ]
  },
  {
   "cell_type": "code",
   "execution_count": 10,
   "id": "fe2d328e-fb98-4f7d-b392-68315d0ff48a",
   "metadata": {},
   "outputs": [
    {
     "data": {
      "text/plain": [
       "dia1    420\n",
       "dia2    380\n",
       "dia3    390\n",
       "dtype: int64"
      ]
     },
     "execution_count": 10,
     "metadata": {},
     "output_type": "execute_result"
    }
   ],
   "source": [
    "myvar"
   ]
  },
  {
   "cell_type": "code",
   "execution_count": 11,
   "id": "a7285152-06c4-421f-80ad-37bea8dc4ec9",
   "metadata": {},
   "outputs": [
    {
     "data": {
      "text/plain": [
       "380"
      ]
     },
     "execution_count": 11,
     "metadata": {},
     "output_type": "execute_result"
    }
   ],
   "source": [
    "myvar['dia2']"
   ]
  },
  {
   "cell_type": "code",
   "execution_count": 12,
   "id": "c6600f4c-dc15-4b50-bf1e-2c523c957996",
   "metadata": {},
   "outputs": [
    {
     "data": {
      "text/plain": [
       "dia1    420\n",
       "dia2    380\n",
       "dtype: int64"
      ]
     },
     "execution_count": 12,
     "metadata": {},
     "output_type": "execute_result"
    }
   ],
   "source": [
    "# Serie a partir de un diccionario especificando claves\n",
    "myvar = pd.Series(calorias, index = ['dia1', 'dia2'])\n",
    "myvar"
   ]
  }
 ],
 "metadata": {
  "kernelspec": {
   "display_name": "Python [conda env:base] *",
   "language": "python",
   "name": "conda-base-py"
  },
  "language_info": {
   "codemirror_mode": {
    "name": "ipython",
    "version": 3
   },
   "file_extension": ".py",
   "mimetype": "text/x-python",
   "name": "python",
   "nbconvert_exporter": "python",
   "pygments_lexer": "ipython3",
   "version": "3.12.7"
  }
 },
 "nbformat": 4,
 "nbformat_minor": 5
}
