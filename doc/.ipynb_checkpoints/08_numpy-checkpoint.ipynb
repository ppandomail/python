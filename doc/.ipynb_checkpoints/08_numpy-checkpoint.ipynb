{
 "cells": [
  {
   "cell_type": "markdown",
   "id": "9d183f40-918c-44ef-af92-1574d2aadf5e",
   "metadata": {},
   "source": [
    "# Numpy"
   ]
  },
  {
   "cell_type": "markdown",
   "id": "0b4456df-f540-44e7-a7b6-f02ceb53e9f8",
   "metadata": {},
   "source": [
    "* Paquete fundamental para cómputo científico en Python\n",
    "* Sirve para crear y utilizar vectores y matrices (ndarray)\n",
    "* Realizar cálculos estadísticos y matemáticos"
   ]
  },
  {
   "cell_type": "code",
   "execution_count": 12,
   "id": "093b15b2-3cff-416a-a11b-4e9f79fe2bf8",
   "metadata": {},
   "outputs": [],
   "source": [
    "import numpy as np"
   ]
  },
  {
   "cell_type": "code",
   "execution_count": 13,
   "id": "bfc6283c-09dd-48c7-b08f-10fe2422ea4b",
   "metadata": {},
   "outputs": [],
   "source": [
    "numeros_primos = [2, 3, 5, 7, 11, 13, 17, 19, 23, 29]"
   ]
  },
  {
   "cell_type": "code",
   "execution_count": 14,
   "id": "9a87d9bd-5b38-459d-8aaa-9b0c03d3f828",
   "metadata": {},
   "outputs": [
    {
     "data": {
      "text/plain": [
       "array([ 2,  3,  5,  7, 11, 13, 17, 19, 23, 29])"
      ]
     },
     "execution_count": 14,
     "metadata": {},
     "output_type": "execute_result"
    }
   ],
   "source": [
    "array_primos = np.array(numeros_primos)\n",
    "array_primos"
   ]
  },
  {
   "cell_type": "code",
   "execution_count": 15,
   "id": "0d27e7d8-9b14-4c82-afa3-087b9128fc41",
   "metadata": {},
   "outputs": [
    {
     "data": {
      "text/plain": [
       "array([0., 0., 0., 0., 0., 0., 0., 0., 0., 0.])"
      ]
     },
     "execution_count": 15,
     "metadata": {},
     "output_type": "execute_result"
    }
   ],
   "source": [
    "array_zeros = np.zeros(10)\n",
    "array_zeros"
   ]
  },
  {
   "cell_type": "code",
   "execution_count": 17,
   "id": "ecc4ece6-6d42-4500-8d57-84319432378b",
   "metadata": {},
   "outputs": [
    {
     "data": {
      "text/plain": [
       "array([1., 1., 1., 1., 1., 1., 1., 1., 1., 1.])"
      ]
     },
     "execution_count": 17,
     "metadata": {},
     "output_type": "execute_result"
    }
   ],
   "source": [
    "array_unos = np.ones(10)\n",
    "array_unos"
   ]
  },
  {
   "cell_type": "code",
   "execution_count": 18,
   "id": "3181d08f-defb-4d0f-992a-7f6aff61a2f8",
   "metadata": {},
   "outputs": [
    {
     "data": {
      "text/plain": [
       "array([0, 1, 2, 3, 4, 5, 6, 7, 8, 9])"
      ]
     },
     "execution_count": 18,
     "metadata": {},
     "output_type": "execute_result"
    }
   ],
   "source": [
    "array_numeros = np.arange(10)\n",
    "array_numeros"
   ]
  },
  {
   "cell_type": "code",
   "execution_count": 19,
   "id": "fc56aaeb-6693-43e3-bb8b-e84bbd95da13",
   "metadata": {},
   "outputs": [
    {
     "data": {
      "text/plain": [
       "array([ 0,  2,  4,  6,  8, 10, 12, 14, 16, 18])"
      ]
     },
     "execution_count": 19,
     "metadata": {},
     "output_type": "execute_result"
    }
   ],
   "source": [
    "array_pares = np.arange(0, 20, 2)\n",
    "array_pares"
   ]
  },
  {
   "cell_type": "code",
   "execution_count": 20,
   "id": "58b0ca57-6621-4dd2-a9ed-e7a4158c9c7b",
   "metadata": {},
   "outputs": [
    {
     "data": {
      "text/plain": [
       "array([[ 0,  2,  4,  6,  8],\n",
       "       [10, 12, 14, 16, 18]])"
      ]
     },
     "execution_count": 20,
     "metadata": {},
     "output_type": "execute_result"
    }
   ],
   "source": [
    "# reshape para dos dimensiones\n",
    "array_pares.reshape(2, 5)"
   ]
  },
  {
   "cell_type": "markdown",
   "id": "caba7cb0-26e0-472f-bb6a-854966e8d713",
   "metadata": {},
   "source": [
    "## Operaciones aritméticas"
   ]
  },
  {
   "cell_type": "markdown",
   "id": "88220c66-cdb9-420f-b92f-430efb25aa34",
   "metadata": {},
   "source": [
    "RAFAAAAAA"
   ]
  },
  {
   "cell_type": "markdown",
   "id": "da4b4f66-2386-42b5-ba8e-cb8ae4f024a9",
   "metadata": {},
   "source": [
    "## Dataset"
   ]
  },
  {
   "cell_type": "markdown",
   "id": "328829e7-1c34-4aa7-a333-89397d972008",
   "metadata": {},
   "source": [
    "* Colección de datos\n",
    "* Ejemplo: [99,86,87,88,111,86,103,87,94,78,77,85,86]"
   ]
  },
  {
   "cell_type": "markdown",
   "id": "61434f01-0ed2-4654-918b-981056923366",
   "metadata": {},
   "source": [
    "## Tipos de datos"
   ]
  },
  {
   "cell_type": "markdown",
   "id": "0accb75e-c6aa-4112-8f9a-b127649c9d5f",
   "metadata": {},
   "source": [
    "* **Númerico** \n",
    "    * **discretos**: datos contados limitados a números enteros (autos que pasan)\n",
    "    * **continuos**: datos medidos que pueden ser cualquier número (precio)\n",
    "* **Categórico**: valores que no se pueden comparar entre sí (color)\n",
    "* **Ordinal**: pueden compararse entre sí (notas)"
   ]
  },
  {
   "cell_type": "markdown",
   "id": "85a5b82f-c217-42e5-9963-62c3c3dc5370",
   "metadata": {},
   "source": [
    "## Media, mediana y moda"
   ]
  },
  {
   "cell_type": "markdown",
   "id": "113bc83b-b800-4125-b63c-78b1149561e3",
   "metadata": {},
   "source": [
    "* **Media**: valor promedio\n",
    "* **Mediana**: valor del punto medio\n",
    "* **Moda**: valor mas común"
   ]
  },
  {
   "cell_type": "markdown",
   "id": "c94344de-ebaa-46ad-8e6a-d358d9599368",
   "metadata": {},
   "source": [
    "* **Ejemplo**: se ha registrado la velocidad de 13 autos\n",
    "    * speed = [99,86,87,88,111,86,103,87,94,78,77,85,86]"
   ]
  },
  {
   "cell_type": "code",
   "execution_count": 21,
   "id": "ae6d8ae4-49e9-46e7-b7b3-a0c51c5e1104",
   "metadata": {},
   "outputs": [],
   "source": [
    "speed = [99,86,87,88,111,86,103,87,94,78,77,85,86]"
   ]
  },
  {
   "cell_type": "code",
   "execution_count": 22,
   "id": "ef9f1051-2f6c-4fb0-90f5-1ec48b62a48c",
   "metadata": {},
   "outputs": [
    {
     "data": {
      "text/plain": [
       "89.76923076923077"
      ]
     },
     "execution_count": 22,
     "metadata": {},
     "output_type": "execute_result"
    }
   ],
   "source": [
    "media = np.mean(speed)\n",
    "media"
   ]
  },
  {
   "cell_type": "code",
   "execution_count": 23,
   "id": "b91275e1-2c4c-4711-839b-6ec06c177080",
   "metadata": {},
   "outputs": [
    {
     "data": {
      "text/plain": [
       "87.0"
      ]
     },
     "execution_count": 23,
     "metadata": {},
     "output_type": "execute_result"
    }
   ],
   "source": [
    "mediana = np.median(speed)\n",
    "mediana"
   ]
  },
  {
   "cell_type": "code",
   "execution_count": 24,
   "id": "c8bb2c2c-e9fd-4294-91b2-16f2b15637e7",
   "metadata": {},
   "outputs": [],
   "source": [
    "from scipy import stats"
   ]
  },
  {
   "cell_type": "code",
   "execution_count": 25,
   "id": "99466d24-ade8-490c-af48-22b3aacdf3ed",
   "metadata": {},
   "outputs": [
    {
     "data": {
      "text/plain": [
       "ModeResult(mode=86, count=3)"
      ]
     },
     "execution_count": 25,
     "metadata": {},
     "output_type": "execute_result"
    }
   ],
   "source": [
    "moda = stats.mode(speed)\n",
    "moda"
   ]
  },
  {
   "cell_type": "markdown",
   "id": "5e0c5a09-80a8-4395-b7d0-2ca0a8561c32",
   "metadata": {},
   "source": [
    "## Desviación estándar"
   ]
  },
  {
   "cell_type": "markdown",
   "id": "70e9a365-cc02-466b-99c6-2f0509a0ec6e",
   "metadata": {},
   "source": [
    "* Describe que tan dispersos están los valores\n",
    "* si es baja -> números cerca del valor medio\n",
    "* si es alta -> valores distribuidos en un rango más amplio"
   ]
  },
  {
   "cell_type": "markdown",
   "id": "04b2c209-5cb6-488d-a315-c864543691c0",
   "metadata": {},
   "source": [
    "* **Ejemplo**: se ha registrado la velocidad de 7 autos\n",
    "    *  speed = [86,87,88,86,87,85,86]"
   ]
  },
  {
   "cell_type": "code",
   "execution_count": 26,
   "id": "5605cf32-373e-4275-95d6-4c11cd3fc431",
   "metadata": {},
   "outputs": [],
   "source": [
    "speed = [86,87,88,86,87,85,86]"
   ]
  },
  {
   "cell_type": "code",
   "execution_count": 27,
   "id": "40982065-ca16-470b-80bc-69c1982b41c2",
   "metadata": {},
   "outputs": [
    {
     "data": {
      "text/plain": [
       "0.9035079029052513"
      ]
     },
     "execution_count": 27,
     "metadata": {},
     "output_type": "execute_result"
    }
   ],
   "source": [
    "sd = np.std(speed)\n",
    "sd"
   ]
  },
  {
   "cell_type": "markdown",
   "id": "999017c6-1020-42d1-981d-c9f218370566",
   "metadata": {},
   "source": [
    "## Varianza"
   ]
  },
  {
   "cell_type": "markdown",
   "id": "e2980615-6846-4840-a649-e55967acd48f",
   "metadata": {},
   "source": [
    "* Indica que tan dispersos están los valores\n",
    "* Pasos:\n",
    "  1. Encontrar la media\n",
    "  2. Para cada valor encontrar la diferencia con la media\n",
    "  3. Para cada diferencia encontrar el valor cuadrado\n",
    "  4. La varianza es el número promedio de estas diferencias al cuadrado     "
   ]
  },
  {
   "cell_type": "code",
   "execution_count": 28,
   "id": "0edbcd4d-378f-4e23-8167-6a53be981a39",
   "metadata": {},
   "outputs": [],
   "source": [
    "speed = [32,111,138,28,59,77,97]"
   ]
  },
  {
   "cell_type": "code",
   "execution_count": 29,
   "id": "74aa84ae-c8c6-4f44-b859-04681cbe8aaf",
   "metadata": {},
   "outputs": [
    {
     "data": {
      "text/plain": [
       "1432.2448979591834"
      ]
     },
     "execution_count": 29,
     "metadata": {},
     "output_type": "execute_result"
    }
   ],
   "source": [
    "var = np.var(speed)\n",
    "var"
   ]
  },
  {
   "cell_type": "code",
   "execution_count": 30,
   "id": "4b4e791e-e339-4b95-8b10-508e5c1c1526",
   "metadata": {},
   "outputs": [
    {
     "data": {
      "text/plain": [
       "37.84501153334721"
      ]
     },
     "execution_count": 30,
     "metadata": {},
     "output_type": "execute_result"
    }
   ],
   "source": [
    "sd = np.std(speed)\n",
    "sd"
   ]
  },
  {
   "cell_type": "markdown",
   "id": "37c21d74-111c-4408-9880-2dc14c8d3342",
   "metadata": {},
   "source": [
    "## Percentiles"
   ]
  },
  {
   "cell_type": "markdown",
   "id": "7b679129-302f-45c4-9060-91db3c68c45d",
   "metadata": {},
   "source": [
    "* Se usan para proporcionar un número que describe el valor al cual un porcentaje determinado de los valores es inferior"
   ]
  },
  {
   "cell_type": "markdown",
   "id": "176867ed-1d7f-4865-8def-a6a288683062",
   "metadata": {},
   "source": [
    "* **Ejemplo**: edades de todas las personas que viven en una calle\n",
    "    * ages = [5,31,43,48,50,41,7,11,15,39,80,82,32,2,8,6,25,36,27,61,31]  "
   ]
  },
  {
   "cell_type": "markdown",
   "id": "7b039306-c828-4e63-894b-136f98dc0b5c",
   "metadata": {},
   "source": [
    "* ¿Cuál es el percentil 75?\n",
    "    * La respuesta es 43, lo que significa que el 75 % de las personas tienen 43 años o menos"
   ]
  },
  {
   "cell_type": "code",
   "execution_count": 31,
   "id": "fc876178-7bce-40f4-ae56-d2c7564df2c3",
   "metadata": {},
   "outputs": [
    {
     "data": {
      "text/plain": [
       "43.0"
      ]
     },
     "execution_count": 31,
     "metadata": {},
     "output_type": "execute_result"
    }
   ],
   "source": [
    "ages = [5,31,43,48,50,41,7,11,15,39,80,82,32,2,8,6,25,36,27,61,31]\n",
    "\n",
    "percentil75 = np.percentile(ages, 75)\n",
    "percentil75"
   ]
  },
  {
   "cell_type": "markdown",
   "id": "f17d8378-0e00-4493-bc04-ba78bd384f57",
   "metadata": {},
   "source": [
    "## Distribución de datos"
   ]
  },
  {
   "cell_type": "code",
   "execution_count": 32,
   "id": "04f8a83a-82b2-478c-836d-cfdb2aa12c00",
   "metadata": {},
   "outputs": [
    {
     "data": {
      "text/plain": [
       "array([2.11304739, 1.91535085, 3.10577211, 2.15973998, 3.51489662,\n",
       "       3.63468247, 0.20437332, 4.64622251, 3.84345528, 2.39561741,\n",
       "       4.01214517, 3.5247103 , 3.75380583, 1.74302895, 2.84607208,\n",
       "       3.28921901, 2.03112964, 2.74783166, 3.10153246, 2.9393821 ,\n",
       "       4.81044267, 3.68896399, 0.24963096, 3.83050488, 0.53348901,\n",
       "       1.38043862, 4.02063401, 0.20802042, 3.95570919, 2.48091106,\n",
       "       1.56755304, 3.46124292, 1.19070458, 1.45109616, 0.39117905,\n",
       "       1.20492917, 1.59017962, 4.43715982, 1.87506338, 4.27633234,\n",
       "       2.12902215, 4.71954529, 0.36085306, 0.85252807, 4.67173487,\n",
       "       4.51429038, 4.77531051, 0.57359598, 0.1156752 , 4.2830763 ,\n",
       "       2.6322869 , 2.72686265, 0.44882405, 0.49687631, 0.68719393,\n",
       "       4.62037595, 2.82488877, 4.38890533, 0.16123656, 0.18428843,\n",
       "       2.54654567, 2.6886208 , 3.42737532, 4.85434798, 3.5555653 ,\n",
       "       1.6374294 , 2.14742681, 0.02856106, 1.11584682, 0.72489888,\n",
       "       4.40610643, 3.79920725, 4.47541411, 0.1949468 , 3.40674922,\n",
       "       2.12615908, 2.23357106, 4.95728513, 0.79401242, 4.94461909,\n",
       "       2.07807408, 2.32182047, 1.16185361, 4.57704229, 0.59193404,\n",
       "       4.93986862, 2.3321413 , 1.91915296, 1.04722133, 4.86008822,\n",
       "       4.69689793, 4.45331666, 4.89446982, 1.78692413, 0.03026091,\n",
       "       4.01905407, 3.14442956, 1.36601219, 2.37950708, 0.17429009,\n",
       "       0.18692346, 0.16552392, 4.59550634, 1.85957157, 2.23389175,\n",
       "       0.76553864, 2.02065746, 4.03564069, 0.50663577, 3.41337653,\n",
       "       1.78667845, 2.88235047, 3.6005607 , 4.43107797, 0.12469228,\n",
       "       3.78995571, 1.37793034, 1.93957411, 3.81778389, 0.67220779,\n",
       "       4.6656108 , 1.82275057, 4.02602614, 4.91723518, 2.15780965,\n",
       "       3.51912568, 1.41630532, 2.98701254, 4.27563235, 1.13663046,\n",
       "       1.1671348 , 2.22941409, 1.7750122 , 3.20794434, 3.89492909,\n",
       "       2.25109883, 4.41611266, 3.19988436, 1.84515872, 1.73898464,\n",
       "       4.84700198, 4.83902959, 2.77993698, 0.56875859, 0.12262134,\n",
       "       3.70338651, 3.90572041, 0.71033543, 0.89138699, 2.88174766,\n",
       "       1.79961986, 2.19771266, 1.01296169, 3.26834698, 1.01968266,\n",
       "       4.14825704, 0.67166249, 0.6984225 , 2.82072773, 2.07831464,\n",
       "       1.12381835, 2.23684953, 0.42065827, 3.96344529, 1.58215919,\n",
       "       4.70220485, 4.2688365 , 0.54269335, 0.45634422, 3.12088349,\n",
       "       0.06971806, 0.57660512, 4.55158445, 2.48171046, 1.41592878,\n",
       "       1.57204656, 0.54758545, 1.87884701, 1.66085529, 2.51191338,\n",
       "       2.89178113, 3.1608414 , 4.18614486, 1.76399272, 4.38679891,\n",
       "       3.59306698, 3.44342539, 1.07663102, 3.99806955, 3.53532773,\n",
       "       3.27961434, 1.55685578, 2.03865274, 1.48921217, 3.17848403,\n",
       "       1.25922922, 1.48473021, 0.34853933, 4.37917792, 2.80254568,\n",
       "       1.51737287, 0.02118737, 4.78780846, 1.14539801, 3.51953541,\n",
       "       4.75517241, 3.63852952, 1.37925724, 3.64247353, 0.88002034,\n",
       "       0.89305623, 1.952999  , 2.94581509, 0.93549077, 3.44676227,\n",
       "       4.09045024, 2.0268066 , 3.52736378, 4.22356591, 1.1963885 ,\n",
       "       3.71806025, 2.63929716, 3.33202434, 4.10019854, 1.26336114,\n",
       "       1.77572245, 3.57049246, 1.03251546, 2.17038861, 4.78915291,\n",
       "       4.1207556 , 1.15853645, 1.4047828 , 0.14159436, 3.86500269,\n",
       "       0.1122746 , 1.58476378, 4.45521059, 1.09111688, 4.7477973 ,\n",
       "       4.56976956, 3.56126585, 1.28362792, 2.16568713, 4.03782636,\n",
       "       0.66913985, 0.57812517, 0.15128752, 1.79154899, 1.05141003])"
      ]
     },
     "execution_count": 32,
     "metadata": {},
     "output_type": "execute_result"
    }
   ],
   "source": [
    "datos = np.random.uniform(0.0, 5.0, 250) # Crea una matriz con 250 números entre 0 y 5\n",
    "datos"
   ]
  },
  {
   "cell_type": "markdown",
   "id": "772ceb15-1dc6-4f62-a9a7-6e4925780f67",
   "metadata": {},
   "source": [
    "## Histograma"
   ]
  },
  {
   "cell_type": "code",
   "execution_count": 33,
   "id": "513d82ab-ddd0-4261-9438-8773e795bb29",
   "metadata": {},
   "outputs": [],
   "source": [
    "import matplotlib.pyplot as plt"
   ]
  },
  {
   "cell_type": "code",
   "execution_count": 34,
   "id": "3f3576a6-4588-4284-8fa2-7ca0c6d3be91",
   "metadata": {},
   "outputs": [
    {
     "data": {
      "image/png": "[encoded data removed]",
      "text/plain": [
       "<Figure size 640x480 with 1 Axes>"
      ]
     },
     "metadata": {},
     "output_type": "display_data"
    }
   ],
   "source": [
    "plt.hist(datos, 5) # 5 barras\n",
    "plt.show()"
   ]
  },
  {
   "cell_type": "markdown",
   "id": "a5a5b8b8-7efd-430d-93b0-08fd08549b26",
   "metadata": {},
   "source": [
    "* Primera barra representa cuántos valores de la matriz están entre 0 y 1\n",
    "* Segunda barra representa cuántos valores de la matriz están entre 1 y 2\n",
    "* Etc."
   ]
  },
  {
   "cell_type": "markdown",
   "id": "fc39af25-210a-4501-89c7-1c4c44406563",
   "metadata": {},
   "source": [
    "## Distribución normal de datos"
   ]
  },
  {
   "cell_type": "markdown",
   "id": "9e007916-f3b2-41ba-b381-a4131fb3f5c0",
   "metadata": {},
   "source": [
    "* Los valores se concentran alrededor de un valor dado"
   ]
  },
  {
   "cell_type": "code",
   "execution_count": 35,
   "id": "df910c0a-a75a-496f-8d06-78094a2461bd",
   "metadata": {},
   "outputs": [
    {
     "data": {
      "image/png": "[encoded data removed]",
      "text/plain": [
       "<Figure size 640x480 with 1 Axes>"
      ]
     },
     "metadata": {},
     "output_type": "display_data"
    }
   ],
   "source": [
    "datos = np.random.normal(5.0, 1.0, 100000) # 5.0 es el valor medio y 1.0 la desviación estándar\n",
    "plt.hist(datos, 100)\n",
    "plt.show()"
   ]
  },
  {
   "cell_type": "markdown",
   "id": "f08bd467-0be3-4bcf-bd56-7f3e370c2b15",
   "metadata": {},
   "source": [
    "## Diagrama de dispersión"
   ]
  },
  {
   "cell_type": "markdown",
   "id": "f4c25392-5b72-45f2-bca5-c7a70a647a8c",
   "metadata": {},
   "source": [
    "* Cada valor del conjunto de datos está representado por un punto"
   ]
  },
  {
   "cell_type": "code",
   "execution_count": 36,
   "id": "586596b3-9036-4b2c-a177-1edd6882c212",
   "metadata": {},
   "outputs": [
    {
     "data": {
      "image/png": "[encoded data removed]",
      "text/plain": [
       "<Figure size 640x480 with 1 Axes>"
      ]
     },
     "metadata": {},
     "output_type": "display_data"
    }
   ],
   "source": [
    "x_edad_auto = [5,7,8,7,2,17,2,9,4,11,12,9,6]\n",
    "y_veloc_auto = [99,86,87,88,111,86,103,87,94,78,77,85,86]\n",
    "\n",
    "plt.scatter(x_edad_auto, y_veloc_auto)\n",
    "plt.show()"
   ]
  },
  {
   "cell_type": "markdown",
   "id": "66754e84-514d-41d3-b972-9b82e95eac6c",
   "metadata": {},
   "source": [
    "* Los dos autos más rápidos tienen 2 años y el auto más lento 12 años\n",
    "* Parece que cuánto más nuevo es el auto, más rápido va (sólo se registró 13 casos)"
   ]
  },
  {
   "cell_type": "markdown",
   "id": "45f6e67a-4ef7-4d5c-9abc-5a7369270ad3",
   "metadata": {},
   "source": [
    "## Distribución de datos aleatorios"
   ]
  },
  {
   "cell_type": "code",
   "execution_count": 38,
   "id": "012f4b86-15e5-4555-984f-818017148eea",
   "metadata": {},
   "outputs": [
    {
     "data": {
      "image/png": "[encoded data removed]",
      "text/plain": [
       "<Figure size 640x480 with 1 Axes>"
      ]
     },
     "metadata": {},
     "output_type": "display_data"
    }
   ],
   "source": [
    "x = np.random.normal(5.0, 1.0, 1000)\n",
    "y = np.random.normal(10.0, 2.0, 1000)\n",
    "\n",
    "plt.scatter(x, y)\n",
    "plt.show()"
   ]
  },
  {
   "cell_type": "markdown",
   "id": "40f39475-aea4-4418-9f78-5cc758e4bc27",
   "metadata": {},
   "source": [
    "* Los puntos se concentran alrededor del valor 5 en el eje x y 10 en el eje y\n",
    "* También se ve que la dispersión es mayor en el eje y que en el eje x"
   ]
  },
  {
   "cell_type": "markdown",
   "id": "d2fafb10-71a7-4137-91d3-33e0434e9c46",
   "metadata": {},
   "source": [
    "## Regresión lineal"
   ]
  },
  {
   "cell_type": "markdown",
   "id": "fa8c300a-668f-441f-809a-d7cb048bc91e",
   "metadata": {},
   "source": [
    "* Regresión: se usa cuando se intenta encontrar la relación entre variables. Se usa para predecir el resultado de eventos futuros\n",
    "* Regresión lineal: utiliza la relación para dibujar una línea recta a través de todos los puntos. Para predecir valores futuros"
   ]
  },
  {
   "cell_type": "code",
   "execution_count": 39,
   "id": "9b6be6e5-4859-49c6-b584-e8eaae41c476",
   "metadata": {},
   "outputs": [],
   "source": [
    "from scipy import stats"
   ]
  },
  {
   "cell_type": "code",
   "execution_count": 40,
   "id": "5f7dc131-7228-4d74-baa6-85b2fa2c4cdb",
   "metadata": {},
   "outputs": [
    {
     "data": {
      "image/png": "[encoded data removed]",
      "text/plain": [
       "<Figure size 640x480 with 1 Axes>"
      ]
     },
     "metadata": {},
     "output_type": "display_data"
    }
   ],
   "source": [
    "# slope: pendiente\n",
    "# intercept: intersección\n",
    "# r: r-valor (coef. de determinación o correlación)\n",
    "# p: p-valor (prueba de hipótesis de no correlación)\n",
    "# std_err: error estándar del gradiente estimado\n",
    "slope, intercept, r, p, std_err = stats.linregress(x_edad_auto, y_veloc_auto)\n",
    "\n",
    "def myfunc(x):\n",
    "  return slope * x + intercept\n",
    "\n",
    "mymodel = list(map(myfunc, x_edad_auto))\n",
    "\n",
    "plt.scatter(x_edad_auto, y_veloc_auto)\n",
    "plt.plot(x_edad_auto, mymodel)\n",
    "plt.show()"
   ]
  },
  {
   "cell_type": "markdown",
   "id": "1f4258cb-dacf-498f-ad4e-07cc15d0bd36",
   "metadata": {},
   "source": [
    "### R de Relación"
   ]
  },
  {
   "cell_type": "code",
   "execution_count": 41,
   "id": "4e7eb1e9-64e5-455a-9729-47dd1bea96c2",
   "metadata": {},
   "outputs": [
    {
     "data": {
      "text/plain": [
       "-0.758591524376155"
      ]
     },
     "execution_count": 41,
     "metadata": {},
     "output_type": "execute_result"
    }
   ],
   "source": [
    "slope, intercept, rvalue, pvalue, stderr = stats.linregress(x_edad_auto, y_veloc_auto)\n",
    "rvalue"
   ]
  },
  {
   "cell_type": "markdown",
   "id": "2bea51a6-03b3-4781-b812-bb90fb1653ba",
   "metadata": {},
   "source": [
    "* El rvalue varía de -1 a 1, donde 0 significa que no hay relación y 1 (y -1) significa que hay 100 % de relación\n",
    "* -0.76 muestra que existe una relación, no perfecta, pero indica que se puede usar la regresión lineal en futuras predicciones"
   ]
  },
  {
   "cell_type": "markdown",
   "id": "8a01ceee-927d-4fda-a7ad-3ed054218088",
   "metadata": {},
   "source": [
    "### Predecir valores futuros"
   ]
  },
  {
   "cell_type": "markdown",
   "id": "752493e3-4381-4a94-8b02-8a24a5f7921a",
   "metadata": {},
   "source": [
    "* **Ejemplo**: predecir la velocidad de un auto de 10 años"
   ]
  },
  {
   "cell_type": "code",
   "execution_count": 42,
   "id": "a8612c69-103f-41d4-9eab-a867d24363d3",
   "metadata": {},
   "outputs": [
    {
     "data": {
      "text/plain": [
       "85.59308314937454"
      ]
     },
     "execution_count": 42,
     "metadata": {},
     "output_type": "execute_result"
    }
   ],
   "source": [
    "speed = myfunc(10)\n",
    "speed"
   ]
  },
  {
   "cell_type": "markdown",
   "id": "292f9645-82b8-4f19-98d6-e027ac60f9e7",
   "metadata": {},
   "source": [
    "## Regresión polinomial"
   ]
  },
  {
   "cell_type": "code",
   "execution_count": 43,
   "id": "013e7944-e4bc-422d-a0f4-27ec269ae024",
   "metadata": {},
   "outputs": [
    {
     "data": {
      "image/png": "[encoded data removed]",
      "text/plain": [
       "<Figure size 640x480 with 1 Axes>"
      ]
     },
     "metadata": {},
     "output_type": "display_data"
    }
   ],
   "source": [
    "x_hs_dia = [1,2,3,5,6,7,8,9,10,12,13,14,15,16,18,19,21,22]\n",
    "y_veloc  = [100,90,80,60,60,55,60,65,70,70,75,76,78,79,90,99,99,100]\n",
    "\n",
    "mymodel = np.poly1d(np.polyfit(x_hs_dia, y_veloc, 3))\n",
    "\n",
    "myline = np.linspace(1, 22, 100)\n",
    "\n",
    "plt.scatter(x_hs_dia, y_veloc)\n",
    "plt.plot(myline, mymodel(myline))\n",
    "plt.show()"
   ]
  },
  {
   "cell_type": "markdown",
   "id": "7010c162-ef8f-48ae-9931-c70713f6c71d",
   "metadata": {},
   "source": [
    "### R-cuadrado"
   ]
  },
  {
   "cell_type": "markdown",
   "id": "12e2f42e-43a4-4b59-8229-009b3f6ff79c",
   "metadata": {},
   "source": [
    "* Determinar que tan buena es la relación entre los valores de x e y, si no hay relación, la regresión polinomial no se puede utilizar para predecir nada\n",
    "* La relación se mide con un valor llamado r-cuadrado, varía entre 0 y 1:\n",
    "    * 0: no hay relación\n",
    "    * 1: relación del 100%"
   ]
  },
  {
   "cell_type": "code",
   "execution_count": 44,
   "id": "11e36773-ed0c-47a2-9ef5-68fe70f6ee22",
   "metadata": {},
   "outputs": [],
   "source": [
    "from sklearn.metrics import r2_score"
   ]
  },
  {
   "cell_type": "code",
   "execution_count": 45,
   "id": "65d685dc-5cd0-4340-a5e3-c91e97c419fa",
   "metadata": {},
   "outputs": [
    {
     "data": {
      "text/plain": [
       "0.9432150416451025"
      ]
     },
     "execution_count": 45,
     "metadata": {},
     "output_type": "execute_result"
    }
   ],
   "source": [
    "r2 = r2_score(y_veloc, mymodel(x_hs_dia))\n",
    "r2"
   ]
  },
  {
   "cell_type": "markdown",
   "id": "c13b92ba-d48d-42b5-8663-260014d04561",
   "metadata": {},
   "source": [
    "### Predecir valores futuros"
   ]
  },
  {
   "cell_type": "markdown",
   "id": "4333c69e-30ec-4037-92ca-e1d3ac96badf",
   "metadata": {},
   "source": [
    "* **Ejemplo**: predecir la velocidad de un auto que pasa por el peaje alrededor de las 17:00"
   ]
  },
  {
   "cell_type": "code",
   "execution_count": 46,
   "id": "8b4a2027-94c4-4ff1-9286-ec72fa4210bd",
   "metadata": {},
   "outputs": [
    {
     "data": {
      "text/plain": [
       "88.87331269697991"
      ]
     },
     "execution_count": 46,
     "metadata": {},
     "output_type": "execute_result"
    }
   ],
   "source": [
    "speed = mymodel(17)\n",
    "speed"
   ]
  }
 ],
 "metadata": {
  "kernelspec": {
   "display_name": "Python [conda env:base] *",
   "language": "python",
   "name": "conda-base-py"
  },
  "language_info": {
   "codemirror_mode": {
    "name": "ipython",
    "version": 3
   },
   "file_extension": ".py",
   "mimetype": "text/x-python",
   "name": "python",
   "nbconvert_exporter": "python",
   "pygments_lexer": "ipython3",
   "version": "3.12.7"
  }
 },
 "nbformat": 4,
 "nbformat_minor": 5
}
