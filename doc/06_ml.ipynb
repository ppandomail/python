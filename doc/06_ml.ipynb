{
 "cells": [
  {
   "cell_type": "markdown",
   "id": "f035a41c-5900-429b-8ef4-4fa3287ec9c8",
   "metadata": {},
   "source": [
    "# ML"
   ]
  },
  {
   "cell_type": "markdown",
   "id": "11031caf-1f64-4e61-b5d2-32c45d734eb2",
   "metadata": {},
   "source": [
    "* Hace que la computadora aprenda a partir del estudio de datos y estadísticas\n",
    "* Es un programa que analiza datos y aprende a predecir el resultado"
   ]
  },
  {
   "cell_type": "markdown",
   "id": "da4b4f66-2386-42b5-ba8e-cb8ae4f024a9",
   "metadata": {},
   "source": [
    "## Dataset"
   ]
  },
  {
   "cell_type": "markdown",
   "id": "328829e7-1c34-4aa7-a333-89397d972008",
   "metadata": {},
   "source": [
    "* Colección de datos\n",
    "* Ejemplo: [99,86,87,88,111,86,103,87,94,78,77,85,86]"
   ]
  },
  {
   "cell_type": "markdown",
   "id": "61434f01-0ed2-4654-918b-981056923366",
   "metadata": {},
   "source": [
    "## Tipos de datos"
   ]
  },
  {
   "cell_type": "markdown",
   "id": "0accb75e-c6aa-4112-8f9a-b127649c9d5f",
   "metadata": {},
   "source": [
    "* **Númerico** \n",
    "    * **discretos**: datos contados limitados a números enteros (autos que pasan)\n",
    "    * **continuos**: datos medidos que pueden ser cualquier número (precio)\n",
    "* **Categórico**: valores que no se pueden comparar entre sí (color)\n",
    "* **Ordinal**: pueden compararse entre sí (notas)"
   ]
  },
  {
   "cell_type": "markdown",
   "id": "85a5b82f-c217-42e5-9963-62c3c3dc5370",
   "metadata": {},
   "source": [
    "## Media, mediana y moda"
   ]
  },
  {
   "cell_type": "markdown",
   "id": "113bc83b-b800-4125-b63c-78b1149561e3",
   "metadata": {},
   "source": [
    "* **Media**: valor promedio\n",
    "* **Mediana**: valor del punto medio\n",
    "* **Moda**: valor mas común"
   ]
  },
  {
   "cell_type": "markdown",
   "id": "c94344de-ebaa-46ad-8e6a-d358d9599368",
   "metadata": {},
   "source": [
    "* **Ejemplo**: se ha registrado la velocidad de 13 autos\n",
    "    * speed = [99,86,87,88,111,86,103,87,94,78,77,85,86]"
   ]
  },
  {
   "cell_type": "code",
   "execution_count": 2,
   "id": "093b15b2-3cff-416a-a11b-4e9f79fe2bf8",
   "metadata": {},
   "outputs": [],
   "source": [
    "import numpy"
   ]
  },
  {
   "cell_type": "code",
   "execution_count": 3,
   "id": "ae6d8ae4-49e9-46e7-b7b3-a0c51c5e1104",
   "metadata": {},
   "outputs": [],
   "source": [
    "speed = [99,86,87,88,111,86,103,87,94,78,77,85,86]"
   ]
  },
  {
   "cell_type": "code",
   "execution_count": 6,
   "id": "ef9f1051-2f6c-4fb0-90f5-1ec48b62a48c",
   "metadata": {},
   "outputs": [
    {
     "data": {
      "text/plain": [
       "89.76923076923077"
      ]
     },
     "execution_count": 6,
     "metadata": {},
     "output_type": "execute_result"
    }
   ],
   "source": [
    "media = numpy.mean(speed)\n",
    "media"
   ]
  },
  {
   "cell_type": "code",
   "execution_count": 7,
   "id": "b91275e1-2c4c-4711-839b-6ec06c177080",
   "metadata": {},
   "outputs": [
    {
     "data": {
      "text/plain": [
       "87.0"
      ]
     },
     "execution_count": 7,
     "metadata": {},
     "output_type": "execute_result"
    }
   ],
   "source": [
    "mediana = numpy.median(speed)\n",
    "mediana"
   ]
  },
  {
   "cell_type": "code",
   "execution_count": 8,
   "id": "c8bb2c2c-e9fd-4294-91b2-16f2b15637e7",
   "metadata": {},
   "outputs": [],
   "source": [
    "from scipy import stats"
   ]
  },
  {
   "cell_type": "code",
   "execution_count": 9,
   "id": "99466d24-ade8-490c-af48-22b3aacdf3ed",
   "metadata": {},
   "outputs": [
    {
     "data": {
      "text/plain": [
       "ModeResult(mode=86, count=3)"
      ]
     },
     "execution_count": 9,
     "metadata": {},
     "output_type": "execute_result"
    }
   ],
   "source": [
    "moda = stats.mode(speed)\n",
    "moda"
   ]
  },
  {
   "cell_type": "markdown",
   "id": "5e0c5a09-80a8-4395-b7d0-2ca0a8561c32",
   "metadata": {},
   "source": [
    "## Desviación estándar"
   ]
  },
  {
   "cell_type": "markdown",
   "id": "70e9a365-cc02-466b-99c6-2f0509a0ec6e",
   "metadata": {},
   "source": [
    "* Describe que tan dispersos están los valores\n",
    "* si es baja -> números cerca del valor medio\n",
    "* si es alta -> valores distribuidos en un rango más amplio"
   ]
  },
  {
   "cell_type": "markdown",
   "id": "04b2c209-5cb6-488d-a315-c864543691c0",
   "metadata": {},
   "source": [
    "* **Ejemplo**: se ha registrado la velocidad de 7 autos\n",
    "    *  speed = [86,87,88,86,87,85,86]"
   ]
  },
  {
   "cell_type": "code",
   "execution_count": 10,
   "id": "5605cf32-373e-4275-95d6-4c11cd3fc431",
   "metadata": {},
   "outputs": [],
   "source": [
    "speed = [86,87,88,86,87,85,86]"
   ]
  },
  {
   "cell_type": "code",
   "execution_count": 11,
   "id": "40982065-ca16-470b-80bc-69c1982b41c2",
   "metadata": {},
   "outputs": [
    {
     "data": {
      "text/plain": [
       "0.9035079029052513"
      ]
     },
     "execution_count": 11,
     "metadata": {},
     "output_type": "execute_result"
    }
   ],
   "source": [
    "sd = numpy.std(speed)\n",
    "sd"
   ]
  },
  {
   "cell_type": "markdown",
   "id": "999017c6-1020-42d1-981d-c9f218370566",
   "metadata": {},
   "source": [
    "## Varianza"
   ]
  },
  {
   "cell_type": "markdown",
   "id": "e2980615-6846-4840-a649-e55967acd48f",
   "metadata": {},
   "source": [
    "* Indica que tan dispersos están los valores\n",
    "* Pasos:\n",
    "  1. Encontrar la media\n",
    "  2. Para cada valor encontrar la diferencia con la media\n",
    "  3. Para cada diferencia encontrar el valor cuadrado\n",
    "  4. La varianza es el número promedio de estas diferencias al cuadrado     "
   ]
  },
  {
   "cell_type": "code",
   "execution_count": 12,
   "id": "0edbcd4d-378f-4e23-8167-6a53be981a39",
   "metadata": {},
   "outputs": [],
   "source": [
    "speed = [32,111,138,28,59,77,97]"
   ]
  },
  {
   "cell_type": "code",
   "execution_count": 13,
   "id": "74aa84ae-c8c6-4f44-b859-04681cbe8aaf",
   "metadata": {},
   "outputs": [
    {
     "data": {
      "text/plain": [
       "1432.2448979591834"
      ]
     },
     "execution_count": 13,
     "metadata": {},
     "output_type": "execute_result"
    }
   ],
   "source": [
    "var = numpy.var(speed)\n",
    "var"
   ]
  },
  {
   "cell_type": "code",
   "execution_count": 14,
   "id": "4b4e791e-e339-4b95-8b10-508e5c1c1526",
   "metadata": {},
   "outputs": [
    {
     "data": {
      "text/plain": [
       "37.84501153334721"
      ]
     },
     "execution_count": 14,
     "metadata": {},
     "output_type": "execute_result"
    }
   ],
   "source": [
    "sd = numpy.std(speed)\n",
    "sd"
   ]
  },
  {
   "cell_type": "markdown",
   "id": "37c21d74-111c-4408-9880-2dc14c8d3342",
   "metadata": {},
   "source": [
    "## Percentiles"
   ]
  },
  {
   "cell_type": "markdown",
   "id": "7b679129-302f-45c4-9060-91db3c68c45d",
   "metadata": {},
   "source": [
    "* Se usan para proporcionar un número que describe el valor al cual un porcentaje determinado de los valores es inferior"
   ]
  },
  {
   "cell_type": "markdown",
   "id": "176867ed-1d7f-4865-8def-a6a288683062",
   "metadata": {},
   "source": [
    "* **Ejemplo**: edades de todas las personas que viven en una calle\n",
    "    * ages = [5,31,43,48,50,41,7,11,15,39,80,82,32,2,8,6,25,36,27,61,31]  "
   ]
  },
  {
   "cell_type": "markdown",
   "id": "7b039306-c828-4e63-894b-136f98dc0b5c",
   "metadata": {},
   "source": [
    "* ¿Cuál es el percentil 75?\n",
    "    * La respuesta es 43, lo que significa que el 75 % de las personas tienen 43 años o menos"
   ]
  },
  {
   "cell_type": "code",
   "execution_count": 17,
   "id": "fc876178-7bce-40f4-ae56-d2c7564df2c3",
   "metadata": {},
   "outputs": [
    {
     "data": {
      "text/plain": [
       "43.0"
      ]
     },
     "execution_count": 17,
     "metadata": {},
     "output_type": "execute_result"
    }
   ],
   "source": [
    "ages = [5,31,43,48,50,41,7,11,15,39,80,82,32,2,8,6,25,36,27,61,31]\n",
    "\n",
    "percentil75 = numpy.percentile(ages, 75)\n",
    "percentil75"
   ]
  },
  {
   "cell_type": "markdown",
   "id": "f17d8378-0e00-4493-bc04-ba78bd384f57",
   "metadata": {},
   "source": [
    "## Distribución de datos"
   ]
  },
  {
   "cell_type": "code",
   "execution_count": 20,
   "id": "04f8a83a-82b2-478c-836d-cfdb2aa12c00",
   "metadata": {},
   "outputs": [
    {
     "data": {
      "text/plain": [
       "array([1.95319893, 4.44477548, 3.02644962, 3.37673634, 2.99104038,\n",
       "       3.55258022, 3.18981413, 0.90217998, 1.83050623, 3.12580485,\n",
       "       4.42885463, 1.72162855, 3.35499253, 0.06501543, 1.93373705,\n",
       "       1.69470631, 2.28518571, 0.05997614, 3.31297541, 0.70493109,\n",
       "       0.03541891, 4.72660538, 2.39706857, 2.7739409 , 1.45667543,\n",
       "       1.40421326, 3.01847446, 4.4342009 , 0.41597986, 0.57702042,\n",
       "       0.93610493, 1.19978582, 4.87173167, 3.14123977, 0.52995904,\n",
       "       2.86349025, 3.84810257, 3.75385061, 4.19573125, 3.47108295,\n",
       "       1.72310521, 3.10138344, 2.17023582, 0.92531256, 4.91743751,\n",
       "       0.79553397, 0.7961345 , 4.41639623, 0.6050654 , 0.06775848,\n",
       "       4.09118196, 1.87153017, 3.60293573, 4.79211614, 2.80962975,\n",
       "       4.3913533 , 3.7259185 , 3.38278688, 0.18384284, 3.73716971,\n",
       "       4.41709753, 4.50276515, 0.80966284, 1.84677175, 3.5241889 ,\n",
       "       1.1773189 , 3.89458685, 0.37556458, 4.79834202, 3.95161009,\n",
       "       2.70665605, 4.38567501, 4.31606985, 0.16565604, 3.70560454,\n",
       "       3.77805214, 0.37471991, 2.27685703, 3.98314534, 2.18451529,\n",
       "       1.23603228, 3.23595484, 1.39350918, 0.92010389, 2.87715699,\n",
       "       3.55145331, 4.32967142, 0.17287638, 3.13015459, 1.56103454,\n",
       "       3.49555748, 3.52325156, 1.29231534, 4.45976739, 2.34078733,\n",
       "       2.72805963, 0.88766841, 0.45161337, 3.52913714, 1.68125125,\n",
       "       4.17073449, 4.80827284, 2.21291883, 2.24740211, 1.20579712,\n",
       "       3.57115916, 4.58383431, 3.84771063, 3.76452275, 2.48298696,\n",
       "       0.46210812, 1.86057183, 0.55868745, 2.36351896, 1.23557915,\n",
       "       2.47898952, 0.12151873, 2.92544202, 0.61383873, 3.96083031,\n",
       "       4.36185045, 0.94609885, 0.65356219, 0.16026097, 1.4765401 ,\n",
       "       2.36308855, 1.40730145, 2.50947986, 3.38653272, 1.9428038 ,\n",
       "       4.09252139, 4.63962657, 0.86560366, 2.79580526, 3.88245998,\n",
       "       1.18249964, 3.58777414, 1.64987861, 1.77549034, 4.33633009,\n",
       "       1.92585254, 3.79534596, 2.73697481, 3.4086529 , 4.52798453,\n",
       "       4.97154376, 3.82500971, 4.4589066 , 0.43390105, 2.87267098,\n",
       "       2.25900817, 0.32471749, 4.89607147, 1.32431367, 1.47603083,\n",
       "       3.55250594, 0.94106328, 0.85849747, 3.86504955, 2.20683622,\n",
       "       2.49420105, 3.11730171, 4.01786455, 2.64515217, 3.81363771,\n",
       "       2.572888  , 3.2756419 , 3.99882355, 2.91063237, 0.53121321,\n",
       "       1.45298011, 4.8458243 , 0.46535036, 2.6767719 , 0.53926991,\n",
       "       1.46331608, 4.11968221, 1.76385259, 0.76236692, 2.28752198,\n",
       "       4.50843039, 1.58906865, 2.24645698, 2.37520304, 0.85249045,\n",
       "       4.72688208, 1.10968792, 2.39403682, 2.02784681, 0.99145533,\n",
       "       1.48410152, 1.69460096, 3.89907201, 1.93568656, 1.44371048,\n",
       "       1.87021305, 1.01592476, 4.66536153, 4.77533115, 2.58878112,\n",
       "       4.12057595, 1.50004388, 4.61045729, 3.24152544, 1.61260392,\n",
       "       0.83438228, 3.49205378, 4.05970169, 0.90535549, 3.81737064,\n",
       "       2.44355272, 3.98649989, 1.64406471, 3.39774299, 0.76771263,\n",
       "       2.39179403, 4.72295698, 4.68614517, 4.09130052, 2.26450267,\n",
       "       0.20813955, 0.12449279, 3.1952319 , 1.04878658, 3.46516549,\n",
       "       0.68816273, 2.47995376, 3.65167371, 0.23156414, 0.79723239,\n",
       "       3.07884977, 4.08899312, 3.49819741, 4.41744166, 4.79944366,\n",
       "       1.90955555, 0.62677856, 4.32217343, 3.38764833, 4.39858707,\n",
       "       3.44466112, 4.69176126, 1.08768166, 3.555128  , 2.54269151,\n",
       "       1.7081956 , 2.29468202, 0.55304392, 2.9746331 , 4.70208947])"
      ]
     },
     "execution_count": 20,
     "metadata": {},
     "output_type": "execute_result"
    }
   ],
   "source": [
    "datos = numpy.random.uniform(0.0, 5.0, 250) # Crea una matriz con 250 números entre 0 y 5\n",
    "datos"
   ]
  },
  {
   "cell_type": "markdown",
   "id": "772ceb15-1dc6-4f62-a9a7-6e4925780f67",
   "metadata": {},
   "source": [
    "## Histograma"
   ]
  },
  {
   "cell_type": "code",
   "execution_count": 23,
   "id": "513d82ab-ddd0-4261-9438-8773e795bb29",
   "metadata": {},
   "outputs": [],
   "source": [
    "import matplotlib.pyplot as plt"
   ]
  },
  {
   "cell_type": "code",
   "execution_count": 25,
   "id": "3f3576a6-4588-4284-8fa2-7ca0c6d3be91",
   "metadata": {},
   "outputs": [
    {
     "data": {
      "image/png": "[encoded data removed]",
      "text/plain": [
       "<Figure size 640x480 with 1 Axes>"
      ]
     },
     "metadata": {},
     "output_type": "display_data"
    }
   ],
   "source": [
    "plt.hist(datos, 5) # 5 barras\n",
    "plt.show()"
   ]
  },
  {
   "cell_type": "markdown",
   "id": "a5a5b8b8-7efd-430d-93b0-08fd08549b26",
   "metadata": {},
   "source": [
    "* Primera barra representa cuántos valores de la matriz están entre 0 y 1\n",
    "* Segunda barra representa cuántos valores de la matriz están entre 1 y 2\n",
    "* Etc."
   ]
  },
  {
   "cell_type": "markdown",
   "id": "fc39af25-210a-4501-89c7-1c4c44406563",
   "metadata": {},
   "source": [
    "## Distribución normal de datos"
   ]
  },
  {
   "cell_type": "markdown",
   "id": "9e007916-f3b2-41ba-b381-a4131fb3f5c0",
   "metadata": {},
   "source": [
    "* Los valores se concentran alrededor de un valor dado"
   ]
  },
  {
   "cell_type": "code",
   "execution_count": 30,
   "id": "df910c0a-a75a-496f-8d06-78094a2461bd",
   "metadata": {},
   "outputs": [
    {
     "data": {
      "image/png": "[encoded data removed]",
      "text/plain": [
       "<Figure size 640x480 with 1 Axes>"
      ]
     },
     "metadata": {},
     "output_type": "display_data"
    }
   ],
   "source": [
    "datos = numpy.random.normal(5.0, 1.0, 100000) # 5.0 es el valor medio y 1.0 la desviación estándar\n",
    "plt.hist(datos, 100)\n",
    "plt.show()"
   ]
  },
  {
   "cell_type": "markdown",
   "id": "f08bd467-0be3-4bcf-bd56-7f3e370c2b15",
   "metadata": {},
   "source": [
    "## Diagrama de dispersión"
   ]
  },
  {
   "cell_type": "markdown",
   "id": "f4c25392-5b72-45f2-bca5-c7a70a647a8c",
   "metadata": {},
   "source": [
    "* Cada valor del conjunto de datos está representado por un punto"
   ]
  },
  {
   "cell_type": "code",
   "execution_count": 31,
   "id": "586596b3-9036-4b2c-a177-1edd6882c212",
   "metadata": {},
   "outputs": [
    {
     "data": {
      "image/png": "[encoded data removed]",
      "text/plain": [
       "<Figure size 640x480 with 1 Axes>"
      ]
     },
     "metadata": {},
     "output_type": "display_data"
    }
   ],
   "source": [
    "x_edad_auto = [5,7,8,7,2,17,2,9,4,11,12,9,6]\n",
    "y_veloc_auto = [99,86,87,88,111,86,103,87,94,78,77,85,86]\n",
    "\n",
    "plt.scatter(x_edad_auto, y_veloc_auto)\n",
    "plt.show()"
   ]
  },
  {
   "cell_type": "markdown",
   "id": "66754e84-514d-41d3-b972-9b82e95eac6c",
   "metadata": {},
   "source": [
    "* Los dos autos más rápidos tienen 2 años y el auto más lento 12 años\n",
    "* Parece que cuánto más nuevo es el auto, más rápido va (sólo se registró 13 casos)"
   ]
  },
  {
   "cell_type": "markdown",
   "id": "45f6e67a-4ef7-4d5c-9abc-5a7369270ad3",
   "metadata": {},
   "source": [
    "## Distribución de datos aleatorios"
   ]
  },
  {
   "cell_type": "code",
   "execution_count": 32,
   "id": "012f4b86-15e5-4555-984f-818017148eea",
   "metadata": {},
   "outputs": [
    {
     "data": {
      "image/png": "[encoded data removed]",
      "text/plain": [
       "<Figure size 640x480 with 1 Axes>"
      ]
     },
     "metadata": {},
     "output_type": "display_data"
    }
   ],
   "source": [
    "x = numpy.random.normal(5.0, 1.0, 1000)\n",
    "y = numpy.random.normal(10.0, 2.0, 1000)\n",
    "\n",
    "plt.scatter(x, y)\n",
    "plt.show()"
   ]
  },
  {
   "cell_type": "markdown",
   "id": "40f39475-aea4-4418-9f78-5cc758e4bc27",
   "metadata": {},
   "source": [
    "* Los puntos se concentran alrededor del valor 5 en el eje x y 10 en el eje y\n",
    "* También se ve que la dispersión es mayor en el eje y que en el eje x"
   ]
  },
  {
   "cell_type": "markdown",
   "id": "d2fafb10-71a7-4137-91d3-33e0434e9c46",
   "metadata": {},
   "source": [
    "## Regresión lineal"
   ]
  },
  {
   "cell_type": "markdown",
   "id": "fa8c300a-668f-441f-809a-d7cb048bc91e",
   "metadata": {},
   "source": [
    "* Regresión: se usa cuando se intenta encontrar la relación entre variables. Se usa para predecir el resultado de eventos futuros\n",
    "* Regresión lineal: utiliza la relación para dibujar una línea recta a través de todos los puntos. Para predecir valores futuros"
   ]
  },
  {
   "cell_type": "code",
   "execution_count": 34,
   "id": "9b6be6e5-4859-49c6-b584-e8eaae41c476",
   "metadata": {},
   "outputs": [],
   "source": [
    "from scipy import stats"
   ]
  },
  {
   "cell_type": "code",
   "execution_count": 39,
   "id": "5f7dc131-7228-4d74-baa6-85b2fa2c4cdb",
   "metadata": {},
   "outputs": [
    {
     "data": {
      "image/png": "[encoded data removed]",
      "text/plain": [
       "<Figure size 640x480 with 1 Axes>"
      ]
     },
     "metadata": {},
     "output_type": "display_data"
    }
   ],
   "source": [
    "# slope: pendiente\n",
    "# intercept: intersección\n",
    "# r: r-valor (coef. de determinación o correlación)\n",
    "# p: p-valor (prueba de hipótesis de no correlación)\n",
    "# std_err: error estándar del gradiente estimado\n",
    "slope, intercept, r, p, std_err = stats.linregress(x_edad_auto, y_veloc_auto)\n",
    "\n",
    "def myfunc(x):\n",
    "  return slope * x + intercept\n",
    "\n",
    "mymodel = list(map(myfunc, x_edad_auto))\n",
    "\n",
    "plt.scatter(x_edad_auto, y_veloc_auto)\n",
    "plt.plot(x_edad_auto, mymodel)\n",
    "plt.show()"
   ]
  },
  {
   "cell_type": "markdown",
   "id": "1f4258cb-dacf-498f-ad4e-07cc15d0bd36",
   "metadata": {},
   "source": [
    "### R de Relación"
   ]
  },
  {
   "cell_type": "code",
   "execution_count": 42,
   "id": "4e7eb1e9-64e5-455a-9729-47dd1bea96c2",
   "metadata": {},
   "outputs": [
    {
     "data": {
      "text/plain": [
       "-0.758591524376155"
      ]
     },
     "execution_count": 42,
     "metadata": {},
     "output_type": "execute_result"
    }
   ],
   "source": [
    "slope, intercept, rvalue, pvalue, stderr = stats.linregress(x_edad_auto, y_veloc_auto)\n",
    "rvalue"
   ]
  },
  {
   "cell_type": "markdown",
   "id": "2bea51a6-03b3-4781-b812-bb90fb1653ba",
   "metadata": {},
   "source": [
    "* El rvalue varía de -1 a 1, donde 0 significa que no hay relación y 1 (y -1) significa que hay 100 % de relación\n",
    "* -0.76 muestra que existe una relación, no perfecta, pero indica que se puede usar la regresión lineal en futuras predicciones"
   ]
  },
  {
   "cell_type": "markdown",
   "id": "8a01ceee-927d-4fda-a7ad-3ed054218088",
   "metadata": {},
   "source": [
    "### Predecir valores futuros"
   ]
  },
  {
   "cell_type": "markdown",
   "id": "752493e3-4381-4a94-8b02-8a24a5f7921a",
   "metadata": {},
   "source": [
    "* **Ejemplo**: predecir la velocidad de un auto de 10 años"
   ]
  },
  {
   "cell_type": "code",
   "execution_count": 43,
   "id": "a8612c69-103f-41d4-9eab-a867d24363d3",
   "metadata": {},
   "outputs": [
    {
     "data": {
      "text/plain": [
       "85.59308314937454"
      ]
     },
     "execution_count": 43,
     "metadata": {},
     "output_type": "execute_result"
    }
   ],
   "source": [
    "speed = myfunc(10)\n",
    "speed"
   ]
  },
  {
   "cell_type": "markdown",
   "id": "292f9645-82b8-4f19-98d6-e027ac60f9e7",
   "metadata": {},
   "source": [
    "## Regresión polinomial"
   ]
  },
  {
   "cell_type": "code",
   "execution_count": 46,
   "id": "013e7944-e4bc-422d-a0f4-27ec269ae024",
   "metadata": {},
   "outputs": [
    {
     "data": {
      "image/png": "[encoded data removed]",
      "text/plain": [
       "<Figure size 640x480 with 1 Axes>"
      ]
     },
     "metadata": {},
     "output_type": "display_data"
    }
   ],
   "source": [
    "x_hs_dia = [1,2,3,5,6,7,8,9,10,12,13,14,15,16,18,19,21,22]\n",
    "y_veloc  = [100,90,80,60,60,55,60,65,70,70,75,76,78,79,90,99,99,100]\n",
    "\n",
    "mymodel = numpy.poly1d(numpy.polyfit(x_hs_dia, y_veloc, 3))\n",
    "\n",
    "myline = numpy.linspace(1, 22, 100)\n",
    "\n",
    "plt.scatter(x_hs_dia, y_veloc)\n",
    "plt.plot(myline, mymodel(myline))\n",
    "plt.show()"
   ]
  },
  {
   "cell_type": "markdown",
   "id": "7010c162-ef8f-48ae-9931-c70713f6c71d",
   "metadata": {},
   "source": [
    "### R-cuadrado"
   ]
  },
  {
   "cell_type": "markdown",
   "id": "12e2f42e-43a4-4b59-8229-009b3f6ff79c",
   "metadata": {},
   "source": [
    "* Determinar que tan buena es la relación entre los valores de x e y, si no hay relación, la regresión polinomial no se puede utilizar para predecir nada\n",
    "* La relación se mide con un valor llamado r-cuadrado, varía entre 0 y 1:\n",
    "    * 0: no hay relación\n",
    "    * 1: relación del 100%"
   ]
  },
  {
   "cell_type": "code",
   "execution_count": 49,
   "id": "11e36773-ed0c-47a2-9ef5-68fe70f6ee22",
   "metadata": {},
   "outputs": [],
   "source": [
    "from sklearn.metrics import r2_score"
   ]
  },
  {
   "cell_type": "code",
   "execution_count": 50,
   "id": "65d685dc-5cd0-4340-a5e3-c91e97c419fa",
   "metadata": {},
   "outputs": [
    {
     "data": {
      "text/plain": [
       "0.9432150416451025"
      ]
     },
     "execution_count": 50,
     "metadata": {},
     "output_type": "execute_result"
    }
   ],
   "source": [
    "r2 = r2_score(y_veloc, mymodel(x_hs_dia))\n",
    "r2"
   ]
  },
  {
   "cell_type": "markdown",
   "id": "c13b92ba-d48d-42b5-8663-260014d04561",
   "metadata": {},
   "source": [
    "### Predecir valores futuros"
   ]
  },
  {
   "cell_type": "markdown",
   "id": "4333c69e-30ec-4037-92ca-e1d3ac96badf",
   "metadata": {},
   "source": [
    "* **Ejemplo**: predecir la velocidad de un auto que pasa por el peaje alrededor de las 17:00"
   ]
  },
  {
   "cell_type": "code",
   "execution_count": 51,
   "id": "8b4a2027-94c4-4ff1-9286-ec72fa4210bd",
   "metadata": {},
   "outputs": [
    {
     "data": {
      "text/plain": [
       "88.87331269697991"
      ]
     },
     "execution_count": 51,
     "metadata": {},
     "output_type": "execute_result"
    }
   ],
   "source": [
    "speed = mymodel(17)\n",
    "speed"
   ]
  }
 ],
 "metadata": {
  "kernelspec": {
   "display_name": "Python [conda env:base] *",
   "language": "python",
   "name": "conda-base-py"
  },
  "language_info": {
   "codemirror_mode": {
    "name": "ipython",
    "version": 3
   },
   "file_extension": ".py",
   "mimetype": "text/x-python",
   "name": "python",
   "nbconvert_exporter": "python",
   "pygments_lexer": "ipython3",
   "version": "3.12.7"
  }
 },
 "nbformat": 4,
 "nbformat_minor": 5
}
