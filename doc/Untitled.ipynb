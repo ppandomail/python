{
 "cells": [
  {
   "cell_type": "code",
   "execution_count": 1,
   "id": "e563a638-1080-4527-8373-9ff056b897fe",
   "metadata": {},
   "outputs": [],
   "source": [
    "a <- c(10, 20, 30)"
   ]
  },
  {
   "cell_type": "code",
   "execution_count": 2,
   "id": "fdf93218-17ad-41d1-bdb8-425e6016c485",
   "metadata": {},
   "outputs": [
    {
     "data": {
      "text/html": [
       "100"
      ],
      "text/latex": [
       "100"
      ],
      "text/markdown": [
       "100"
      ],
      "text/plain": [
       "[1] 100"
      ]
     },
     "metadata": {},
     "output_type": "display_data"
    }
   ],
   "source": [
    "var(a)"
   ]
  },
  {
   "cell_type": "code",
   "execution_count": 3,
   "id": "2a9c7929-bfd1-451d-aab9-1b68f7d3ec7a",
   "metadata": {},
   "outputs": [
    {
     "data": {
      "text/html": [
       "20"
      ],
      "text/latex": [
       "20"
      ],
      "text/markdown": [
       "20"
      ],
      "text/plain": [
       "[1] 20"
      ]
     },
     "metadata": {},
     "output_type": "display_data"
    }
   ],
   "source": [
    "mean(a)\n"
   ]
  },
  {
   "cell_type": "code",
   "execution_count": null,
   "id": "303915fc-8de9-4a97-bc9b-4faecfba96c9",
   "metadata": {},
   "outputs": [],
   "source": [
    "x <- "
   ]
  }
 ],
 "metadata": {
  "kernelspec": {
   "display_name": "R",
   "language": "R",
   "name": "ir"
  },
  "language_info": {
   "codemirror_mode": "r",
   "file_extension": ".r",
   "mimetype": "text/x-r-source",
   "name": "R",
   "pygments_lexer": "r",
   "version": "4.4.3"
  }
 },
 "nbformat": 4,
 "nbformat_minor": 5
}
