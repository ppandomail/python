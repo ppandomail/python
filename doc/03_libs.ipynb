{
 "cells": [
  {
   "cell_type": "markdown",
   "id": "b213abcb-a1e7-45e0-93d8-c47a96592f09",
   "metadata": {},
   "source": [
    "# Librerias"
   ]
  },
  {
   "cell_type": "markdown",
   "id": "93dfc415-0892-4bd6-9529-b590ce375413",
   "metadata": {},
   "source": [
    "## Sin instalación"
   ]
  },
  {
   "cell_type": "markdown",
   "id": "9a179e46-9c89-40e0-bd62-8d0463b60a5d",
   "metadata": {},
   "source": [
    "### sys"
   ]
  },
  {
   "cell_type": "markdown",
   "id": "a75b1a1f-a5ae-42e4-8d58-a848dfac4946",
   "metadata": {},
   "source": [
    "* Funciones y parámetros específicos del SO"
   ]
  },
  {
   "cell_type": "code",
   "execution_count": 46,
   "id": "12fc0baa-702f-4236-beee-989db6721123",
   "metadata": {},
   "outputs": [],
   "source": [
    "import sys"
   ]
  },
  {
   "cell_type": "code",
   "execution_count": 47,
   "id": "e3c1966c-49c9-448a-b5d1-6a7fe38748ec",
   "metadata": {},
   "outputs": [
    {
     "name": "stdout",
     "output_type": "stream",
     "text": [
      "['/opt/anaconda3/lib/python3.12/site-packages/ipykernel_launcher.py', '-f', '/Users/ppando/Library/Jupyter/runtime/kernel-f6447c65-c47d-47d3-baa5-232439fc781a.json']\n",
      "/opt/anaconda3/lib/python3.12/site-packages/ipykernel_launcher.py\n",
      "-f\n",
      "/Users/ppando/Library/Jupyter/runtime/kernel-f6447c65-c47d-47d3-baa5-232439fc781a.json\n"
     ]
    }
   ],
   "source": [
    "print(sys.argv)        # argumentos de ejecución por línea de comandos\n",
    "for elem in sys.argv:\n",
    "  print(elem)"
   ]
  },
  {
   "cell_type": "markdown",
   "id": "d4b7177f-8781-443d-a727-5818dd10fae7",
   "metadata": {},
   "source": [
    "### io"
   ]
  },
  {
   "cell_type": "markdown",
   "id": "e309f330-86d6-4755-8be2-c59fcbf63028",
   "metadata": {},
   "source": [
    "* Funciones para manejo de flujo de datos y archivos"
   ]
  },
  {
   "cell_type": "markdown",
   "id": "fd686358-eedf-4d19-8d9b-d76c0095e982",
   "metadata": {},
   "source": [
    "### datetime"
   ]
  },
  {
   "cell_type": "markdown",
   "id": "0ded953f-72d5-4159-9e59-b303701756d5",
   "metadata": {},
   "source": [
    "* Funciones para fechas y tiempos"
   ]
  },
  {
   "cell_type": "code",
   "execution_count": 48,
   "id": "33e35bdd-7908-4531-973a-c31df917fc1d",
   "metadata": {},
   "outputs": [],
   "source": [
    "from datetime import datetime\n",
    "import pytz"
   ]
  },
  {
   "cell_type": "code",
   "execution_count": 49,
   "id": "d2b7140c-c9fc-42d5-8b18-5761533aaead",
   "metadata": {},
   "outputs": [
    {
     "data": {
      "text/plain": [
       "datetime.datetime(2025, 6, 8, 20, 30, 25, 837350)"
      ]
     },
     "execution_count": 49,
     "metadata": {},
     "output_type": "execute_result"
    }
   ],
   "source": [
    "datetime.now()"
   ]
  },
  {
   "cell_type": "code",
   "execution_count": 50,
   "id": "c936ba54-4760-4f68-a75c-686b0a28da65",
   "metadata": {},
   "outputs": [
    {
     "data": {
      "text/plain": [
       "'20250608_203026'"
      ]
     },
     "execution_count": 50,
     "metadata": {},
     "output_type": "execute_result"
    }
   ],
   "source": [
    "datetime.now().strftime('%Y%m%d_%H%M%S')"
   ]
  },
  {
   "cell_type": "code",
   "execution_count": 51,
   "id": "83af3724-dba3-4045-8519-33fcc8fbf03b",
   "metadata": {},
   "outputs": [
    {
     "data": {
      "text/plain": [
       "datetime.datetime(2025, 6, 8, 20, 30, 26, 394946, tzinfo=<DstTzInfo 'America/Buenos_Aires' -03-1 day, 21:00:00 STD>)"
      ]
     },
     "execution_count": 51,
     "metadata": {},
     "output_type": "execute_result"
    }
   ],
   "source": [
    "datetime.now(pytz.timezone('America/Buenos_Aires'))"
   ]
  },
  {
   "cell_type": "code",
   "execution_count": 52,
   "id": "40b535a1-1dab-4575-8461-b2001edf7b37",
   "metadata": {},
   "outputs": [
    {
     "data": {
      "text/plain": [
       "datetime.datetime(2025, 6, 8, 18, 30, 26, 648919, tzinfo=<DstTzInfo 'US/Central' CDT-1 day, 19:00:00 DST>)"
      ]
     },
     "execution_count": 52,
     "metadata": {},
     "output_type": "execute_result"
    }
   ],
   "source": [
    "datetime.now(pytz.timezone('US/Central'))"
   ]
  },
  {
   "cell_type": "markdown",
   "id": "9f00ad4d-13db-43b4-901e-e1a586997fb5",
   "metadata": {},
   "source": [
    "### math"
   ]
  },
  {
   "cell_type": "markdown",
   "id": "71d6ce06-8148-45ac-93fe-a907bf9c4ab6",
   "metadata": {},
   "source": [
    "* Funciones y constantes estadísticas. Representaciones, funciones trigonométricas, hiperbólicas"
   ]
  },
  {
   "cell_type": "code",
   "execution_count": 53,
   "id": "f57c3d09-29a0-451f-9687-11bf23008f2b",
   "metadata": {},
   "outputs": [],
   "source": [
    "import math"
   ]
  },
  {
   "cell_type": "code",
   "execution_count": 54,
   "id": "2dd31948-52bc-4741-97c4-b2d8efe670d7",
   "metadata": {},
   "outputs": [
    {
     "data": {
      "text/plain": [
       "8.0"
      ]
     },
     "execution_count": 54,
     "metadata": {},
     "output_type": "execute_result"
    }
   ],
   "source": [
    "math.sqrt(64)"
   ]
  },
  {
   "cell_type": "code",
   "execution_count": 55,
   "id": "5a203357-2f00-4ece-8566-efdef08ec5ef",
   "metadata": {},
   "outputs": [
    {
     "data": {
      "text/plain": [
       "2"
      ]
     },
     "execution_count": 55,
     "metadata": {},
     "output_type": "execute_result"
    }
   ],
   "source": [
    "math.ceil(1.4)  # 2"
   ]
  },
  {
   "cell_type": "code",
   "execution_count": 56,
   "id": "ca6c8ea6-91a9-4bc7-947d-4980550ee3d0",
   "metadata": {},
   "outputs": [
    {
     "data": {
      "text/plain": [
       "1"
      ]
     },
     "execution_count": 56,
     "metadata": {},
     "output_type": "execute_result"
    }
   ],
   "source": [
    "math.floor(1.4)"
   ]
  },
  {
   "cell_type": "code",
   "execution_count": 57,
   "id": "c70679af-5e92-49d9-9416-cc684014ed7d",
   "metadata": {},
   "outputs": [
    {
     "data": {
      "text/plain": [
       "3.141592653589793"
      ]
     },
     "execution_count": 57,
     "metadata": {},
     "output_type": "execute_result"
    }
   ],
   "source": [
    "math.pi         # 3.14..."
   ]
  },
  {
   "cell_type": "markdown",
   "id": "58c2607a-68a9-4267-9d3f-a20aae66424b",
   "metadata": {},
   "source": [
    "### unittest"
   ]
  },
  {
   "cell_type": "markdown",
   "id": "b8eb4eb5-79fd-4e27-bf15-acee70e077a8",
   "metadata": {},
   "source": [
    "* Generación de tests unitarios"
   ]
  },
  {
   "cell_type": "code",
   "execution_count": 2,
   "id": "51cb7c89-2481-43b9-af3d-da9e85bef721",
   "metadata": {},
   "outputs": [],
   "source": [
    "import unittest"
   ]
  },
  {
   "cell_type": "code",
   "execution_count": 4,
   "id": "7eea7940-ffac-4dfc-a149-1128ea6734e0",
   "metadata": {},
   "outputs": [],
   "source": [
    "class MiTestCase(unittest.TestCase):\n",
    "  \n",
    "  @classmethod\n",
    "  def setUpClass(cls):\n",
    "      print('En setUpClass')\n",
    "\n",
    "  def setUp(self):\n",
    "      print('En setUp')\n",
    "  \n",
    "  def test_ok(self):\n",
    "      self.assertEqual(2, 2)\n",
    "      \n",
    "  def test_fail(self):\n",
    "      self.assertEqual(2, 3)\n",
    "\n",
    "  @unittest.skip('demostrando skipping')\n",
    "  def test_skip(self):\n",
    "      self.assertEqual(True, True)\n",
    "      \n",
    "  def tearDown(self):\n",
    "      print('En tearDown')\n",
    "\n",
    "  @classmethod\n",
    "  def tearDownClass(cls):\n",
    "      print('En tearDownClass')"
   ]
  },
  {
   "cell_type": "code",
   "execution_count": 5,
   "id": "a22f711a-ef6b-4768-a30c-9dbaf6957a31",
   "metadata": {
    "editable": true,
    "slideshow": {
     "slide_type": ""
    },
    "tags": []
   },
   "outputs": [
    {
     "name": "stderr",
     "output_type": "stream",
     "text": [
      "test_fail (__main__.MiTestCase.test_fail) ... FAIL\n",
      "test_ok (__main__.MiTestCase.test_ok) ... ok\n",
      "test_skip (__main__.MiTestCase.test_skip) ... skipped 'demostrando skipping'\n",
      "\n",
      "======================================================================\n",
      "FAIL: test_fail (__main__.MiTestCase.test_fail)\n",
      "----------------------------------------------------------------------\n",
      "Traceback (most recent call last):\n",
      "  File \"/var/folders/0n/g5l4v8c52nn4wxk7hl89vk3m0000gn/T/ipykernel_19563/1883127443.py\", line 14, in test_fail\n",
      "    self.assertEqual(2, 3)\n",
      "AssertionError: 2 != 3\n",
      "\n",
      "----------------------------------------------------------------------\n",
      "Ran 3 tests in 0.011s\n",
      "\n",
      "FAILED (failures=1, skipped=1)\n"
     ]
    },
    {
     "name": "stdout",
     "output_type": "stream",
     "text": [
      "En setUpClass\n",
      "En setUp\n",
      "En tearDown\n",
      "En setUp\n",
      "En tearDown\n",
      "En tearDownClass\n"
     ]
    },
    {
     "data": {
      "text/plain": [
       "<unittest.main.TestProgram at 0x13e76ee10>"
      ]
     },
     "execution_count": 5,
     "metadata": {},
     "output_type": "execute_result"
    }
   ],
   "source": [
    "unittest.main(argv=[''], verbosity=2, exit=False)"
   ]
  },
  {
   "cell_type": "markdown",
   "id": "446c801d-4901-4eaa-99cf-359809e2ded3",
   "metadata": {},
   "source": [
    "### re"
   ]
  },
  {
   "cell_type": "markdown",
   "id": "a950f5b4-dde5-454d-bf0e-f002723444e0",
   "metadata": {},
   "source": [
    "* Expresiones regulares (secuencia de caracteres que forman un patrón de búsqueda, ejemplo email)\n",
    "  * '^Sandra' -> que empiece con ...\n",
    "  * 'Martin$' -> que termine con ...\n",
    "  * '[ñ]' -> si se encuentra en cualquier lugar el caracter ñ\n",
    "  * 'niñ[oa]'\n",
    "  * '^[O-T]' -> empiece con un caracter en el rango de O a T\n",
    "  * 'Ma[0-3]' -> en el rango de 0 a 3\n",
    "  * 'Ma[^0-3]' -> no en el rango de 0 a 3\n",
    "  * '.a' -> cualquier caracter"
   ]
  },
  {
   "cell_type": "code",
   "execution_count": 70,
   "id": "aec68ec4-384a-48cd-8263-9866f70281a4",
   "metadata": {},
   "outputs": [],
   "source": [
    "import re"
   ]
  },
  {
   "cell_type": "code",
   "execution_count": 71,
   "id": "34517664-d908-4a48-9aa0-335ce9741ba6",
   "metadata": {},
   "outputs": [],
   "source": [
    "cadena = 'Vamos a aprender expresiones regulares'"
   ]
  },
  {
   "cell_type": "code",
   "execution_count": 72,
   "id": "f2e6ac92-00da-4514-9e26-e0967b0e9747",
   "metadata": {},
   "outputs": [
    {
     "data": {
      "text/plain": [
       "<re.Match object; span=(8, 16), match='aprender'>"
      ]
     },
     "execution_count": 72,
     "metadata": {},
     "output_type": "execute_result"
    }
   ],
   "source": [
    "re.search('aprender', cadena)                     # devuelve un objeto si está o None caso contrario"
   ]
  },
  {
   "cell_type": "code",
   "execution_count": 73,
   "id": "d9f0b7ad-3629-4305-8e8f-e40a5664c6ed",
   "metadata": {},
   "outputs": [
    {
     "data": {
      "text/plain": [
       "['aprender']"
      ]
     },
     "execution_count": 73,
     "metadata": {},
     "output_type": "execute_result"
    }
   ],
   "source": [
    "re.findall('aprender', cadena)"
   ]
  },
  {
   "cell_type": "code",
   "execution_count": 74,
   "id": "5d069ed3-db22-47c4-8ff0-ab7ec6629587",
   "metadata": {},
   "outputs": [
    {
     "data": {
      "text/plain": [
       "<re.Match object; span=(0, 6), match='Sandra'>"
      ]
     },
     "execution_count": 74,
     "metadata": {},
     "output_type": "execute_result"
    }
   ],
   "source": [
    "re.match('Sandra', 'Sandra Lopez')                # busca al comienzo de 'Sandra Lopez' el patrón de búsqueda"
   ]
  },
  {
   "cell_type": "code",
   "execution_count": 75,
   "id": "377abcd9-cc3e-40ef-ae56-4cd4992fb3a8",
   "metadata": {},
   "outputs": [
    {
     "data": {
      "text/plain": [
       "<re.Match object; span=(0, 6), match='Sandra'>"
      ]
     },
     "execution_count": 75,
     "metadata": {},
     "output_type": "execute_result"
    }
   ],
   "source": [
    "re.match('sandra', 'Sandra Lopez', re.IGNORECASE)"
   ]
  },
  {
   "cell_type": "markdown",
   "id": "d44a4b3c-8fac-445e-9b7c-59de1a62250a",
   "metadata": {},
   "source": [
    "## Con instalación"
   ]
  },
  {
   "cell_type": "markdown",
   "id": "ff8b7ed9-e73d-43f4-b13a-ffcebf1e9d90",
   "metadata": {},
   "source": [
    "* Repo: [https://pypi.org/](https://pypi.org/)\n",
    "* pip install \\<nombre-libreria>"
   ]
  },
  {
   "cell_type": "markdown",
   "id": "dc471acc-b441-4753-9e65-923a2d0b233f",
   "metadata": {},
   "source": [
    "### requests"
   ]
  },
  {
   "cell_type": "markdown",
   "id": "7465f9e8-31c2-4bf4-a168-ddf5ce00ff47",
   "metadata": {},
   "source": [
    "* Facilita el trabajo con peticiones HTTP (acceso a internet)"
   ]
  },
  {
   "cell_type": "code",
   "execution_count": 76,
   "id": "2a0ad835-0fb8-45af-a7af-82261d6a091a",
   "metadata": {},
   "outputs": [],
   "source": [
    "import requests"
   ]
  },
  {
   "cell_type": "code",
   "execution_count": 78,
   "id": "d29795d3-c464-4d66-ac89-bec3d8f4842f",
   "metadata": {},
   "outputs": [],
   "source": [
    "response = requests.get(\"https://jsonplaceholder.typicode.com/todos/\", verify=True)"
   ]
  },
  {
   "cell_type": "code",
   "execution_count": 79,
   "id": "90195989-3202-49fd-bc90-dc5264680741",
   "metadata": {},
   "outputs": [
    {
     "data": {
      "text/plain": [
       "'[\\n  {\\n    \"userId\": 1,\\n    \"id\": 1,\\n    \"title\": \"delectus aut autem\",\\n    \"completed\": false\\n  },\\n  {\\n    \"userId\": 1,\\n    \"id\": 2,\\n    \"title\": \"quis ut nam facilis et officia qui\",\\n    \"completed\": false\\n  },\\n  {\\n    \"userId\": 1,\\n    \"id\": 3,\\n    \"title\": \"fugiat veniam minus\",\\n    \"completed\": false\\n  },\\n  {\\n    \"userId\": 1,\\n    \"id\": 4,\\n    \"title\": \"et porro tempora\",\\n    \"completed\": true\\n  },\\n  {\\n    \"userId\": 1,\\n    \"id\": 5,\\n    \"title\": \"laboriosam mollitia et enim quasi adipisci quia provident illum\",\\n    \"completed\": false\\n  },\\n  {\\n    \"userId\": 1,\\n    \"id\": 6,\\n    \"title\": \"qui ullam ratione quibusdam voluptatem quia omnis\",\\n    \"completed\": false\\n  },\\n  {\\n    \"userId\": 1,\\n    \"id\": 7,\\n    \"title\": \"illo expedita consequatur quia in\",\\n    \"completed\": false\\n  },\\n  {\\n    \"userId\": 1,\\n    \"id\": 8,\\n    \"title\": \"quo adipisci enim quam ut ab\",\\n    \"completed\": true\\n  },\\n  {\\n    \"userId\": 1,\\n    \"id\": 9,\\n    \"title\": \"molestiae perspiciatis ipsa\",\\n    \"completed\": false\\n  },\\n  {\\n    \"userId\": 1,\\n    \"id\": 10,\\n    \"title\": \"illo est ratione doloremque quia maiores aut\",\\n    \"completed\": true\\n  },\\n  {\\n    \"userId\": 1,\\n    \"id\": 11,\\n    \"title\": \"vero rerum temporibus dolor\",\\n    \"completed\": true\\n  },\\n  {\\n    \"userId\": 1,\\n    \"id\": 12,\\n    \"title\": \"ipsa repellendus fugit nisi\",\\n    \"completed\": true\\n  },\\n  {\\n    \"userId\": 1,\\n    \"id\": 13,\\n    \"title\": \"et doloremque nulla\",\\n    \"completed\": false\\n  },\\n  {\\n    \"userId\": 1,\\n    \"id\": 14,\\n    \"title\": \"repellendus sunt dolores architecto voluptatum\",\\n    \"completed\": true\\n  },\\n  {\\n    \"userId\": 1,\\n    \"id\": 15,\\n    \"title\": \"ab voluptatum amet voluptas\",\\n    \"completed\": true\\n  },\\n  {\\n    \"userId\": 1,\\n    \"id\": 16,\\n    \"title\": \"accusamus eos facilis sint et aut voluptatem\",\\n    \"completed\": true\\n  },\\n  {\\n    \"userId\": 1,\\n    \"id\": 17,\\n    \"title\": \"quo laboriosam deleniti aut qui\",\\n    \"completed\": true\\n  },\\n  {\\n    \"userId\": 1,\\n    \"id\": 18,\\n    \"title\": \"dolorum est consequatur ea mollitia in culpa\",\\n    \"completed\": false\\n  },\\n  {\\n    \"userId\": 1,\\n    \"id\": 19,\\n    \"title\": \"molestiae ipsa aut voluptatibus pariatur dolor nihil\",\\n    \"completed\": true\\n  },\\n  {\\n    \"userId\": 1,\\n    \"id\": 20,\\n    \"title\": \"ullam nobis libero sapiente ad optio sint\",\\n    \"completed\": true\\n  },\\n  {\\n    \"userId\": 2,\\n    \"id\": 21,\\n    \"title\": \"suscipit repellat esse quibusdam voluptatem incidunt\",\\n    \"completed\": false\\n  },\\n  {\\n    \"userId\": 2,\\n    \"id\": 22,\\n    \"title\": \"distinctio vitae autem nihil ut molestias quo\",\\n    \"completed\": true\\n  },\\n  {\\n    \"userId\": 2,\\n    \"id\": 23,\\n    \"title\": \"et itaque necessitatibus maxime molestiae qui quas velit\",\\n    \"completed\": false\\n  },\\n  {\\n    \"userId\": 2,\\n    \"id\": 24,\\n    \"title\": \"adipisci non ad dicta qui amet quaerat doloribus ea\",\\n    \"completed\": false\\n  },\\n  {\\n    \"userId\": 2,\\n    \"id\": 25,\\n    \"title\": \"voluptas quo tenetur perspiciatis explicabo natus\",\\n    \"completed\": true\\n  },\\n  {\\n    \"userId\": 2,\\n    \"id\": 26,\\n    \"title\": \"aliquam aut quasi\",\\n    \"completed\": true\\n  },\\n  {\\n    \"userId\": 2,\\n    \"id\": 27,\\n    \"title\": \"veritatis pariatur delectus\",\\n    \"completed\": true\\n  },\\n  {\\n    \"userId\": 2,\\n    \"id\": 28,\\n    \"title\": \"nesciunt totam sit blanditiis sit\",\\n    \"completed\": false\\n  },\\n  {\\n    \"userId\": 2,\\n    \"id\": 29,\\n    \"title\": \"laborum aut in quam\",\\n    \"completed\": false\\n  },\\n  {\\n    \"userId\": 2,\\n    \"id\": 30,\\n    \"title\": \"nemo perspiciatis repellat ut dolor libero commodi blanditiis omnis\",\\n    \"completed\": true\\n  },\\n  {\\n    \"userId\": 2,\\n    \"id\": 31,\\n    \"title\": \"repudiandae totam in est sint facere fuga\",\\n    \"completed\": false\\n  },\\n  {\\n    \"userId\": 2,\\n    \"id\": 32,\\n    \"title\": \"earum doloribus ea doloremque quis\",\\n    \"completed\": false\\n  },\\n  {\\n    \"userId\": 2,\\n    \"id\": 33,\\n    \"title\": \"sint sit aut vero\",\\n    \"completed\": false\\n  },\\n  {\\n    \"userId\": 2,\\n    \"id\": 34,\\n    \"title\": \"porro aut necessitatibus eaque distinctio\",\\n    \"completed\": false\\n  },\\n  {\\n    \"userId\": 2,\\n    \"id\": 35,\\n    \"title\": \"repellendus veritatis molestias dicta incidunt\",\\n    \"completed\": true\\n  },\\n  {\\n    \"userId\": 2,\\n    \"id\": 36,\\n    \"title\": \"excepturi deleniti adipisci voluptatem et neque optio illum ad\",\\n    \"completed\": true\\n  },\\n  {\\n    \"userId\": 2,\\n    \"id\": 37,\\n    \"title\": \"sunt cum tempora\",\\n    \"completed\": false\\n  },\\n  {\\n    \"userId\": 2,\\n    \"id\": 38,\\n    \"title\": \"totam quia non\",\\n    \"completed\": false\\n  },\\n  {\\n    \"userId\": 2,\\n    \"id\": 39,\\n    \"title\": \"doloremque quibusdam asperiores libero corrupti illum qui omnis\",\\n    \"completed\": false\\n  },\\n  {\\n    \"userId\": 2,\\n    \"id\": 40,\\n    \"title\": \"totam atque quo nesciunt\",\\n    \"completed\": true\\n  },\\n  {\\n    \"userId\": 3,\\n    \"id\": 41,\\n    \"title\": \"aliquid amet impedit consequatur aspernatur placeat eaque fugiat suscipit\",\\n    \"completed\": false\\n  },\\n  {\\n    \"userId\": 3,\\n    \"id\": 42,\\n    \"title\": \"rerum perferendis error quia ut eveniet\",\\n    \"completed\": false\\n  },\\n  {\\n    \"userId\": 3,\\n    \"id\": 43,\\n    \"title\": \"tempore ut sint quis recusandae\",\\n    \"completed\": true\\n  },\\n  {\\n    \"userId\": 3,\\n    \"id\": 44,\\n    \"title\": \"cum debitis quis accusamus doloremque ipsa natus sapiente omnis\",\\n    \"completed\": true\\n  },\\n  {\\n    \"userId\": 3,\\n    \"id\": 45,\\n    \"title\": \"velit soluta adipisci molestias reiciendis harum\",\\n    \"completed\": false\\n  },\\n  {\\n    \"userId\": 3,\\n    \"id\": 46,\\n    \"title\": \"vel voluptatem repellat nihil placeat corporis\",\\n    \"completed\": false\\n  },\\n  {\\n    \"userId\": 3,\\n    \"id\": 47,\\n    \"title\": \"nam qui rerum fugiat accusamus\",\\n    \"completed\": false\\n  },\\n  {\\n    \"userId\": 3,\\n    \"id\": 48,\\n    \"title\": \"sit reprehenderit omnis quia\",\\n    \"completed\": false\\n  },\\n  {\\n    \"userId\": 3,\\n    \"id\": 49,\\n    \"title\": \"ut necessitatibus aut maiores debitis officia blanditiis velit et\",\\n    \"completed\": false\\n  },\\n  {\\n    \"userId\": 3,\\n    \"id\": 50,\\n    \"title\": \"cupiditate necessitatibus ullam aut quis dolor voluptate\",\\n    \"completed\": true\\n  },\\n  {\\n    \"userId\": 3,\\n    \"id\": 51,\\n    \"title\": \"distinctio exercitationem ab doloribus\",\\n    \"completed\": false\\n  },\\n  {\\n    \"userId\": 3,\\n    \"id\": 52,\\n    \"title\": \"nesciunt dolorum quis recusandae ad pariatur ratione\",\\n    \"completed\": false\\n  },\\n  {\\n    \"userId\": 3,\\n    \"id\": 53,\\n    \"title\": \"qui labore est occaecati recusandae aliquid quam\",\\n    \"completed\": false\\n  },\\n  {\\n    \"userId\": 3,\\n    \"id\": 54,\\n    \"title\": \"quis et est ut voluptate quam dolor\",\\n    \"completed\": true\\n  },\\n  {\\n    \"userId\": 3,\\n    \"id\": 55,\\n    \"title\": \"voluptatum omnis minima qui occaecati provident nulla voluptatem ratione\",\\n    \"completed\": true\\n  },\\n  {\\n    \"userId\": 3,\\n    \"id\": 56,\\n    \"title\": \"deleniti ea temporibus enim\",\\n    \"completed\": true\\n  },\\n  {\\n    \"userId\": 3,\\n    \"id\": 57,\\n    \"title\": \"pariatur et magnam ea doloribus similique voluptatem rerum quia\",\\n    \"completed\": false\\n  },\\n  {\\n    \"userId\": 3,\\n    \"id\": 58,\\n    \"title\": \"est dicta totam qui explicabo doloribus qui dignissimos\",\\n    \"completed\": false\\n  },\\n  {\\n    \"userId\": 3,\\n    \"id\": 59,\\n    \"title\": \"perspiciatis velit id laborum placeat iusto et aliquam odio\",\\n    \"completed\": false\\n  },\\n  {\\n    \"userId\": 3,\\n    \"id\": 60,\\n    \"title\": \"et sequi qui architecto ut adipisci\",\\n    \"completed\": true\\n  },\\n  {\\n    \"userId\": 4,\\n    \"id\": 61,\\n    \"title\": \"odit optio omnis qui sunt\",\\n    \"completed\": true\\n  },\\n  {\\n    \"userId\": 4,\\n    \"id\": 62,\\n    \"title\": \"et placeat et tempore aspernatur sint numquam\",\\n    \"completed\": false\\n  },\\n  {\\n    \"userId\": 4,\\n    \"id\": 63,\\n    \"title\": \"doloremque aut dolores quidem fuga qui nulla\",\\n    \"completed\": true\\n  },\\n  {\\n    \"userId\": 4,\\n    \"id\": 64,\\n    \"title\": \"voluptas consequatur qui ut quia magnam nemo esse\",\\n    \"completed\": false\\n  },\\n  {\\n    \"userId\": 4,\\n    \"id\": 65,\\n    \"title\": \"fugiat pariatur ratione ut asperiores necessitatibus magni\",\\n    \"completed\": false\\n  },\\n  {\\n    \"userId\": 4,\\n    \"id\": 66,\\n    \"title\": \"rerum eum molestias autem voluptatum sit optio\",\\n    \"completed\": false\\n  },\\n  {\\n    \"userId\": 4,\\n    \"id\": 67,\\n    \"title\": \"quia voluptatibus voluptatem quos similique maiores repellat\",\\n    \"completed\": false\\n  },\\n  {\\n    \"userId\": 4,\\n    \"id\": 68,\\n    \"title\": \"aut id perspiciatis voluptatem iusto\",\\n    \"completed\": false\\n  },\\n  {\\n    \"userId\": 4,\\n    \"id\": 69,\\n    \"title\": \"doloribus sint dolorum ab adipisci itaque dignissimos aliquam suscipit\",\\n    \"completed\": false\\n  },\\n  {\\n    \"userId\": 4,\\n    \"id\": 70,\\n    \"title\": \"ut sequi accusantium et mollitia delectus sunt\",\\n    \"completed\": false\\n  },\\n  {\\n    \"userId\": 4,\\n    \"id\": 71,\\n    \"title\": \"aut velit saepe ullam\",\\n    \"completed\": false\\n  },\\n  {\\n    \"userId\": 4,\\n    \"id\": 72,\\n    \"title\": \"praesentium facilis facere quis harum voluptatibus voluptatem eum\",\\n    \"completed\": false\\n  },\\n  {\\n    \"userId\": 4,\\n    \"id\": 73,\\n    \"title\": \"sint amet quia totam corporis qui exercitationem commodi\",\\n    \"completed\": true\\n  },\\n  {\\n    \"userId\": 4,\\n    \"id\": 74,\\n    \"title\": \"expedita tempore nobis eveniet laborum maiores\",\\n    \"completed\": false\\n  },\\n  {\\n    \"userId\": 4,\\n    \"id\": 75,\\n    \"title\": \"occaecati adipisci est possimus totam\",\\n    \"completed\": false\\n  },\\n  {\\n    \"userId\": 4,\\n    \"id\": 76,\\n    \"title\": \"sequi dolorem sed\",\\n    \"completed\": true\\n  },\\n  {\\n    \"userId\": 4,\\n    \"id\": 77,\\n    \"title\": \"maiores aut nesciunt delectus exercitationem vel assumenda eligendi at\",\\n    \"completed\": false\\n  },\\n  {\\n    \"userId\": 4,\\n    \"id\": 78,\\n    \"title\": \"reiciendis est magnam amet nemo iste recusandae impedit quaerat\",\\n    \"completed\": false\\n  },\\n  {\\n    \"userId\": 4,\\n    \"id\": 79,\\n    \"title\": \"eum ipsa maxime ut\",\\n    \"completed\": true\\n  },\\n  {\\n    \"userId\": 4,\\n    \"id\": 80,\\n    \"title\": \"tempore molestias dolores rerum sequi voluptates ipsum consequatur\",\\n    \"completed\": true\\n  },\\n  {\\n    \"userId\": 5,\\n    \"id\": 81,\\n    \"title\": \"suscipit qui totam\",\\n    \"completed\": true\\n  },\\n  {\\n    \"userId\": 5,\\n    \"id\": 82,\\n    \"title\": \"voluptates eum voluptas et dicta\",\\n    \"completed\": false\\n  },\\n  {\\n    \"userId\": 5,\\n    \"id\": 83,\\n    \"title\": \"quidem at rerum quis ex aut sit quam\",\\n    \"completed\": true\\n  },\\n  {\\n    \"userId\": 5,\\n    \"id\": 84,\\n    \"title\": \"sunt veritatis ut voluptate\",\\n    \"completed\": false\\n  },\\n  {\\n    \"userId\": 5,\\n    \"id\": 85,\\n    \"title\": \"et quia ad iste a\",\\n    \"completed\": true\\n  },\\n  {\\n    \"userId\": 5,\\n    \"id\": 86,\\n    \"title\": \"incidunt ut saepe autem\",\\n    \"completed\": true\\n  },\\n  {\\n    \"userId\": 5,\\n    \"id\": 87,\\n    \"title\": \"laudantium quae eligendi consequatur quia et vero autem\",\\n    \"completed\": true\\n  },\\n  {\\n    \"userId\": 5,\\n    \"id\": 88,\\n    \"title\": \"vitae aut excepturi laboriosam sint aliquam et et accusantium\",\\n    \"completed\": false\\n  },\\n  {\\n    \"userId\": 5,\\n    \"id\": 89,\\n    \"title\": \"sequi ut omnis et\",\\n    \"completed\": true\\n  },\\n  {\\n    \"userId\": 5,\\n    \"id\": 90,\\n    \"title\": \"molestiae nisi accusantium tenetur dolorem et\",\\n    \"completed\": true\\n  },\\n  {\\n    \"userId\": 5,\\n    \"id\": 91,\\n    \"title\": \"nulla quis consequatur saepe qui id expedita\",\\n    \"completed\": true\\n  },\\n  {\\n    \"userId\": 5,\\n    \"id\": 92,\\n    \"title\": \"in omnis laboriosam\",\\n    \"completed\": true\\n  },\\n  {\\n    \"userId\": 5,\\n    \"id\": 93,\\n    \"title\": \"odio iure consequatur molestiae quibusdam necessitatibus quia sint\",\\n    \"completed\": true\\n  },\\n  {\\n    \"userId\": 5,\\n    \"id\": 94,\\n    \"title\": \"facilis modi saepe mollitia\",\\n    \"completed\": false\\n  },\\n  {\\n    \"userId\": 5,\\n    \"id\": 95,\\n    \"title\": \"vel nihil et molestiae iusto assumenda nemo quo ut\",\\n    \"completed\": true\\n  },\\n  {\\n    \"userId\": 5,\\n    \"id\": 96,\\n    \"title\": \"nobis suscipit ducimus enim asperiores voluptas\",\\n    \"completed\": false\\n  },\\n  {\\n    \"userId\": 5,\\n    \"id\": 97,\\n    \"title\": \"dolorum laboriosam eos qui iure aliquam\",\\n    \"completed\": false\\n  },\\n  {\\n    \"userId\": 5,\\n    \"id\": 98,\\n    \"title\": \"debitis accusantium ut quo facilis nihil quis sapiente necessitatibus\",\\n    \"completed\": true\\n  },\\n  {\\n    \"userId\": 5,\\n    \"id\": 99,\\n    \"title\": \"neque voluptates ratione\",\\n    \"completed\": false\\n  },\\n  {\\n    \"userId\": 5,\\n    \"id\": 100,\\n    \"title\": \"excepturi a et neque qui expedita vel voluptate\",\\n    \"completed\": false\\n  },\\n  {\\n    \"userId\": 6,\\n    \"id\": 101,\\n    \"title\": \"explicabo enim cumque porro aperiam occaecati minima\",\\n    \"completed\": false\\n  },\\n  {\\n    \"userId\": 6,\\n    \"id\": 102,\\n    \"title\": \"sed ab consequatur\",\\n    \"completed\": false\\n  },\\n  {\\n    \"userId\": 6,\\n    \"id\": 103,\\n    \"title\": \"non sunt delectus illo nulla tenetur enim omnis\",\\n    \"completed\": false\\n  },\\n  {\\n    \"userId\": 6,\\n    \"id\": 104,\\n    \"title\": \"excepturi non laudantium quo\",\\n    \"completed\": false\\n  },\\n  {\\n    \"userId\": 6,\\n    \"id\": 105,\\n    \"title\": \"totam quia dolorem et illum repellat voluptas optio\",\\n    \"completed\": true\\n  },\\n  {\\n    \"userId\": 6,\\n    \"id\": 106,\\n    \"title\": \"ad illo quis voluptatem temporibus\",\\n    \"completed\": true\\n  },\\n  {\\n    \"userId\": 6,\\n    \"id\": 107,\\n    \"title\": \"praesentium facilis omnis laudantium fugit ad iusto nihil nesciunt\",\\n    \"completed\": false\\n  },\\n  {\\n    \"userId\": 6,\\n    \"id\": 108,\\n    \"title\": \"a eos eaque nihil et exercitationem incidunt delectus\",\\n    \"completed\": true\\n  },\\n  {\\n    \"userId\": 6,\\n    \"id\": 109,\\n    \"title\": \"autem temporibus harum quisquam in culpa\",\\n    \"completed\": true\\n  },\\n  {\\n    \"userId\": 6,\\n    \"id\": 110,\\n    \"title\": \"aut aut ea corporis\",\\n    \"completed\": true\\n  },\\n  {\\n    \"userId\": 6,\\n    \"id\": 111,\\n    \"title\": \"magni accusantium labore et id quis provident\",\\n    \"completed\": false\\n  },\\n  {\\n    \"userId\": 6,\\n    \"id\": 112,\\n    \"title\": \"consectetur impedit quisquam qui deserunt non rerum consequuntur eius\",\\n    \"completed\": false\\n  },\\n  {\\n    \"userId\": 6,\\n    \"id\": 113,\\n    \"title\": \"quia atque aliquam sunt impedit voluptatum rerum assumenda nisi\",\\n    \"completed\": false\\n  },\\n  {\\n    \"userId\": 6,\\n    \"id\": 114,\\n    \"title\": \"cupiditate quos possimus corporis quisquam exercitationem beatae\",\\n    \"completed\": false\\n  },\\n  {\\n    \"userId\": 6,\\n    \"id\": 115,\\n    \"title\": \"sed et ea eum\",\\n    \"completed\": false\\n  },\\n  {\\n    \"userId\": 6,\\n    \"id\": 116,\\n    \"title\": \"ipsa dolores vel facilis ut\",\\n    \"completed\": true\\n  },\\n  {\\n    \"userId\": 6,\\n    \"id\": 117,\\n    \"title\": \"sequi quae est et qui qui eveniet asperiores\",\\n    \"completed\": false\\n  },\\n  {\\n    \"userId\": 6,\\n    \"id\": 118,\\n    \"title\": \"quia modi consequatur vero fugiat\",\\n    \"completed\": false\\n  },\\n  {\\n    \"userId\": 6,\\n    \"id\": 119,\\n    \"title\": \"corporis ducimus ea perspiciatis iste\",\\n    \"completed\": false\\n  },\\n  {\\n    \"userId\": 6,\\n    \"id\": 120,\\n    \"title\": \"dolorem laboriosam vel voluptas et aliquam quasi\",\\n    \"completed\": false\\n  },\\n  {\\n    \"userId\": 7,\\n    \"id\": 121,\\n    \"title\": \"inventore aut nihil minima laudantium hic qui omnis\",\\n    \"completed\": true\\n  },\\n  {\\n    \"userId\": 7,\\n    \"id\": 122,\\n    \"title\": \"provident aut nobis culpa\",\\n    \"completed\": true\\n  },\\n  {\\n    \"userId\": 7,\\n    \"id\": 123,\\n    \"title\": \"esse et quis iste est earum aut impedit\",\\n    \"completed\": false\\n  },\\n  {\\n    \"userId\": 7,\\n    \"id\": 124,\\n    \"title\": \"qui consectetur id\",\\n    \"completed\": false\\n  },\\n  {\\n    \"userId\": 7,\\n    \"id\": 125,\\n    \"title\": \"aut quasi autem iste tempore illum possimus\",\\n    \"completed\": false\\n  },\\n  {\\n    \"userId\": 7,\\n    \"id\": 126,\\n    \"title\": \"ut asperiores perspiciatis veniam ipsum rerum saepe\",\\n    \"completed\": true\\n  },\\n  {\\n    \"userId\": 7,\\n    \"id\": 127,\\n    \"title\": \"voluptatem libero consectetur rerum ut\",\\n    \"completed\": true\\n  },\\n  {\\n    \"userId\": 7,\\n    \"id\": 128,\\n    \"title\": \"eius omnis est qui voluptatem autem\",\\n    \"completed\": false\\n  },\\n  {\\n    \"userId\": 7,\\n    \"id\": 129,\\n    \"title\": \"rerum culpa quis harum\",\\n    \"completed\": false\\n  },\\n  {\\n    \"userId\": 7,\\n    \"id\": 130,\\n    \"title\": \"nulla aliquid eveniet harum laborum libero alias ut unde\",\\n    \"completed\": true\\n  },\\n  {\\n    \"userId\": 7,\\n    \"id\": 131,\\n    \"title\": \"qui ea incidunt quis\",\\n    \"completed\": false\\n  },\\n  {\\n    \"userId\": 7,\\n    \"id\": 132,\\n    \"title\": \"qui molestiae voluptatibus velit iure harum quisquam\",\\n    \"completed\": true\\n  },\\n  {\\n    \"userId\": 7,\\n    \"id\": 133,\\n    \"title\": \"et labore eos enim rerum consequatur sunt\",\\n    \"completed\": true\\n  },\\n  {\\n    \"userId\": 7,\\n    \"id\": 134,\\n    \"title\": \"molestiae doloribus et laborum quod ea\",\\n    \"completed\": false\\n  },\\n  {\\n    \"userId\": 7,\\n    \"id\": 135,\\n    \"title\": \"facere ipsa nam eum voluptates reiciendis vero qui\",\\n    \"completed\": false\\n  },\\n  {\\n    \"userId\": 7,\\n    \"id\": 136,\\n    \"title\": \"asperiores illo tempora fuga sed ut quasi adipisci\",\\n    \"completed\": false\\n  },\\n  {\\n    \"userId\": 7,\\n    \"id\": 137,\\n    \"title\": \"qui sit non\",\\n    \"completed\": false\\n  },\\n  {\\n    \"userId\": 7,\\n    \"id\": 138,\\n    \"title\": \"placeat minima consequatur rem qui ut\",\\n    \"completed\": true\\n  },\\n  {\\n    \"userId\": 7,\\n    \"id\": 139,\\n    \"title\": \"consequatur doloribus id possimus voluptas a voluptatem\",\\n    \"completed\": false\\n  },\\n  {\\n    \"userId\": 7,\\n    \"id\": 140,\\n    \"title\": \"aut consectetur in blanditiis deserunt quia sed laboriosam\",\\n    \"completed\": true\\n  },\\n  {\\n    \"userId\": 8,\\n    \"id\": 141,\\n    \"title\": \"explicabo consectetur debitis voluptates quas quae culpa rerum non\",\\n    \"completed\": true\\n  },\\n  {\\n    \"userId\": 8,\\n    \"id\": 142,\\n    \"title\": \"maiores accusantium architecto necessitatibus reiciendis ea aut\",\\n    \"completed\": true\\n  },\\n  {\\n    \"userId\": 8,\\n    \"id\": 143,\\n    \"title\": \"eum non recusandae cupiditate animi\",\\n    \"completed\": false\\n  },\\n  {\\n    \"userId\": 8,\\n    \"id\": 144,\\n    \"title\": \"ut eum exercitationem sint\",\\n    \"completed\": false\\n  },\\n  {\\n    \"userId\": 8,\\n    \"id\": 145,\\n    \"title\": \"beatae qui ullam incidunt voluptatem non nisi aliquam\",\\n    \"completed\": false\\n  },\\n  {\\n    \"userId\": 8,\\n    \"id\": 146,\\n    \"title\": \"molestiae suscipit ratione nihil odio libero impedit vero totam\",\\n    \"completed\": true\\n  },\\n  {\\n    \"userId\": 8,\\n    \"id\": 147,\\n    \"title\": \"eum itaque quod reprehenderit et facilis dolor autem ut\",\\n    \"completed\": true\\n  },\\n  {\\n    \"userId\": 8,\\n    \"id\": 148,\\n    \"title\": \"esse quas et quo quasi exercitationem\",\\n    \"completed\": false\\n  },\\n  {\\n    \"userId\": 8,\\n    \"id\": 149,\\n    \"title\": \"animi voluptas quod perferendis est\",\\n    \"completed\": false\\n  },\\n  {\\n    \"userId\": 8,\\n    \"id\": 150,\\n    \"title\": \"eos amet tempore laudantium fugit a\",\\n    \"completed\": false\\n  },\\n  {\\n    \"userId\": 8,\\n    \"id\": 151,\\n    \"title\": \"accusamus adipisci dicta qui quo ea explicabo sed vero\",\\n    \"completed\": true\\n  },\\n  {\\n    \"userId\": 8,\\n    \"id\": 152,\\n    \"title\": \"odit eligendi recusandae doloremque cumque non\",\\n    \"completed\": false\\n  },\\n  {\\n    \"userId\": 8,\\n    \"id\": 153,\\n    \"title\": \"ea aperiam consequatur qui repellat eos\",\\n    \"completed\": false\\n  },\\n  {\\n    \"userId\": 8,\\n    \"id\": 154,\\n    \"title\": \"rerum non ex sapiente\",\\n    \"completed\": true\\n  },\\n  {\\n    \"userId\": 8,\\n    \"id\": 155,\\n    \"title\": \"voluptatem nobis consequatur et assumenda magnam\",\\n    \"completed\": true\\n  },\\n  {\\n    \"userId\": 8,\\n    \"id\": 156,\\n    \"title\": \"nam quia quia nulla repellat assumenda quibusdam sit nobis\",\\n    \"completed\": true\\n  },\\n  {\\n    \"userId\": 8,\\n    \"id\": 157,\\n    \"title\": \"dolorem veniam quisquam deserunt repellendus\",\\n    \"completed\": true\\n  },\\n  {\\n    \"userId\": 8,\\n    \"id\": 158,\\n    \"title\": \"debitis vitae delectus et harum accusamus aut deleniti a\",\\n    \"completed\": true\\n  },\\n  {\\n    \"userId\": 8,\\n    \"id\": 159,\\n    \"title\": \"debitis adipisci quibusdam aliquam sed dolore ea praesentium nobis\",\\n    \"completed\": true\\n  },\\n  {\\n    \"userId\": 8,\\n    \"id\": 160,\\n    \"title\": \"et praesentium aliquam est\",\\n    \"completed\": false\\n  },\\n  {\\n    \"userId\": 9,\\n    \"id\": 161,\\n    \"title\": \"ex hic consequuntur earum omnis alias ut occaecati culpa\",\\n    \"completed\": true\\n  },\\n  {\\n    \"userId\": 9,\\n    \"id\": 162,\\n    \"title\": \"omnis laboriosam molestias animi sunt dolore\",\\n    \"completed\": true\\n  },\\n  {\\n    \"userId\": 9,\\n    \"id\": 163,\\n    \"title\": \"natus corrupti maxime laudantium et voluptatem laboriosam odit\",\\n    \"completed\": false\\n  },\\n  {\\n    \"userId\": 9,\\n    \"id\": 164,\\n    \"title\": \"reprehenderit quos aut aut consequatur est sed\",\\n    \"completed\": false\\n  },\\n  {\\n    \"userId\": 9,\\n    \"id\": 165,\\n    \"title\": \"fugiat perferendis sed aut quidem\",\\n    \"completed\": false\\n  },\\n  {\\n    \"userId\": 9,\\n    \"id\": 166,\\n    \"title\": \"quos quo possimus suscipit minima ut\",\\n    \"completed\": false\\n  },\\n  {\\n    \"userId\": 9,\\n    \"id\": 167,\\n    \"title\": \"et quis minus quo a asperiores molestiae\",\\n    \"completed\": false\\n  },\\n  {\\n    \"userId\": 9,\\n    \"id\": 168,\\n    \"title\": \"recusandae quia qui sunt libero\",\\n    \"completed\": false\\n  },\\n  {\\n    \"userId\": 9,\\n    \"id\": 169,\\n    \"title\": \"ea odio perferendis officiis\",\\n    \"completed\": true\\n  },\\n  {\\n    \"userId\": 9,\\n    \"id\": 170,\\n    \"title\": \"quisquam aliquam quia doloribus aut\",\\n    \"completed\": false\\n  },\\n  {\\n    \"userId\": 9,\\n    \"id\": 171,\\n    \"title\": \"fugiat aut voluptatibus corrupti deleniti velit iste odio\",\\n    \"completed\": true\\n  },\\n  {\\n    \"userId\": 9,\\n    \"id\": 172,\\n    \"title\": \"et provident amet rerum consectetur et voluptatum\",\\n    \"completed\": false\\n  },\\n  {\\n    \"userId\": 9,\\n    \"id\": 173,\\n    \"title\": \"harum ad aperiam quis\",\\n    \"completed\": false\\n  },\\n  {\\n    \"userId\": 9,\\n    \"id\": 174,\\n    \"title\": \"similique aut quo\",\\n    \"completed\": false\\n  },\\n  {\\n    \"userId\": 9,\\n    \"id\": 175,\\n    \"title\": \"laudantium eius officia perferendis provident perspiciatis asperiores\",\\n    \"completed\": true\\n  },\\n  {\\n    \"userId\": 9,\\n    \"id\": 176,\\n    \"title\": \"magni soluta corrupti ut maiores rem quidem\",\\n    \"completed\": false\\n  },\\n  {\\n    \"userId\": 9,\\n    \"id\": 177,\\n    \"title\": \"et placeat temporibus voluptas est tempora quos quibusdam\",\\n    \"completed\": false\\n  },\\n  {\\n    \"userId\": 9,\\n    \"id\": 178,\\n    \"title\": \"nesciunt itaque commodi tempore\",\\n    \"completed\": true\\n  },\\n  {\\n    \"userId\": 9,\\n    \"id\": 179,\\n    \"title\": \"omnis consequuntur cupiditate impedit itaque ipsam quo\",\\n    \"completed\": true\\n  },\\n  {\\n    \"userId\": 9,\\n    \"id\": 180,\\n    \"title\": \"debitis nisi et dolorem repellat et\",\\n    \"completed\": true\\n  },\\n  {\\n    \"userId\": 10,\\n    \"id\": 181,\\n    \"title\": \"ut cupiditate sequi aliquam fuga maiores\",\\n    \"completed\": false\\n  },\\n  {\\n    \"userId\": 10,\\n    \"id\": 182,\\n    \"title\": \"inventore saepe cumque et aut illum enim\",\\n    \"completed\": true\\n  },\\n  {\\n    \"userId\": 10,\\n    \"id\": 183,\\n    \"title\": \"omnis nulla eum aliquam distinctio\",\\n    \"completed\": true\\n  },\\n  {\\n    \"userId\": 10,\\n    \"id\": 184,\\n    \"title\": \"molestias modi perferendis perspiciatis\",\\n    \"completed\": false\\n  },\\n  {\\n    \"userId\": 10,\\n    \"id\": 185,\\n    \"title\": \"voluptates dignissimos sed doloribus animi quaerat aut\",\\n    \"completed\": false\\n  },\\n  {\\n    \"userId\": 10,\\n    \"id\": 186,\\n    \"title\": \"explicabo odio est et\",\\n    \"completed\": false\\n  },\\n  {\\n    \"userId\": 10,\\n    \"id\": 187,\\n    \"title\": \"consequuntur animi possimus\",\\n    \"completed\": false\\n  },\\n  {\\n    \"userId\": 10,\\n    \"id\": 188,\\n    \"title\": \"vel non beatae est\",\\n    \"completed\": true\\n  },\\n  {\\n    \"userId\": 10,\\n    \"id\": 189,\\n    \"title\": \"culpa eius et voluptatem et\",\\n    \"completed\": true\\n  },\\n  {\\n    \"userId\": 10,\\n    \"id\": 190,\\n    \"title\": \"accusamus sint iusto et voluptatem exercitationem\",\\n    \"completed\": true\\n  },\\n  {\\n    \"userId\": 10,\\n    \"id\": 191,\\n    \"title\": \"temporibus atque distinctio omnis eius impedit tempore molestias pariatur\",\\n    \"completed\": true\\n  },\\n  {\\n    \"userId\": 10,\\n    \"id\": 192,\\n    \"title\": \"ut quas possimus exercitationem sint voluptates\",\\n    \"completed\": false\\n  },\\n  {\\n    \"userId\": 10,\\n    \"id\": 193,\\n    \"title\": \"rerum debitis voluptatem qui eveniet tempora distinctio a\",\\n    \"completed\": true\\n  },\\n  {\\n    \"userId\": 10,\\n    \"id\": 194,\\n    \"title\": \"sed ut vero sit molestiae\",\\n    \"completed\": false\\n  },\\n  {\\n    \"userId\": 10,\\n    \"id\": 195,\\n    \"title\": \"rerum ex veniam mollitia voluptatibus pariatur\",\\n    \"completed\": true\\n  },\\n  {\\n    \"userId\": 10,\\n    \"id\": 196,\\n    \"title\": \"consequuntur aut ut fugit similique\",\\n    \"completed\": true\\n  },\\n  {\\n    \"userId\": 10,\\n    \"id\": 197,\\n    \"title\": \"dignissimos quo nobis earum saepe\",\\n    \"completed\": true\\n  },\\n  {\\n    \"userId\": 10,\\n    \"id\": 198,\\n    \"title\": \"quis eius est sint explicabo\",\\n    \"completed\": true\\n  },\\n  {\\n    \"userId\": 10,\\n    \"id\": 199,\\n    \"title\": \"numquam repellendus a magnam\",\\n    \"completed\": true\\n  },\\n  {\\n    \"userId\": 10,\\n    \"id\": 200,\\n    \"title\": \"ipsam aperiam voluptates qui\",\\n    \"completed\": false\\n  }\\n]'"
      ]
     },
     "execution_count": 79,
     "metadata": {},
     "output_type": "execute_result"
    }
   ],
   "source": [
    "response.text"
   ]
  },
  {
   "cell_type": "code",
   "execution_count": 80,
   "id": "692db58f-4b8d-4a73-a83b-5b1b3675b34a",
   "metadata": {},
   "outputs": [
    {
     "data": {
      "text/plain": [
       "200"
      ]
     },
     "execution_count": 80,
     "metadata": {},
     "output_type": "execute_result"
    }
   ],
   "source": [
    "response.status_code"
   ]
  },
  {
   "cell_type": "code",
   "execution_count": 81,
   "id": "6be2fbb8-3119-427a-bee9-9b03c1d3ff8e",
   "metadata": {},
   "outputs": [
    {
     "data": {
      "text/plain": [
       "'utf-8'"
      ]
     },
     "execution_count": 81,
     "metadata": {},
     "output_type": "execute_result"
    }
   ],
   "source": [
    "response.encoding"
   ]
  },
  {
   "cell_type": "code",
   "execution_count": 82,
   "id": "4d8c962a-ee7f-44f0-94ba-282ac8a52234",
   "metadata": {},
   "outputs": [
    {
     "data": {
      "text/plain": [
       "{'Date': 'Sun, 08 Jun 2025 23:40:51 GMT', 'Content-Type': 'application/json; charset=utf-8', 'Content-Length': '4005', 'Connection': 'keep-alive', 'Access-Control-Allow-Credentials': 'true', 'Cache-Control': 'max-age=43200', 'Content-Encoding': 'gzip', 'Etag': 'W/\"5ef7-4Ad6/n39KWY9q6Ykm/ULNQ2F5IM\"', 'Expires': '-1', 'Nel': '{\"report_to\":\"heroku-nel\",\"response_headers\":[\"Via\"],\"max_age\":3600,\"success_fraction\":0.01,\"failure_fraction\":0.1}', 'Pragma': 'no-cache', 'Report-To': '{\"group\":\"heroku-nel\",\"endpoints\":[{\"url\":\"https://nel.heroku.com/reports?s=yD8Y%2Bpn30J4vbkZW%2BpaUmJyRb4EEKHVD7%2B79KkL4BtE%3D\\\\u0026sid=e11707d5-02a7-43ef-b45e-2cf4d2036f7d\\\\u0026ts=1749338350\"}],\"max_age\":3600}', 'Reporting-Endpoints': 'heroku-nel=\"https://nel.heroku.com/reports?s=yD8Y%2Bpn30J4vbkZW%2BpaUmJyRb4EEKHVD7%2B79KkL4BtE%3D&sid=e11707d5-02a7-43ef-b45e-2cf4d2036f7d&ts=1749338350\"', 'Server': 'cloudflare', 'Vary': 'Origin, Accept-Encoding', 'Via': '2.0 heroku-router', 'X-Content-Type-Options': 'nosniff', 'X-Powered-By': 'Express', 'X-Ratelimit-Limit': '1000', 'X-Ratelimit-Remaining': '999', 'X-Ratelimit-Reset': '1749338404', 'Age': '6604', 'Cf-Cache-Status': 'HIT', 'CF-RAY': '94cc3c987b1ccb13-GIG', 'alt-svc': 'h3=\":443\"; ma=86400'}"
      ]
     },
     "execution_count": 82,
     "metadata": {},
     "output_type": "execute_result"
    }
   ],
   "source": [
    "response.headers"
   ]
  },
  {
   "cell_type": "code",
   "execution_count": 84,
   "id": "d3be5587-44c7-4637-94ac-41ca19cd2d09",
   "metadata": {},
   "outputs": [
    {
     "data": {
      "text/plain": [
       "'[\\n  {\\n    \"postId\": 1,\\n    \"id\": 1,\\n    \"name\": \"id labore ex et quam laborum\",\\n    \"email\": \"Eliseo@gardner.biz\",\\n    \"body\": \"laudantium enim quasi est quidem magnam voluptate ipsam eos\\\\ntempora quo necessitatibus\\\\ndolor quam autem quasi\\\\nreiciendis et nam sapiente accusantium\"\\n  },\\n  {\\n    \"postId\": 1,\\n    \"id\": 2,\\n    \"name\": \"quo vero reiciendis velit similique earum\",\\n    \"email\": \"Jayne_Kuhic@sydney.com\",\\n    \"body\": \"est natus enim nihil est dolore omnis voluptatem numquam\\\\net omnis occaecati quod ullam at\\\\nvoluptatem error expedita pariatur\\\\nnihil sint nostrum voluptatem reiciendis et\"\\n  },\\n  {\\n    \"postId\": 1,\\n    \"id\": 3,\\n    \"name\": \"odio adipisci rerum aut animi\",\\n    \"email\": \"Nikita@garfield.biz\",\\n    \"body\": \"quia molestiae reprehenderit quasi aspernatur\\\\naut expedita occaecati aliquam eveniet laudantium\\\\nomnis quibusdam delectus saepe quia accusamus maiores nam est\\\\ncum et ducimus et vero voluptates excepturi deleniti ratione\"\\n  },\\n  {\\n    \"postId\": 1,\\n    \"id\": 4,\\n    \"name\": \"alias odio sit\",\\n    \"email\": \"Lew@alysha.tv\",\\n    \"body\": \"non et atque\\\\noccaecati deserunt quas accusantium unde odit nobis qui voluptatem\\\\nquia voluptas consequuntur itaque dolor\\\\net qui rerum deleniti ut occaecati\"\\n  },\\n  {\\n    \"postId\": 1,\\n    \"id\": 5,\\n    \"name\": \"vero eaque aliquid doloribus et culpa\",\\n    \"email\": \"Hayden@althea.biz\",\\n    \"body\": \"harum non quasi et ratione\\\\ntempore iure ex voluptates in ratione\\\\nharum architecto fugit inventore cupiditate\\\\nvoluptates magni quo et\"\\n  }\\n]'"
      ]
     },
     "execution_count": 84,
     "metadata": {},
     "output_type": "execute_result"
    }
   ],
   "source": [
    "param = {'postId': 1}\n",
    "response = requests.get('https://jsonplaceholder.typicode.com/comments', params=param, verify=True)\n",
    "response.text"
   ]
  },
  {
   "cell_type": "markdown",
   "id": "66ebc0db-9094-48ee-92f4-dd09eca8f17f",
   "metadata": {},
   "source": [
    "### django"
   ]
  },
  {
   "cell_type": "markdown",
   "id": "c6537b12-2f82-4844-9401-e110793861e8",
   "metadata": {},
   "source": [
    "* Crear aplicaciones web"
   ]
  },
  {
   "cell_type": "markdown",
   "id": "61b0764d-e744-4902-a055-eb10c7736d16",
   "metadata": {},
   "source": [
    "### flask"
   ]
  },
  {
   "cell_type": "markdown",
   "id": "138ab29d-385f-4c68-a6fa-add38a0be8f1",
   "metadata": {},
   "source": [
    "* Crear aplicaciones web en forma rápida"
   ]
  },
  {
   "cell_type": "code",
   "execution_count": 87,
   "id": "70486c3a-ed16-4a05-bee5-bcf118c04e95",
   "metadata": {},
   "outputs": [],
   "source": [
    "from flask import Flask"
   ]
  },
  {
   "cell_type": "code",
   "execution_count": 88,
   "id": "5ee91831-9208-45d3-b5a5-9cc259b92cb7",
   "metadata": {},
   "outputs": [],
   "source": [
    "app = Flask(__name__)"
   ]
  },
  {
   "cell_type": "code",
   "execution_count": 89,
   "id": "f5ce8d61-5bd5-4eac-a751-6a868593c3c0",
   "metadata": {},
   "outputs": [],
   "source": [
    "@app.route('/')  # le dice a Flask qué URL debe ejecutar \n",
    "def index():\n",
    "  return '<h1>Hola mundo!<h1>'"
   ]
  },
  {
   "cell_type": "code",
   "execution_count": null,
   "id": "5fa8ceb0-e19e-4ca4-b9c3-05057ed0e0af",
   "metadata": {},
   "outputs": [],
   "source": [
    "# Ejecución del server\n",
    "# > export FLASK_APP=hello.py\n",
    "# > flask run\n",
    "# Entrar al browser: localhost:5000/"
   ]
  },
  {
   "cell_type": "markdown",
   "id": "c110a8f7-ad16-43db-afbf-8b5b43927bf6",
   "metadata": {},
   "source": [
    "### faker"
   ]
  },
  {
   "cell_type": "markdown",
   "id": "6fc67928-c2bf-43d6-88e2-f8aa89e7259b",
   "metadata": {},
   "source": [
    "* Generador de datos falsos/sintéticos"
   ]
  },
  {
   "cell_type": "code",
   "execution_count": 107,
   "id": "a3675861-186c-4b78-9eac-7aeca0656ec9",
   "metadata": {},
   "outputs": [],
   "source": [
    "from faker import Faker"
   ]
  },
  {
   "cell_type": "code",
   "execution_count": 108,
   "id": "d9ff719a-52d6-4a3f-b2cd-4c87dbbbc2e3",
   "metadata": {},
   "outputs": [],
   "source": [
    "fake = Faker()"
   ]
  },
  {
   "cell_type": "code",
   "execution_count": 109,
   "id": "acac8ee5-81a7-4300-9086-4d827cb91a10",
   "metadata": {},
   "outputs": [
    {
     "data": {
      "text/plain": [
       "'Jesse Browning'"
      ]
     },
     "execution_count": 109,
     "metadata": {},
     "output_type": "execute_result"
    }
   ],
   "source": [
    "fake.name()"
   ]
  },
  {
   "cell_type": "code",
   "execution_count": 110,
   "id": "a1129e15-2704-4757-abef-e811fe449b78",
   "metadata": {},
   "outputs": [
    {
     "data": {
      "text/plain": [
       "'935 Eric Vista Apt. 241\\nWheelerport, OR 45558'"
      ]
     },
     "execution_count": 110,
     "metadata": {},
     "output_type": "execute_result"
    }
   ],
   "source": [
    "fake.address()"
   ]
  },
  {
   "cell_type": "code",
   "execution_count": 111,
   "id": "ff6aaf06-ce6f-4b8c-9c6a-6a3c4e66f4a1",
   "metadata": {},
   "outputs": [
    {
     "data": {
      "text/plain": [
       "'Management agent despite than table agent though. Return ball enjoy relationship view feel.\\nFirm wrong around. Respond either line public. Must car because history customer week.'"
      ]
     },
     "execution_count": 111,
     "metadata": {},
     "output_type": "execute_result"
    }
   ],
   "source": [
    "fake.text()"
   ]
  },
  {
   "cell_type": "code",
   "execution_count": 112,
   "id": "2930a979-e0d8-41ee-a8d0-dbaca71fad1e",
   "metadata": {},
   "outputs": [],
   "source": [
    "fake = Faker('pt_BR')"
   ]
  },
  {
   "cell_type": "code",
   "execution_count": 113,
   "id": "7a037fb5-2db1-4529-9324-aa5be7711e85",
   "metadata": {},
   "outputs": [
    {
     "data": {
      "text/plain": [
       "'Ana Beatriz Fonseca'"
      ]
     },
     "execution_count": 113,
     "metadata": {},
     "output_type": "execute_result"
    }
   ],
   "source": [
    "fake.name()"
   ]
  },
  {
   "cell_type": "code",
   "execution_count": 114,
   "id": "ef59a38f-3af3-45dd-9162-e754a16f0fd1",
   "metadata": {},
   "outputs": [
    {
     "data": {
      "text/plain": [
       "'Largo de Rodrigues, 2\\nAnchieta\\n61535570 Vieira do Sul / PE'"
      ]
     },
     "execution_count": 114,
     "metadata": {},
     "output_type": "execute_result"
    }
   ],
   "source": [
    "fake.address()"
   ]
  },
  {
   "cell_type": "code",
   "execution_count": 115,
   "id": "05263ac2-34dd-493a-ab8e-923afaa8369d",
   "metadata": {},
   "outputs": [
    {
     "data": {
      "text/plain": [
       "'Non facere illum cumque assumenda ipsa temporibus. Sunt eos omnis autem.\\nCorporis autem saepe quam unde quas. Dolorem ipsa eveniet corporis laborum. Non neque earum.'"
      ]
     },
     "execution_count": 115,
     "metadata": {},
     "output_type": "execute_result"
    }
   ],
   "source": [
    "fake.text()"
   ]
  },
  {
   "cell_type": "markdown",
   "id": "73c9d93e-88ac-4824-8925-fb0a85e08bab",
   "metadata": {},
   "source": [
    "### Librerias para testing automático"
   ]
  },
  {
   "cell_type": "markdown",
   "id": "99a11806-87a5-4c1f-8ed8-2e03880fbf39",
   "metadata": {},
   "source": [
    "|                   |                   |\n",
    "| --                | --                |\n",
    "| **pytest**        | testing           |\n",
    "| **pytest-bdd**    | comportamiento    |\n",
    "| **allure-pytest** | reporting         |\n",
    "| **selenium**      | tests funcionales |\n",
    "| **locust**        | tests de carga    |"
   ]
  },
  {
   "cell_type": "markdown",
   "id": "b0c7667e-2ac7-4b34-b463-16fdc0031b36",
   "metadata": {},
   "source": [
    "### Librerías para ML y Data Science"
   ]
  },
  {
   "cell_type": "markdown",
   "id": "cb0201bf-0e45-40a2-9a01-cad61b69c380",
   "metadata": {},
   "source": [
    "|                  |                                                                    |\n",
    "| --               | --                                                                 |\n",
    "| **scipy**        | funciones matemáticas y estadísticas para aplicaciones científicas |\n",
    "| **scikit-learn** | algoritmos de ML                                                   |\n",
    "| **tensorflow**   | algoritmos de ML y aprendizaje profundo                            |\n",
    "| **keras**        | entrenar redes neuronales                                          |\n",
    "| **nltk**         | funciones para PNL                                                 |\n",
    "| **pandas**       | funciones para análisis de datos                                   | \n",
    "| **numpy**        | funciones matemáticas avanzadas                                    |\n",
    "| **matplotlib**   | análisis y representación básica de gráfica de datos               |\n",
    "| **plotly**       | graficación interactiva                                            |\n"
   ]
  },
  {
   "cell_type": "code",
   "execution_count": null,
   "id": "e5cd413e-4b5d-4281-993f-1fb2582e6212",
   "metadata": {},
   "outputs": [],
   "source": []
  }
 ],
 "metadata": {
  "kernelspec": {
   "display_name": "Python [conda env:base] *",
   "language": "python",
   "name": "conda-base-py"
  },
  "language_info": {
   "codemirror_mode": {
    "name": "ipython",
    "version": 3
   },
   "file_extension": ".py",
   "mimetype": "text/x-python",
   "name": "python",
   "nbconvert_exporter": "python",
   "pygments_lexer": "ipython3",
   "version": "3.12.7"
  }
 },
 "nbformat": 4,
 "nbformat_minor": 5
}
