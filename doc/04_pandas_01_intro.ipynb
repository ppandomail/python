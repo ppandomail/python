{
 "cells": [
  {
   "cell_type": "markdown",
   "id": "7a0aa45c-f639-42a4-baaf-661500f02330",
   "metadata": {},
   "source": [
    "# Pandas - Intro"
   ]
  },
  {
   "cell_type": "markdown",
   "id": "7870c67b-cb15-4094-af52-5341a717d7a0",
   "metadata": {},
   "source": [
    "* Biblioteca de Python, creada por Wes McKinney en 2008\n",
    "* Utilizada para trabajar con conjuntos de datps\n",
    "* Funciones para analizar, limpiar, explorar y manipular los datos\n",
    "* Permite analizar grandes datos y sacar conclusiones basadas en teorías estadísticas:\n",
    "  * ¿Existe una correlación entre dos o más variables/columnas?\n",
    "  * ¿Qué es el valor medio, máximo, mínimo?\n",
    "  * Etc.\n",
    "* Limpiar datos: eliminar casos/filas irrelevantes o que contienen valores incorrectos (valores vacíos o nulos)"
   ]
  },
  {
   "cell_type": "markdown",
   "id": "6aa63b6f-0dd5-4418-847d-e319e5b0aa06",
   "metadata": {},
   "source": [
    "## Instalación"
   ]
  },
  {
   "cell_type": "markdown",
   "id": "6403fee5-2285-472a-a70a-c63174cd9af7",
   "metadata": {},
   "source": [
    "pip install pandas"
   ]
  },
  {
   "cell_type": "markdown",
   "id": "0dcc699e-e7e1-4f98-985a-24b6297bc809",
   "metadata": {},
   "source": [
    "## Ejemplo"
   ]
  },
  {
   "cell_type": "code",
   "execution_count": 2,
   "id": "e0663042-acea-409f-8bf2-ce64db0648ab",
   "metadata": {},
   "outputs": [],
   "source": [
    "import pandas as pd  # gralmente. se importa con el alias pd"
   ]
  },
  {
   "cell_type": "code",
   "execution_count": 3,
   "id": "1aa81cd7-d1ac-4843-bdb5-28357b2a8924",
   "metadata": {},
   "outputs": [],
   "source": [
    "mydataset = {\n",
    "  'cars': [\"BMW\", \"Volvo\", \"Ford\"],\n",
    "  'passings': [3, 7, 2]\n",
    "}"
   ]
  },
  {
   "cell_type": "code",
   "execution_count": 4,
   "id": "4ba049f6-e83e-4e5e-8dd0-a38a531d68fc",
   "metadata": {},
   "outputs": [],
   "source": [
    "myvar = pd.DataFrame(mydataset)"
   ]
  },
  {
   "cell_type": "code",
   "execution_count": 5,
   "id": "504600a1-1938-49fe-b563-db6648ae181e",
   "metadata": {},
   "outputs": [
    {
     "data": {
      "text/html": [
       "<div>\n",
       "<style scoped>\n",
       "    .dataframe tbody tr th:only-of-type {\n",
       "        vertical-align: middle;\n",
       "    }\n",
       "\n",
       "    .dataframe tbody tr th {\n",
       "        vertical-align: top;\n",
       "    }\n",
       "\n",
       "    .dataframe thead th {\n",
       "        text-align: right;\n",
       "    }\n",
       "</style>\n",
       "<table border=\"1\" class=\"dataframe\">\n",
       "  <thead>\n",
       "    <tr style=\"text-align: right;\">\n",
       "      <th></th>\n",
       "      <th>cars</th>\n",
       "      <th>passings</th>\n",
       "    </tr>\n",
       "  </thead>\n",
       "  <tbody>\n",
       "    <tr>\n",
       "      <th>0</th>\n",
       "      <td>BMW</td>\n",
       "      <td>3</td>\n",
       "    </tr>\n",
       "    <tr>\n",
       "      <th>1</th>\n",
       "      <td>Volvo</td>\n",
       "      <td>7</td>\n",
       "    </tr>\n",
       "    <tr>\n",
       "      <th>2</th>\n",
       "      <td>Ford</td>\n",
       "      <td>2</td>\n",
       "    </tr>\n",
       "  </tbody>\n",
       "</table>\n",
       "</div>"
      ],
      "text/plain": [
       "    cars  passings\n",
       "0    BMW         3\n",
       "1  Volvo         7\n",
       "2   Ford         2"
      ]
     },
     "execution_count": 5,
     "metadata": {},
     "output_type": "execute_result"
    }
   ],
   "source": [
    "myvar"
   ]
  }
 ],
 "metadata": {
  "kernelspec": {
   "display_name": "Python [conda env:base] *",
   "language": "python",
   "name": "conda-base-py"
  },
  "language_info": {
   "codemirror_mode": {
    "name": "ipython",
    "version": 3
   },
   "file_extension": ".py",
   "mimetype": "text/x-python",
   "name": "python",
   "nbconvert_exporter": "python",
   "pygments_lexer": "ipython3",
   "version": "3.12.7"
  }
 },
 "nbformat": 4,
 "nbformat_minor": 5
}
