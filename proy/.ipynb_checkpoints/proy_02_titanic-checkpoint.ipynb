{
 "cells": [
  {
   "cell_type": "markdown",
   "id": "7f572884-5cfc-4946-a070-595a60c1ee84",
   "metadata": {},
   "source": [
    "# Proyecto 2: Titanic"
   ]
  },
  {
   "cell_type": "markdown",
   "id": "1e7ec124-7f75-4dc0-97a6-6a2d48ac94d7",
   "metadata": {},
   "source": [
    "* El archivo titanic.csv contiene información sobre los pasajeros del Titanic\n",
    "* Escribir un programa con los siguientes requisitos:"
   ]
  },
  {
   "cell_type": "markdown",
   "id": "a3aa8ee6-1359-4af7-9c07-19211d580ba8",
   "metadata": {},
   "source": [
    "## Generar un DataFrame con los datos del archivo"
   ]
  },
  {
   "cell_type": "code",
   "execution_count": null,
   "id": "1c0fe0ac-4c7f-49e4-99bd-3c4ab3d443fc",
   "metadata": {},
   "outputs": [],
   "source": []
  },
  {
   "cell_type": "markdown",
   "id": "cc130d9f-118b-4e2a-90d4-dbdcba57bd33",
   "metadata": {},
   "source": [
    "## Mostrar las dimensiones del DataFrame, el número de datos que contiene, los nombres de sus columnas y filas, los tipos de datos de las columnas, las 10 primeras filas y las 10 últimas filas"
   ]
  },
  {
   "cell_type": "code",
   "execution_count": null,
   "id": "23b4f82e-16a2-4b30-a3ec-8a2b829b28b4",
   "metadata": {},
   "outputs": [],
   "source": []
  },
  {
   "cell_type": "markdown",
   "id": "3b033e1f-c3c2-45ff-81c1-e719ccafc827",
   "metadata": {},
   "source": [
    "## Mostrar los datos del pasajero con identificador 148"
   ]
  },
  {
   "cell_type": "code",
   "execution_count": null,
   "id": "4d153319-7c06-4f8e-9164-f7d1f7788e06",
   "metadata": {},
   "outputs": [],
   "source": []
  },
  {
   "cell_type": "markdown",
   "id": "7aea5c6d-ae5a-47f5-9188-b1a4c2f5b448",
   "metadata": {},
   "source": [
    "## Mostrar las filas pares del DataFrame"
   ]
  },
  {
   "cell_type": "code",
   "execution_count": null,
   "id": "cac6b4b0-3624-4ec7-8554-db9c7777f76d",
   "metadata": {},
   "outputs": [],
   "source": []
  },
  {
   "cell_type": "markdown",
   "id": "7944633f-64d8-4f6c-9506-fc01d0fef10d",
   "metadata": {},
   "source": [
    "## Mostrar los nombres de las personas que iban en primera clase ordenadas alfabéticamente"
   ]
  },
  {
   "cell_type": "code",
   "execution_count": null,
   "id": "7af4be34-2545-4068-8f0b-ff0cae7bd318",
   "metadata": {},
   "outputs": [],
   "source": []
  },
  {
   "cell_type": "markdown",
   "id": "1ccdc978-d8a5-4863-a5b0-b6110afa7ded",
   "metadata": {},
   "source": [
    "## Mostrar el porcentaje de personas que sobrevivieron y murieron"
   ]
  },
  {
   "cell_type": "code",
   "execution_count": null,
   "id": "bdebf2ce-5b17-4544-a23d-ab8f008d6185",
   "metadata": {},
   "outputs": [],
   "source": []
  },
  {
   "cell_type": "markdown",
   "id": "daf25b84-d3e2-4f08-9630-a4444a1b85c6",
   "metadata": {},
   "source": [
    "## Mostrar el porcentaje de personas que sobrevivieron en cada clase"
   ]
  },
  {
   "cell_type": "code",
   "execution_count": null,
   "id": "36950a0c-d194-4127-9210-7a4bad171c4f",
   "metadata": {},
   "outputs": [],
   "source": []
  },
  {
   "cell_type": "markdown",
   "id": "b2bc7bfd-f547-4109-a5d8-f329d2425715",
   "metadata": {},
   "source": [
    "## Eliminar del DataFrame los pasajeros con edad desconocida"
   ]
  },
  {
   "cell_type": "code",
   "execution_count": null,
   "id": "eac229e1-70dc-4903-8146-994f087322de",
   "metadata": {},
   "outputs": [],
   "source": []
  },
  {
   "cell_type": "markdown",
   "id": "a9347933-5a22-49da-a76f-13c0352e47e7",
   "metadata": {},
   "source": [
    "## Mostrar la edad media de las mujeres que viajaban en cada clase"
   ]
  },
  {
   "cell_type": "code",
   "execution_count": null,
   "id": "f6ba4ceb-b35b-4fd7-9bc4-1ee7b2e5000e",
   "metadata": {},
   "outputs": [],
   "source": []
  },
  {
   "cell_type": "markdown",
   "id": "977e3db4-042c-4b97-90a3-c8eb8af97afa",
   "metadata": {},
   "source": [
    "## Agregar una nueva columna booleana para ver si el pasajero era menor de edad o no"
   ]
  },
  {
   "cell_type": "code",
   "execution_count": null,
   "id": "74c38e19-f3d2-4090-b965-f065fb8aaaa5",
   "metadata": {},
   "outputs": [],
   "source": []
  },
  {
   "cell_type": "markdown",
   "id": "424f0b09-fa2d-4407-9897-faede45968af",
   "metadata": {},
   "source": [
    "## Mostrar el porcentaje de menores y mayores de edad que sobrevivieron en cada clase"
   ]
  },
  {
   "cell_type": "code",
   "execution_count": null,
   "id": "0fd80575-29c1-4906-a28f-52a4b3376ba7",
   "metadata": {},
   "outputs": [],
   "source": []
  },
  {
   "cell_type": "markdown",
   "id": "0b823019-68bd-47ef-b802-8a8c58d20d7b",
   "metadata": {},
   "source": [
    "## Generar diagrama de sectores con los fallecidos y supervivientes"
   ]
  },
  {
   "cell_type": "code",
   "execution_count": null,
   "id": "cfc219b6-058b-4690-8b64-cae66f4a16ca",
   "metadata": {},
   "outputs": [],
   "source": []
  },
  {
   "cell_type": "markdown",
   "id": "a276d5d8-3265-4219-853e-15ab39245397",
   "metadata": {},
   "source": [
    "## Generar histograma con las edades"
   ]
  },
  {
   "cell_type": "code",
   "execution_count": null,
   "id": "a523d9e2-fb72-461c-8d65-0c310f1698d0",
   "metadata": {},
   "outputs": [],
   "source": []
  },
  {
   "cell_type": "markdown",
   "id": "b1f45119-bf06-4fd6-b080-3f506d7beb68",
   "metadata": {},
   "source": [
    "## Generar diagrama de barras con el número de personas en cada clase"
   ]
  },
  {
   "cell_type": "code",
   "execution_count": null,
   "id": "548e7cf5-5e9a-419e-8534-99c30b79d230",
   "metadata": {},
   "outputs": [],
   "source": []
  },
  {
   "cell_type": "markdown",
   "id": "1a92be5e-e71d-4bfc-83ea-8a760c176323",
   "metadata": {},
   "source": [
    "## Generar diagrama de barras con el número de personas fallecidas y supervivientes en cada clase"
   ]
  },
  {
   "cell_type": "code",
   "execution_count": null,
   "id": "07cc46c7-e908-4a4b-b454-70ab6a0ddcda",
   "metadata": {},
   "outputs": [],
   "source": []
  },
  {
   "cell_type": "markdown",
   "id": "ab814b8c-ce22-41b9-af62-856c62f690af",
   "metadata": {},
   "source": [
    "## Generar diagrama de barras con el número de personas fallecidas y supervivientes acumuladas en cada clase"
   ]
  },
  {
   "cell_type": "code",
   "execution_count": null,
   "id": "c68b51f8-911c-40e7-91ba-9fab480ba155",
   "metadata": {},
   "outputs": [],
   "source": []
  }
 ],
 "metadata": {
  "kernelspec": {
   "display_name": "Python [conda env:base] *",
   "language": "python",
   "name": "conda-base-py"
  },
  "language_info": {
   "codemirror_mode": {
    "name": "ipython",
    "version": 3
   },
   "file_extension": ".py",
   "mimetype": "text/x-python",
   "name": "python",
   "nbconvert_exporter": "python",
   "pygments_lexer": "ipython3",
   "version": "3.12.7"
  }
 },
 "nbformat": 4,
 "nbformat_minor": 5
}
