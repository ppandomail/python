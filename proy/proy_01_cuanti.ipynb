{
 "cells": [
  {
   "cell_type": "markdown",
   "id": "9345a437-8a13-45ab-812f-3ab58a85a435",
   "metadata": {
    "editable": true,
    "panel-layout": {
     "height": 60.59375,
     "visible": true,
     "width": 100
    },
    "slideshow": {
     "slide_type": ""
    },
    "tags": []
   },
   "source": [
    "# Proyecto 1: Cuanti"
   ]
  },
  {
   "cell_type": "markdown",
   "id": "c978603d-b278-4427-8c29-f2f9f23d5733",
   "metadata": {},
   "source": [
    "## Clase"
   ]
  },
  {
   "cell_type": "code",
   "execution_count": 147,
   "id": "894b2ebd-6adc-4407-ad42-2773ee2fea6c",
   "metadata": {},
   "outputs": [],
   "source": [
    "import math\n",
    "\n",
    "class Cuanti:\n",
    "\n",
    "    def __init__(self, nombre='X', data=[]):\n",
    "        self.nombre = nombre\n",
    "        self.data = data\n",
    "\n",
    "    def set_nombre(self, nuevo_nombre):\n",
    "        self.nombre = nuevo_nombre\n",
    "\n",
    "    def get_nombre(self):\n",
    "        return self.nombre\n",
    "\n",
    "    def set_data(self, nueva_data):\n",
    "        self.data = nueva_data\n",
    "    \n",
    "    def media(self):\n",
    "        return round(sum(self.data) / len(self.data), 2)\n",
    "\n",
    "    def media2(self):\n",
    "        cont = 0\n",
    "        acum = 0\n",
    "        for elem in self.data:\n",
    "            cont += 1\n",
    "            acum += elem\n",
    "        return round(acum / cont, 2)\n",
    "    \n",
    "    def minimo(self):\n",
    "        return min(self.data)\n",
    "    \n",
    "    def mediana(self):\n",
    "        n = len(self.data)\n",
    "        centro = int(n/2)\n",
    "        ordenada = sorted(self.data)\n",
    "        if n%2 != 0:\n",
    "            return ordenada[centro]\n",
    "        return Cuanti(data=[ordenada[centro], ordenada[centro - 1]]).media()\n",
    "    \n",
    "    def maximo(self):\n",
    "        return max(self.data)\n",
    "\n",
    "    def rango(self):\n",
    "        return self.maximo() - self.minimo()\n",
    "\n",
    "    def coeficiente_variacion(self):\n",
    "        return round(self.desvio_estandar() / self.media(), 2)\n",
    "\n",
    "    def moda(self):\n",
    "        dicc = {}\n",
    "        for elem in self.data:\n",
    "            dicc[elem] = (1 if elem not in dicc else (dicc[elem] + 1))\n",
    "        maximo = max(dicc.values())\n",
    "        moda = []\n",
    "        for elem in dicc.keys():\n",
    "            if dicc[elem] == maximo:\n",
    "                moda.append(elem)\n",
    "        return sorted(moda)\n",
    "            \n",
    "    def varianza(self):\n",
    "        acum = 0\n",
    "        media = self.media()\n",
    "        for elem in self.data:\n",
    "            acum += pow(elem - media, 2)\n",
    "        return round(acum / (len(self.data) - 1), 2)\n",
    "        \n",
    "    def desvio_estandar(self):\n",
    "        return round(math.sqrt(self.varianza()), 2)\n",
    "    \n",
    "    def q1(self):\n",
    "        n = len(self.data)\n",
    "        centro = int(n/2)\n",
    "        ordenada = sorted(self.data)   \n",
    "        return Cuanti(data=ordenada[:centro]).mediana()\n",
    "    \n",
    "    def q3(self):\n",
    "        n = len(self.data)\n",
    "        centro = int(n/2)\n",
    "        ordenada = sorted(self.data)\n",
    "        if n%2 != 0:\n",
    "            return Cuanti(data=ordenada[centro+1:]).mediana()\n",
    "        return Cuanti(data=ordenada[centro:]).mediana()\n",
    "\n",
    "    def iqr(self):\n",
    "        return self.q3() - self.q1()\n",
    "        \n",
    "    def atipicos(self):\n",
    "        umbral_inf = 1.5 * self.iqr()\n",
    "        umbral_sup = 3 * self.iqr()\n",
    "        atipicos = []\n",
    "        for elem in self.data:\n",
    "            if elem >= umbral_inf and elem < umbral_sup:\n",
    "                atipicos.append(elem)\n",
    "        return sorted(atipicos)\n",
    "    \n",
    "    def muy_atipicos(self):\n",
    "        umbral_inf = 3 * self.iqr()\n",
    "        muy_atipicos = []\n",
    "        for elem in self.data:\n",
    "            if elem >= umbral_inf:\n",
    "                muy_atipicos.append(elem)\n",
    "        return sorted(muy_atipicos)\n",
    "        \n",
    "    def medidas_resumen(self):\n",
    "        print('Nombre: ',  self.nombre)\n",
    "        print('Datos: ',   self.data)\n",
    "        print('Media: ',   self.media())\n",
    "        print('Mediana: ', self.mediana())\n",
    "\n",
    "    def __str__(self):\n",
    "        return self.nombre + '\\n' + str(self.data)"
   ]
  },
  {
   "cell_type": "code",
   "execution_count": 148,
   "id": "c79d30fa-96ef-4978-9d53-ff541f2e6b32",
   "metadata": {},
   "outputs": [],
   "source": [
    "c = Cuanti('v1', [1, 2, 3])"
   ]
  },
  {
   "cell_type": "code",
   "execution_count": 149,
   "id": "1b64f163-98b9-4122-95e9-93327e74dfcc",
   "metadata": {},
   "outputs": [
    {
     "data": {
      "text/plain": [
       "'v1'"
      ]
     },
     "execution_count": 149,
     "metadata": {},
     "output_type": "execute_result"
    }
   ],
   "source": [
    "c.get_nombre()"
   ]
  },
  {
   "cell_type": "code",
   "execution_count": 150,
   "id": "fc90387a-3b0e-4e8c-ab4e-e2c83f063047",
   "metadata": {},
   "outputs": [],
   "source": [
    "c.set_nombre('cantidades')"
   ]
  },
  {
   "cell_type": "code",
   "execution_count": 151,
   "id": "e0415704-7e23-45b9-ab19-4297ef9e2de8",
   "metadata": {},
   "outputs": [
    {
     "data": {
      "text/plain": [
       "'cantidades'"
      ]
     },
     "execution_count": 151,
     "metadata": {},
     "output_type": "execute_result"
    }
   ],
   "source": [
    "c.get_nombre()"
   ]
  },
  {
   "cell_type": "code",
   "execution_count": 152,
   "id": "7f6da215-1bb2-4e7b-ad43-ae36f475db29",
   "metadata": {
    "panel-layout": {
     "height": 27.140625,
     "visible": true,
     "width": 100
    }
   },
   "outputs": [
    {
     "data": {
      "text/plain": [
       "2.0"
      ]
     },
     "execution_count": 152,
     "metadata": {},
     "output_type": "execute_result"
    }
   ],
   "source": [
    "c.media()"
   ]
  },
  {
   "cell_type": "code",
   "execution_count": 153,
   "id": "444758cb-d22e-4438-bf83-22c2bffe813a",
   "metadata": {
    "panel-layout": {
     "height": 27.140625,
     "visible": true,
     "width": 100
    }
   },
   "outputs": [
    {
     "data": {
      "text/plain": [
       "1"
      ]
     },
     "execution_count": 153,
     "metadata": {},
     "output_type": "execute_result"
    }
   ],
   "source": [
    "c.minimo()"
   ]
  },
  {
   "cell_type": "code",
   "execution_count": 154,
   "id": "b8c51c9f-08b2-42ac-849e-fc538313f23c",
   "metadata": {
    "panel-layout": {
     "height": 27.140625,
     "visible": true,
     "width": 100
    }
   },
   "outputs": [
    {
     "data": {
      "text/plain": [
       "3"
      ]
     },
     "execution_count": 154,
     "metadata": {},
     "output_type": "execute_result"
    }
   ],
   "source": [
    "c.maximo()"
   ]
  },
  {
   "cell_type": "code",
   "execution_count": 155,
   "id": "dd000a41-c710-4e2c-85c2-a2833fef5270",
   "metadata": {},
   "outputs": [
    {
     "data": {
      "text/plain": [
       "2"
      ]
     },
     "execution_count": 155,
     "metadata": {},
     "output_type": "execute_result"
    }
   ],
   "source": [
    "c.rango()"
   ]
  },
  {
   "cell_type": "code",
   "execution_count": 156,
   "id": "9aa2ca98-66b9-4797-934b-09da97e6ce65",
   "metadata": {
    "editable": true,
    "panel-layout": {
     "height": 27.140625,
     "visible": true,
     "width": 100
    },
    "slideshow": {
     "slide_type": ""
    },
    "tags": []
   },
   "outputs": [
    {
     "data": {
      "text/plain": [
       "2"
      ]
     },
     "execution_count": 156,
     "metadata": {},
     "output_type": "execute_result"
    }
   ],
   "source": [
    "c.mediana()"
   ]
  },
  {
   "cell_type": "code",
   "execution_count": 157,
   "id": "8139d38b-c78e-4a89-9332-8d59ce358121",
   "metadata": {
    "panel-layout": {
     "height": 0,
     "visible": true,
     "width": 100
    }
   },
   "outputs": [
    {
     "name": "stdout",
     "output_type": "stream",
     "text": [
      "cantidades\n",
      "[1, 2, 3]\n"
     ]
    }
   ],
   "source": [
    "print(c)"
   ]
  },
  {
   "cell_type": "code",
   "execution_count": 158,
   "id": "b3079f7b-e7fe-4f9c-bab9-faa9ca8bd01c",
   "metadata": {
    "panel-layout": {
     "height": 0,
     "visible": true,
     "width": 100
    }
   },
   "outputs": [],
   "source": [
    "c.set_nombre('v')"
   ]
  },
  {
   "cell_type": "code",
   "execution_count": 159,
   "id": "8cb75700-ba2b-41a2-aae4-01566daedb05",
   "metadata": {
    "panel-layout": {
     "height": 0,
     "visible": true,
     "width": 100
    }
   },
   "outputs": [
    {
     "name": "stdout",
     "output_type": "stream",
     "text": [
      "v\n",
      "[1, 2, 3]\n"
     ]
    }
   ],
   "source": [
    "print(c)"
   ]
  },
  {
   "cell_type": "code",
   "execution_count": 160,
   "id": "1093e244-7031-44c6-9e17-e72b168ab734",
   "metadata": {},
   "outputs": [
    {
     "name": "stdout",
     "output_type": "stream",
     "text": [
      "Nombre:  v\n",
      "Datos:  [1, 2, 3]\n",
      "Media:  2.0\n",
      "Mediana:  2\n"
     ]
    }
   ],
   "source": [
    "c.medidas_resumen()"
   ]
  },
  {
   "cell_type": "markdown",
   "id": "ab073bf4-4103-46af-9c06-9fc2f5d0724e",
   "metadata": {},
   "source": [
    "## Tests"
   ]
  },
  {
   "cell_type": "code",
   "execution_count": 161,
   "id": "2cda4d22-7329-41e6-af29-49e8dba786a3",
   "metadata": {},
   "outputs": [
    {
     "name": "stderr",
     "output_type": "stream",
     "text": [
      "test_media (__main__.TestCuantiHardCode.test_media) ... ok\n",
      "test_mediana_n_impar (__main__.TestCuantiHardCode.test_mediana_n_impar) ... ok\n",
      "test_mediana_n_par (__main__.TestCuantiHardCode.test_mediana_n_par) ... ok\n",
      "test_rango (__main__.TestCuantiHardCode.test_rango) ... ok\n",
      "test_varianza (__main__.TestCuantiHardCode.test_varianza) ... ok\n",
      "test_atipicos (__main__.TestNombreCuanti.test_atipicos) ... ok\n",
      "test_desvio_estandar (__main__.TestNombreCuanti.test_desvio_estandar) ... ok\n",
      "test_iqr (__main__.TestNombreCuanti.test_iqr) ... ok\n",
      "test_maximo (__main__.TestNombreCuanti.test_maximo) ... ok\n",
      "test_media (__main__.TestNombreCuanti.test_media) ... ok\n",
      "test_media2 (__main__.TestNombreCuanti.test_media2) ... ok\n",
      "test_mediana_n_impar (__main__.TestNombreCuanti.test_mediana_n_impar) ... ok\n",
      "test_mediana_n_par (__main__.TestNombreCuanti.test_mediana_n_par) ... ok\n",
      "test_minimo (__main__.TestNombreCuanti.test_minimo) ... ok\n",
      "test_moda (__main__.TestNombreCuanti.test_moda) ... ok\n",
      "test_muy_atipicos (__main__.TestNombreCuanti.test_muy_atipicos) ... ok\n",
      "test_nombre (__main__.TestNombreCuanti.test_nombre) ... ok\n",
      "test_nombre_nuevo (__main__.TestNombreCuanti.test_nombre_nuevo) ... ok\n",
      "test_q1 (__main__.TestNombreCuanti.test_q1) ... ok\n",
      "test_q3 (__main__.TestNombreCuanti.test_q3) ... ok\n",
      "test_rango (__main__.TestNombreCuanti.test_rango) ... ok\n",
      "test_varianza (__main__.TestNombreCuanti.test_varianza) ... ok\n",
      "\n",
      "----------------------------------------------------------------------\n",
      "Ran 22 tests in 0.114s\n",
      "\n",
      "OK\n"
     ]
    },
    {
     "data": {
      "text/plain": [
       "<unittest.main.TestProgram at 0x13233d6d0>"
      ]
     },
     "execution_count": 161,
     "metadata": {},
     "output_type": "execute_result"
    }
   ],
   "source": [
    "import unittest\n",
    "import sqlite3\n",
    "\n",
    "class TestNombreCuanti(unittest.TestCase):\n",
    "\n",
    "    def setUp(self):\n",
    "        # hardcode\n",
    "        self.c1 = Cuanti('v1', [1, 3, 4])\n",
    "        self.c2 = Cuanti('v2', [100, 200, 200, 250, 600])\n",
    "\n",
    "        # file\n",
    "        fr = open(\"/Users/ppando/Materias/python/proy/cuanti_datos.csv\", 'r')\n",
    "        lista2 = fr.readlines()\n",
    "        fr.close()\n",
    "        self.datos = []\n",
    "        for elem in lista2:                      \n",
    "            self.datos.append(int(elem.replace('\\n', '')))\n",
    "        self.c3 = Cuanti('v3', self.datos)\n",
    "\n",
    "        # database\n",
    "        self.con = sqlite3.connect(\"/Users/ppando/Materias/python/proy/cuanti_datos.db\") # si no existe, la crea\n",
    "        cur = self.con.cursor()\n",
    "        cur.execute(\"CREATE TABLE datos(id INTEGER PRIMARY KEY AUTOINCREMENT, value INTEGER NOT NULL)\")\n",
    "        cur.execute(\"INSERT INTO datos (value) VALUES (100), (200), (200), (250), (600)\")\n",
    "        self.con.commit()\n",
    "        self.datos = []\n",
    "        for row in cur.execute(\"SELECT value FROM datos\"):                      \n",
    "            self.datos.append(row[0])\n",
    "        self.c4 = Cuanti('v4', self.datos)\n",
    "        \n",
    "    def test_nombre(self):\n",
    "        self.assertEqual(self.c1.get_nombre(), 'v1')\n",
    "        self.assertEqual(self.c2.get_nombre(), 'v2')\n",
    "\n",
    "    def test_nombre_nuevo(self):\n",
    "        self.c1.set_nombre('cantidades')\n",
    "        self.assertEqual(self.c1.get_nombre(), 'cantidades')\n",
    "\n",
    "    def test_media(self):\n",
    "        self.assertEqual(self.c1.media(), 2.67)\n",
    "        self.assertEqual(self.c2.media(), 270)\n",
    "        self.assertEqual(self.c3.media(), 270)\n",
    "        self.assertEqual(self.c4.media(), 270)\n",
    "                \n",
    "    def test_media2(self):\n",
    "        self.assertEqual(self.c1.media2(), 2.67)\n",
    "        self.assertEqual(self.c2.media2(), 270)\n",
    "        self.assertEqual(self.c3.media2(), 270)\n",
    "        self.assertEqual(self.c4.media2(), 270)\n",
    "\n",
    "    def test_minimo(self):\n",
    "        self.assertEqual(self.c1.minimo(), 1)\n",
    "        self.assertEqual(self.c2.minimo(), 100)\n",
    "        self.assertEqual(self.c3.minimo(), 100)\n",
    "        self.assertEqual(self.c4.minimo(), 100)\n",
    "        \n",
    "    def test_maximo(self):\n",
    "        self.assertEqual(self.c1.maximo(), 4)\n",
    "        self.assertEqual(self.c2.maximo(), 600)\n",
    "        self.assertEqual(self.c3.maximo(), 600)\n",
    "        self.assertEqual(self.c4.maximo(), 600)\n",
    "\n",
    "    def test_rango(self):\n",
    "        self.assertEqual(self.c1.rango(), 3)\n",
    "        self.assertEqual(self.c2.rango(), 500)\n",
    "        self.assertEqual(self.c3.rango(), 500)\n",
    "        self.assertEqual(self.c4.rango(), 500)\n",
    "        \n",
    "    def test_mediana_n_impar(self):\n",
    "        self.assertEqual(self.c1.mediana(), 3)\n",
    "        self.assertEqual(self.c2.mediana(), 200)\n",
    "        self.assertEqual(self.c3.mediana(), 200)\n",
    "        \n",
    "    def test_mediana_n_par(self): \n",
    "        self.assertEqual(Cuanti('v2', [9, 5, 6, 1]).mediana(), 5.5)\n",
    "        self.assertEqual(Cuanti('v', [100, 200, 900, 250, 600, 350]).mediana(), 300)\n",
    "\n",
    "    def test_moda(self):\n",
    "        self.assertEqual(self.c1.moda(), [1, 3, 4])\n",
    "        self.assertEqual(self.c2.moda(), [200])\n",
    "        self.assertEqual(self.c3.moda(), [200])\n",
    "        self.assertEqual(self.c4.moda(), [200])\n",
    "\n",
    "    def test_varianza(self):\n",
    "        self.assertEqual(self.c1.varianza(), 2.33)\n",
    "        self.assertEqual(self.c2.varianza(), 37000)\n",
    "        self.assertEqual(self.c3.varianza(), 37000)\n",
    "        self.assertEqual(self.c4.varianza(), 37000)\n",
    "\n",
    "    def test_desvio_estandar(self):\n",
    "        self.assertEqual(self.c1.desvio_estandar(), 1.53)\n",
    "        self.assertEqual(self.c2.desvio_estandar(), 192.35)\n",
    "        self.assertEqual(self.c3.desvio_estandar(), 192.35)\n",
    "        self.assertEqual(self.c4.desvio_estandar(), 192.35)\n",
    "\n",
    "    def test_q1(self):\n",
    "        self.assertEqual(Cuanti(data=[1, 5, 6, 9]).q1(), 3)\n",
    "        self.assertEqual(Cuanti(data=[13, 13.5, 14, 14, 14.5, 15.5, 16]).q1(), 13.5)\n",
    "        self.assertEqual(self.c1.q1(), 1)\n",
    "        self.assertEqual(self.c2.q1(), 150)\n",
    "        \n",
    "    def test_q3(self):\n",
    "        self.assertEqual(Cuanti(data=[1, 5, 6, 9]).q3(), 7.50)\n",
    "        self.assertEqual(Cuanti(data=[13, 13.5, 14, 14, 14.5, 15.5, 16]).q3(), 15.5)\n",
    "        self.assertEqual(self.c1.q3(), 4)\n",
    "        self.assertEqual(self.c2.q3(), 425)\n",
    "        \n",
    "    def test_iqr(self):\n",
    "        self.assertEqual(Cuanti(data=[1, 5, 6, 9]).iqr(), 4.50)\n",
    "        self.assertEqual(Cuanti(data=[13, 13.5, 14, 14, 14.5, 15.5, 16]).iqr(), 2)\n",
    "        self.assertEqual(self.c1.iqr(), 3)\n",
    "        self.assertEqual(self.c2.iqr(), 275)\n",
    "        \n",
    "    def test_atipicos(self):\n",
    "        self.assertEqual(Cuanti('v', [100, 200, 900, 250, 600, 350, 3000]).atipicos(), [])\n",
    "        self.assertEqual(self.c1.atipicos(), [])\n",
    "        self.assertEqual(self.c2.atipicos(), [600])\n",
    "        \n",
    "    def test_muy_atipicos(self):\n",
    "        self.assertEqual(Cuanti('v', [100, 200, 900, 250, 600, 350, 3000]).muy_atipicos(), [3000])\n",
    "        self.assertEqual(self.c1.muy_atipicos(), [])\n",
    "        self.assertEqual(self.c2.muy_atipicos(), [])\n",
    "\n",
    "    def tearDown(self):\n",
    "        self.con.cursor().execute(\"DROP TABLE datos\")\n",
    "        self.con.close()\n",
    "\n",
    "unittest.main(argv=[''], verbosity=2, exit=False)"
   ]
  }
 ],
 "metadata": {
  "kernelspec": {
   "display_name": "Python [conda env:base] *",
   "language": "python",
   "name": "conda-base-py"
  },
  "language_info": {
   "codemirror_mode": {
    "name": "ipython",
    "version": 3
   },
   "file_extension": ".py",
   "mimetype": "text/x-python",
   "name": "python",
   "nbconvert_exporter": "python",
   "pygments_lexer": "ipython3",
   "version": "3.12.7"
  },
  "panel-cell-order": [
   "9345a437-8a13-45ab-812f-3ab58a85a435",
   "7f6da215-1bb2-4e7b-ad43-ae36f475db29",
   "444758cb-d22e-4438-bf83-22c2bffe813a",
   "b8c51c9f-08b2-42ac-849e-fc538313f23c",
   "9aa2ca98-66b9-4797-934b-09da97e6ce65",
   "8139d38b-c78e-4a89-9332-8d59ce358121",
   "b3079f7b-e7fe-4f9c-bab9-faa9ca8bd01c",
   "8cb75700-ba2b-41a2-aae4-01566daedb05"
  ]
 },
 "nbformat": 4,
 "nbformat_minor": 5
}
