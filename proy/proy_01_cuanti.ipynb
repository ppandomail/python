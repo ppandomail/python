{
 "cells": [
  {
   "cell_type": "markdown",
   "id": "9345a437-8a13-45ab-812f-3ab58a85a435",
   "metadata": {
    "editable": true,
    "panel-layout": {
     "height": 60.59375,
     "visible": true,
     "width": 100
    },
    "slideshow": {
     "slide_type": ""
    },
    "tags": []
   },
   "source": [
    "# Proyecto 1: Cuanti"
   ]
  },
  {
   "cell_type": "code",
   "execution_count": 22,
   "id": "894b2ebd-6adc-4407-ad42-2773ee2fea6c",
   "metadata": {},
   "outputs": [],
   "source": [
    "class Cuanti:\n",
    "\n",
    "    def __init__(self, nombre='X', data=[]):\n",
    "        self.nombre = nombre\n",
    "        self.data = data\n",
    "\n",
    "    def set_nombre(self, nuevo_nombre):\n",
    "        self.nombre = nuevo_nombre\n",
    "\n",
    "    def get_nombre(self):\n",
    "        return self.nombre\n",
    "\n",
    "    def set_data(self, nueva_data):\n",
    "        self.data = nueva_data\n",
    "    \n",
    "    def media(self):\n",
    "        return sum(self.data)/len(self.data)\n",
    "\n",
    "    def media2(self):\n",
    "        cont = 0\n",
    "        acum = 0\n",
    "        for elem in self.data:\n",
    "            cont += 1\n",
    "            acum += elem\n",
    "        return acum/cont\n",
    "    \n",
    "    def minimo(self):\n",
    "        return min(self.data)\n",
    "    \n",
    "    def mediana(self):\n",
    "        n = len(self.data)\n",
    "        centro = int(n/2)\n",
    "        ordenada = sorted(self.data)\n",
    "        if n%2 != 0:\n",
    "            return ordenada[centro]\n",
    "        return Cuanti(data=[ordenada[centro], ordenada[centro - 1]]).media()\n",
    "    \n",
    "    def maximo(self):\n",
    "        return max(self.data)\n",
    "\n",
    "    def rango(self):\n",
    "        return self.maximo() - self.minimo()\n",
    "\n",
    "    def coeficiente_variacion(self):\n",
    "        return self.desvio_estandar() / self.media()\n",
    "\n",
    "    def moda(self):\n",
    "        pass\n",
    "\n",
    "    def varianza(self):\n",
    "        pass\n",
    "\n",
    "    def desvio_estandar(self):\n",
    "        pass\n",
    "    \n",
    "    def q1(self):\n",
    "        pass\n",
    "\n",
    "    def q3(self):\n",
    "        pass\n",
    "\n",
    "    def atipicos(self):\n",
    "        pass\n",
    "    \n",
    "    def muy_atipicos(self):\n",
    "        pass\n",
    "\n",
    "    def rango_intercuartilico(self):\n",
    "        pass\n",
    "\n",
    "    def medidad_resumen(self):\n",
    "        pass\n",
    "\n",
    "    def __str__(self):\n",
    "        return self.nombre + '\\n' + str(self.data)"
   ]
  },
  {
   "cell_type": "code",
   "execution_count": 10,
   "id": "c79d30fa-96ef-4978-9d53-ff541f2e6b32",
   "metadata": {},
   "outputs": [],
   "source": [
    "c = Cuanti('v1', [1, 2, 3])"
   ]
  },
  {
   "cell_type": "code",
   "execution_count": 11,
   "id": "1b64f163-98b9-4122-95e9-93327e74dfcc",
   "metadata": {},
   "outputs": [
    {
     "data": {
      "text/plain": [
       "'v1'"
      ]
     },
     "execution_count": 11,
     "metadata": {},
     "output_type": "execute_result"
    }
   ],
   "source": [
    "c.get_nombre()"
   ]
  },
  {
   "cell_type": "code",
   "execution_count": 12,
   "id": "fc90387a-3b0e-4e8c-ab4e-e2c83f063047",
   "metadata": {},
   "outputs": [],
   "source": [
    "c.set_nombre('cantidades')"
   ]
  },
  {
   "cell_type": "code",
   "execution_count": 13,
   "id": "e0415704-7e23-45b9-ab19-4297ef9e2de8",
   "metadata": {},
   "outputs": [
    {
     "data": {
      "text/plain": [
       "'cantidades'"
      ]
     },
     "execution_count": 13,
     "metadata": {},
     "output_type": "execute_result"
    }
   ],
   "source": [
    "c.get_nombre()"
   ]
  },
  {
   "cell_type": "code",
   "execution_count": 111,
   "id": "7f6da215-1bb2-4e7b-ad43-ae36f475db29",
   "metadata": {
    "panel-layout": {
     "height": 27.140625,
     "visible": true,
     "width": 100
    }
   },
   "outputs": [
    {
     "data": {
      "text/plain": [
       "2.0"
      ]
     },
     "execution_count": 111,
     "metadata": {},
     "output_type": "execute_result"
    }
   ],
   "source": [
    "c.media()"
   ]
  },
  {
   "cell_type": "code",
   "execution_count": 112,
   "id": "444758cb-d22e-4438-bf83-22c2bffe813a",
   "metadata": {
    "panel-layout": {
     "height": 27.140625,
     "visible": true,
     "width": 100
    }
   },
   "outputs": [
    {
     "data": {
      "text/plain": [
       "1"
      ]
     },
     "execution_count": 112,
     "metadata": {},
     "output_type": "execute_result"
    }
   ],
   "source": [
    "c.minimo()"
   ]
  },
  {
   "cell_type": "code",
   "execution_count": 113,
   "id": "b8c51c9f-08b2-42ac-849e-fc538313f23c",
   "metadata": {
    "panel-layout": {
     "height": 27.140625,
     "visible": true,
     "width": 100
    }
   },
   "outputs": [
    {
     "data": {
      "text/plain": [
       "3"
      ]
     },
     "execution_count": 113,
     "metadata": {},
     "output_type": "execute_result"
    }
   ],
   "source": [
    "c.maximo()"
   ]
  },
  {
   "cell_type": "code",
   "execution_count": 114,
   "id": "dd000a41-c710-4e2c-85c2-a2833fef5270",
   "metadata": {},
   "outputs": [
    {
     "data": {
      "text/plain": [
       "2"
      ]
     },
     "execution_count": 114,
     "metadata": {},
     "output_type": "execute_result"
    }
   ],
   "source": [
    "c.rango()"
   ]
  },
  {
   "cell_type": "code",
   "execution_count": 115,
   "id": "9aa2ca98-66b9-4797-934b-09da97e6ce65",
   "metadata": {
    "editable": true,
    "panel-layout": {
     "height": 27.140625,
     "visible": true,
     "width": 100
    },
    "slideshow": {
     "slide_type": ""
    },
    "tags": []
   },
   "outputs": [
    {
     "data": {
      "text/plain": [
       "2"
      ]
     },
     "execution_count": 115,
     "metadata": {},
     "output_type": "execute_result"
    }
   ],
   "source": [
    "c.mediana()"
   ]
  },
  {
   "cell_type": "code",
   "execution_count": 116,
   "id": "8139d38b-c78e-4a89-9332-8d59ce358121",
   "metadata": {
    "panel-layout": {
     "height": 0,
     "visible": true,
     "width": 100
    }
   },
   "outputs": [
    {
     "name": "stdout",
     "output_type": "stream",
     "text": [
      "v1\n",
      "[1, 2, 3]\n"
     ]
    }
   ],
   "source": [
    "print(c)"
   ]
  },
  {
   "cell_type": "code",
   "execution_count": 117,
   "id": "b3079f7b-e7fe-4f9c-bab9-faa9ca8bd01c",
   "metadata": {
    "panel-layout": {
     "height": 0,
     "visible": true,
     "width": 100
    }
   },
   "outputs": [],
   "source": [
    "c.set_nombre('v')"
   ]
  },
  {
   "cell_type": "code",
   "execution_count": 118,
   "id": "8cb75700-ba2b-41a2-aae4-01566daedb05",
   "metadata": {
    "panel-layout": {
     "height": 0,
     "visible": true,
     "width": 100
    }
   },
   "outputs": [
    {
     "name": "stdout",
     "output_type": "stream",
     "text": [
      "v\n",
      "[1, 2, 3]\n"
     ]
    }
   ],
   "source": [
    "print(c)"
   ]
  },
  {
   "cell_type": "markdown",
   "id": "ab073bf4-4103-46af-9c06-9fc2f5d0724e",
   "metadata": {},
   "source": [
    "## Tests datos hardcodeados"
   ]
  },
  {
   "cell_type": "code",
   "execution_count": 14,
   "id": "ca6b3148-55e0-443b-a3f6-b8f5c619338e",
   "metadata": {},
   "outputs": [],
   "source": [
    "import unittest"
   ]
  },
  {
   "cell_type": "code",
   "execution_count": 29,
   "id": "2cda4d22-7329-41e6-af29-49e8dba786a3",
   "metadata": {},
   "outputs": [
    {
     "name": "stderr",
     "output_type": "stream",
     "text": [
      "test_maximo (__main__.TestNombreCuanti.test_maximo) ... ok\n",
      "test_media (__main__.TestNombreCuanti.test_media) ... ok\n",
      "test_media2 (__main__.TestNombreCuanti.test_media2) ... ok\n",
      "test_mediana (__main__.TestNombreCuanti.test_mediana) ... ok\n",
      "test_mediana2 (__main__.TestNombreCuanti.test_mediana2) ... ok\n",
      "test_minimo (__main__.TestNombreCuanti.test_minimo) ... ok\n",
      "test_nombre (__main__.TestNombreCuanti.test_nombre) ... ok\n",
      "test_nombre_nuevo (__main__.TestNombreCuanti.test_nombre_nuevo) ... ok\n",
      "\n",
      "----------------------------------------------------------------------\n",
      "Ran 8 tests in 0.015s\n",
      "\n",
      "OK\n"
     ]
    },
    {
     "data": {
      "text/plain": [
       "<unittest.main.TestProgram at 0x136757680>"
      ]
     },
     "execution_count": 29,
     "metadata": {},
     "output_type": "execute_result"
    }
   ],
   "source": [
    "class TestNombreCuanti(unittest.TestCase):\n",
    "\n",
    "    def setUp(self):\n",
    "        self.c = Cuanti('v1', [1, 3, 4])\n",
    "    \n",
    "    def test_nombre(self):\n",
    "        self.assertEqual(self.c.get_nombre(), 'v1')\n",
    "\n",
    "    def test_nombre_nuevo(self):\n",
    "        self.c.set_nombre('cantidades')\n",
    "        self.assertEqual(self.c.get_nombre(), 'cantidades')\n",
    "\n",
    "    def test_media(self):\n",
    "        self.assertEqual(self.c.media(), 8/3)\n",
    "\n",
    "    def test_media2(self):\n",
    "        self.assertEqual(self.c.media2(), 8/3)\n",
    "\n",
    "    def test_minimo(self):\n",
    "        self.assertEqual(self.c.minimo(), 1)\n",
    "\n",
    "    def test_maximo(self):\n",
    "        self.assertEqual(self.c.maximo(), 4)\n",
    "\n",
    "    def test_mediana(self):\n",
    "        self.assertEqual(self.c.mediana(), 3)\n",
    "\n",
    "    def test_mediana2(self):\n",
    "        c2 = Cuanti('v2', [9, 5, 6, 1])\n",
    "        self.assertEqual(c2.mediana(), 5.5)\n",
    "     \n",
    "unittest.main(argv=[''], verbosity=2, exit=False)"
   ]
  },
  {
   "cell_type": "code",
   "execution_count": 120,
   "id": "13396883-ecd0-42be-833a-b1555fceeeaa",
   "metadata": {
    "editable": true,
    "slideshow": {
     "slide_type": ""
    },
    "tags": []
   },
   "outputs": [],
   "source": [
    "class TestCuantiHardCode(unittest.TestCase):\n",
    "\n",
    "    def test_media(self):\n",
    "        self.assertEqual(Cuanti('v', [100, 200, 200, 250, 600]).media(), 270)\n",
    "\n",
    "    def test_mediana_n_impar(self):\n",
    "        self.assertEqual(Cuanti('v', [100, 200, 900, 250, 600]).mediana(), 250)\n",
    "    \n",
    "    def test_mediana_n_par(self):\n",
    "        self.assertEqual(Cuanti('v', [100, 200, 900, 250, 600, 350]).mediana(), 300)\n",
    "\n",
    "    def test_rango(self):\n",
    "        self.assertEqual(Cuanti('v', [100, 200, 200, 250, 600]).rango(), 500)\n",
    "    "
   ]
  },
  {
   "cell_type": "code",
   "execution_count": 121,
   "id": "b0606bb6-b985-4c92-8997-478532dddff3",
   "metadata": {},
   "outputs": [
    {
     "name": "stderr",
     "output_type": "stream",
     "text": [
      "test_media (__main__.TestCuantiFile.test_media) ... ok\n",
      "test_mediana (__main__.TestCuantiFile.test_mediana) ... ok\n",
      "test_rango (__main__.TestCuantiFile.test_rango) ... ok\n",
      "test_media (__main__.TestCuantiHardCode.test_media) ... ok\n",
      "test_mediana_n_impar (__main__.TestCuantiHardCode.test_mediana_n_impar) ... ok\n",
      "test_mediana_n_par (__main__.TestCuantiHardCode.test_mediana_n_par) ... ok\n",
      "test_rango (__main__.TestCuantiHardCode.test_rango) ... ok\n",
      "\n",
      "----------------------------------------------------------------------\n",
      "Ran 7 tests in 0.013s\n",
      "\n",
      "OK\n"
     ]
    },
    {
     "data": {
      "text/plain": [
       "<unittest.main.TestProgram at 0x1398dd8b0>"
      ]
     },
     "execution_count": 121,
     "metadata": {},
     "output_type": "execute_result"
    }
   ],
   "source": [
    "unittest.main(argv=[''], verbosity=2, exit=False)"
   ]
  },
  {
   "cell_type": "markdown",
   "id": "ace4f2c4-6ead-484b-830e-9f84d1e984b7",
   "metadata": {},
   "source": [
    "## Tests datos en files"
   ]
  },
  {
   "cell_type": "code",
   "execution_count": 122,
   "id": "ee0efd41-5f9f-4a39-b177-a8c702d04acd",
   "metadata": {
    "editable": true,
    "slideshow": {
     "slide_type": ""
    },
    "tags": []
   },
   "outputs": [],
   "source": [
    "class TestCuantiFile(unittest.TestCase):\n",
    "\n",
    "    @classmethod\n",
    "    def setUpClass(cls):\n",
    "        fr = open(\"/Users/ppando/Materias/python/proy/cuanti_datos.csv\", 'r')\n",
    "        lista2 = fr.readlines()\n",
    "        fr.close()\n",
    "        cls.datos = []\n",
    "        for elem in lista2:                      \n",
    "            cls.datos.append(int(elem.replace('\\n', '')))\n",
    "        cls.v = Cuanti('v', cls.datos)\n",
    "    \n",
    "    def test_media(self):\n",
    "        self.assertEqual(TestCuantiFile.v.media(), 270)\n",
    "    \n",
    "    def test_mediana(self):\n",
    "        self.assertEqual(TestCuantiFile.v.mediana(), 200)\n",
    "    \n",
    "    def test_rango(self):\n",
    "        self.assertEqual(TestCuantiFile.v.rango(), 500)"
   ]
  },
  {
   "cell_type": "code",
   "execution_count": 123,
   "id": "ea4369cb-1d5c-4c4a-9a49-eb493efb5569",
   "metadata": {},
   "outputs": [
    {
     "name": "stderr",
     "output_type": "stream",
     "text": [
      "test_media (__main__.TestCuantiFile.test_media) ... ok\n",
      "test_mediana (__main__.TestCuantiFile.test_mediana) ... ok\n",
      "test_rango (__main__.TestCuantiFile.test_rango) ... ok\n",
      "test_media (__main__.TestCuantiHardCode.test_media) ... ok\n",
      "test_mediana_n_impar (__main__.TestCuantiHardCode.test_mediana_n_impar) ... ok\n",
      "test_mediana_n_par (__main__.TestCuantiHardCode.test_mediana_n_par) ... ok\n",
      "test_rango (__main__.TestCuantiHardCode.test_rango) ... ok\n",
      "\n",
      "----------------------------------------------------------------------\n",
      "Ran 7 tests in 0.009s\n",
      "\n",
      "OK\n"
     ]
    },
    {
     "data": {
      "text/plain": [
       "<unittest.main.TestProgram at 0x1398dd190>"
      ]
     },
     "execution_count": 123,
     "metadata": {},
     "output_type": "execute_result"
    }
   ],
   "source": [
    "unittest.main(argv=[''], verbosity=2, exit=False)"
   ]
  },
  {
   "cell_type": "markdown",
   "id": "e4869676-b7c4-4ebc-8662-4d9946e49183",
   "metadata": {},
   "source": [
    "## Tests datos en database"
   ]
  },
  {
   "cell_type": "code",
   "execution_count": 124,
   "id": "eb23bbcf-5931-4a70-b6ee-cec6429ba41c",
   "metadata": {},
   "outputs": [],
   "source": [
    "import sqlite3"
   ]
  },
  {
   "cell_type": "code",
   "execution_count": 127,
   "id": "7c83a446-289c-45b5-a26c-ee2385713009",
   "metadata": {},
   "outputs": [],
   "source": [
    "class TestCuantiDatabase(unittest.TestCase):\n",
    "\n",
    "    @classmethod\n",
    "    def setUpClass(cls):\n",
    "        cls.con = sqlite3.connect(\"/Users/ppando/Materias/python/proy/cuanti_datos.db\") # si no existe, la crea\n",
    "        cur = cls.con.cursor()\n",
    "        cur.execute(\"CREATE TABLE datos(id INTEGER PRIMARY KEY AUTOINCREMENT, value INTEGER NOT NULL)\")\n",
    "        cur.execute(\"INSERT INTO datos (value) VALUES (100), (200), (200), (250), (600)\")\n",
    "        cls.con.commit()\n",
    "        cls.datos = []\n",
    "        for row in cur.execute(\"SELECT value FROM datos\"):                      \n",
    "            cls.datos.append(row[0])\n",
    "        cls.v = Cuanti('v', cls.datos)\n",
    "    \n",
    "    def test_media(self):\n",
    "        self.assertEqual(TestCuantiDatabase.v.media(), 270)\n",
    "    \n",
    "    def test_mediana(self):\n",
    "        self.assertEqual(TestCuantiDatabase.v.mediana(), 200)\n",
    "    \n",
    "    def test_rango(self):\n",
    "        self.assertEqual(TestCuantiDatabase.v.rango(), 500)\n",
    "        \n",
    "    @classmethod\n",
    "    def tearDownClass(cls):\n",
    "        cls.con.cursor().execute(\"DROP TABLE datos\")\n",
    "        cls.con.close()"
   ]
  },
  {
   "cell_type": "code",
   "execution_count": 128,
   "id": "210aa9e4-e337-4f1e-b47c-10fed9fae2d8",
   "metadata": {},
   "outputs": [
    {
     "name": "stderr",
     "output_type": "stream",
     "text": [
      "test_media (__main__.TestCuantiDatabase.test_media) ... ok\n",
      "test_mediana (__main__.TestCuantiDatabase.test_mediana) ... ok\n",
      "test_rango (__main__.TestCuantiDatabase.test_rango) ... ok\n",
      "test_media (__main__.TestCuantiFile.test_media) ... ok\n",
      "test_mediana (__main__.TestCuantiFile.test_mediana) ... ok\n",
      "test_rango (__main__.TestCuantiFile.test_rango) ... ok\n",
      "test_media (__main__.TestCuantiHardCode.test_media) ... ok\n",
      "test_mediana_n_impar (__main__.TestCuantiHardCode.test_mediana_n_impar) ... ok\n",
      "test_mediana_n_par (__main__.TestCuantiHardCode.test_mediana_n_par) ... ok\n",
      "test_rango (__main__.TestCuantiHardCode.test_rango) ... ok\n",
      "\n",
      "----------------------------------------------------------------------\n",
      "Ran 10 tests in 0.019s\n",
      "\n",
      "OK\n"
     ]
    },
    {
     "data": {
      "text/plain": [
       "<unittest.main.TestProgram at 0x139927050>"
      ]
     },
     "execution_count": 128,
     "metadata": {},
     "output_type": "execute_result"
    }
   ],
   "source": [
    "unittest.main(argv=[''], verbosity=2, exit=False)"
   ]
  }
 ],
 "metadata": {
  "kernelspec": {
   "display_name": "Python [conda env:base] *",
   "language": "python",
   "name": "conda-base-py"
  },
  "language_info": {
   "codemirror_mode": {
    "name": "ipython",
    "version": 3
   },
   "file_extension": ".py",
   "mimetype": "text/x-python",
   "name": "python",
   "nbconvert_exporter": "python",
   "pygments_lexer": "ipython3",
   "version": "3.12.7"
  },
  "panel-cell-order": [
   "9345a437-8a13-45ab-812f-3ab58a85a435",
   "7f6da215-1bb2-4e7b-ad43-ae36f475db29",
   "444758cb-d22e-4438-bf83-22c2bffe813a",
   "b8c51c9f-08b2-42ac-849e-fc538313f23c",
   "9aa2ca98-66b9-4797-934b-09da97e6ce65",
   "8139d38b-c78e-4a89-9332-8d59ce358121",
   "b3079f7b-e7fe-4f9c-bab9-faa9ca8bd01c",
   "8cb75700-ba2b-41a2-aae4-01566daedb05"
  ]
 },
 "nbformat": 4,
 "nbformat_minor": 5
}
